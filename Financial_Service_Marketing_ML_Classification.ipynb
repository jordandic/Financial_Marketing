{
 "cells": [
  {
   "cell_type": "markdown",
   "metadata": {},
   "source": [
    "# Classification with Bank Data\n",
    "<b>Goal:</b> Using the bank-additional-full.csv file, correctly predict whether or not a customer will subscribe to a loan deposit."
   ]
  },
  {
   "cell_type": "markdown",
   "metadata": {},
   "source": [
    "## Descriptive information for the study and the dataset:\n",
    "<b>Link:</b> http://archive.ics.uci.edu/ml/datasets/Bank+Marketing <br>\n",
    "<br><b>Study Implications:</b> There are two datasets containing all the instances. bank-full.csv is the chosen one to develop our model since it focuses on information which is less dependent on macro-economic factors. The reasoning behind this is that macro-economic factors will likely dictate how much the bank should scale up or down marketing spend, but it should not be the basis for determining who should be included in the target market. Macro-economic factors are relatively unpredictable and shouldn't necessarily be the basis of developing a target market in any company's overall marketing strategy. Instead, for the purposes of this study, only personal demographic information is used. Furthermore, other demographic information, like 'job' and 'loan,' may be sufficient in reflecting the current implications of the macro-environment on the individual at the micro-level, which is what this study focuses on. In a regression model, the macro-level factors for social and economic context would be included. The ultimate implication of this classification study is to determine which customers are most likely to subscribe to a loan deposit, and therefore how the company ought to select its target market, and how to position its loan products to that cohort. Ultimately, this study will aid the bank in developing it's marketing strategy including decisions related to product, price, place, and promotions. <br>\n",
    "<br>\n",
    "<br>\n",
    "### Data Description: \n",
    "#### Input Variables:\n",
    "><b>Demographic Variables:</b> <br>\n",
    ">1 - age (numeric)<br>\n",
    "2 - job : type of job (categorical: 'admin.','blue- collar','entrepreneur','housemaid','management','retired','self-employed','services','student','technician','unemployed','unknown') <br>\n",
    "3 - marital : marital status (categorical: 'divorced','married','single','unknown'; note: 'divorced' means divorced or widowed) <br>\n",
    "4 - education (categorical: 'basic.4y','basic.6y','basic.9y','high.school','illiterate','professional.course','university.degree','unknown') <br>\n",
    "5 - default: has credit in default? (categorical: 'no','yes','unknown') <br>\n",
    "6 - housing: has housing loan? (categorical: 'no','yes','unknown') <br>\n",
    "7 - loan: has personal loan? (categorical: 'no','yes','unknown') <br>\n",
    "><b>Last Contact from the Current Campaign Variables:</b> <br>\n",
    "8 - contact: contact communication type (categorical: 'cellular','telephone')<br>\n",
    "9 - month: last contact month of year (categorical: 'jan', 'feb', 'mar', ..., 'nov', 'dec')<br>\n",
    "10 - day_of_week: last contact day of the week (categorical: 'mon','tue','wed','thu','fri')<br>\n",
    "11 - duration: last contact duration, in seconds (numeric). Important note: this attribute highly affects the output target (e.g., if duration=0 then y='no'). Yet, the duration is not known before a call is performed. Also, after the end of the call y is obviously known. Thus, this input should only be included for benchmark purposes and should be discarded if the intention is to have a realistic predictive model.<br>\n",
    "><b>Other Attribute Variables:</b> <br>\n",
    "12 - campaign: number of contacts performed during this campaign and for this client (numeric, includes last contact) <br>\n",
    "13 - pdays: number of days that passed by after the client was last contacted from a previous campaign (numeric; 999 means client was not previously contacted) <br>\n",
    "14 - previous: number of contacts performed before this campaign and for this client (numeric)<br>\n",
    "15 - poutcome: outcome of the previous marketing campaign (categorical: 'failure','nonexistent','success')<br>\n",
    "<br>\n",
    "#### Output variable (Target Variable):\n",
    ">16 - y - has the client subscribed a term deposit? (binary: 'yes','no') <br>\n",
    "\n",
    "#### Omitted Variables:\n",
    "><b>Social and Economic Context Variables:</b> <br>\n",
    "> - emp.var.rate: employment variation rate - quarterly indicator (numeric) <br>\n",
    "> - cons.price.idx: consumer price index - monthly indicator (numeric) <br>\n",
    "> - cons.conf.idx: consumer confidence index - monthly indicator (numeric) <br>\n",
    "> - euribor3m: euribor 3 month rate - daily indicator (numeric) <br>\n",
    "> - nr.employed: number of employees - quarterly indicator (numeric) <br>\n",
    "<br>\n"
   ]
  },
  {
   "cell_type": "markdown",
   "metadata": {},
   "source": [
    "## What is a term deposit?\n",
    ">A term deposit is a hybrid bank account and investment account. It is similar to a bond which yields a relatively low interest rate, but normally has short maturity dates compared to bonds, thereby making them more accessable as cash in the near future. Term deposits will normally mature between one month and a couple years while some bonds can mature in decades. The best example of a term deposit is a CD, or Certificate of Deposit. These instruments are very useful for banks because they provide more dependability of deposits.\n",
    "### Why is dependability of deposits important for banks?\n",
    ">Have you ever heard of a run on a bank? The Great Depression of the early 1900's was partly caused by a nationwide financial scare where everyone was trying to get their money out of the banking system at once. This was detrimental to banks, and is an issue which modern day bank regulators (OCC, Federal Reserve, and local authorities) scrutinize heavily to prevent such economic fallout from ever occurring again. Banks must keep a sufficient amount of money in reserves for both bad loan expenses (defaults) and to meet the withdrawal needs of their customers, or depositors. If there are not sufficient reserves in a bank to meet both of those requirements, and other expenses of the bank, then that bank could fail. So, besides just simply holding a sufficient amount of cash in reserves with cushion, banks can also use term deposits to ensure that those reserves are more stable. Higher quality deposits are an effective means of reducing the overall risk of a bank's loan portfolio, or balance sheet. Essentially, term deposits offer higher rates to depositors, but the catch is that the term deposit cannot be withdrawn for a period of time. If it is withdrawn early, there will be a penalty imposed. In conclusion, term deposits, or CDs, are an important way for banks to reduce risk, and it is important for them to effectively target customers who may be interested in such securities. "
   ]
  },
  {
   "cell_type": "markdown",
   "metadata": {},
   "source": [
    "### Locate bank-additional-full.csv in working directory:"
   ]
  },
  {
   "cell_type": "code",
   "execution_count": 1,
   "metadata": {},
   "outputs": [],
   "source": [
    "#pip install os_sys"
   ]
  },
  {
   "cell_type": "code",
   "execution_count": 2,
   "metadata": {},
   "outputs": [
    {
     "name": "stdout",
     "output_type": "stream",
     "text": [
      "/Users/jordandick/Documents/6341 - Applied ML/project 2\n"
     ]
    }
   ],
   "source": [
    "import os\n",
    "cwd = os.getcwd()\n",
    "print(cwd)"
   ]
  },
  {
   "cell_type": "markdown",
   "metadata": {},
   "source": [
    "### List of files in current working directory:"
   ]
  },
  {
   "cell_type": "code",
   "execution_count": 3,
   "metadata": {},
   "outputs": [
    {
     "data": {
      "text/plain": [
       "['rough_final_Project2_Regression_Group4_Gautam_Dick.ipynb',\n",
       " 'Financial_Service_Marketing_ML_Classification.ipynb',\n",
       " '.DS_Store',\n",
       " 'Project2_Regression_Group4_Gautam_Dick.ipynb',\n",
       " 'Intermediate-Project2_Regression_Group4_Gautam_Dick.ipynb',\n",
       " 'Financial_Service_Marketing_Classification.ipynb',\n",
       " 'bank_data_new.csv',\n",
       " 'Project2_Classification_Group4_Gautam_Dick.ipynb',\n",
       " 'Project2_Group08_Zhang_ShahabiNejad',\n",
       " '.ipynb_checkpoints',\n",
       " 'Almost_done_Classification_Project2.ipynb',\n",
       " 'bank-additional-full.csv',\n",
       " 'AB_NYC_2019.csv',\n",
       " 'Project2_Group08_Zhang_ShahabiNejad.zip']"
      ]
     },
     "execution_count": 3,
     "metadata": {},
     "output_type": "execute_result"
    }
   ],
   "source": [
    "os.listdir()"
   ]
  },
  {
   "cell_type": "markdown",
   "metadata": {},
   "source": [
    "### Exploratory Analysis of original bank-additional-full.csv:"
   ]
  },
  {
   "cell_type": "code",
   "execution_count": 4,
   "metadata": {},
   "outputs": [
    {
     "data": {
      "text/plain": [
       "pandas.core.frame.DataFrame"
      ]
     },
     "execution_count": 4,
     "metadata": {},
     "output_type": "execute_result"
    }
   ],
   "source": [
    "import pandas as pd\n",
    "df = pd.read_csv(str(cwd)+'/'+'bank-additional-full.csv', sep=';', header=0)\n",
    "type(df)"
   ]
  },
  {
   "cell_type": "code",
   "execution_count": 5,
   "metadata": {},
   "outputs": [
    {
     "data": {
      "text/plain": [
       "no     36548\n",
       "yes     4640\n",
       "Name: y, dtype: int64"
      ]
     },
     "execution_count": 5,
     "metadata": {},
     "output_type": "execute_result"
    }
   ],
   "source": [
    "df.y.value_counts()"
   ]
  },
  {
   "cell_type": "code",
   "execution_count": 6,
   "metadata": {},
   "outputs": [],
   "source": [
    "df=df.sample(20000)"
   ]
  },
  {
   "cell_type": "code",
   "execution_count": 7,
   "metadata": {},
   "outputs": [],
   "source": [
    "# delete this \n",
    "#df=df.sample(500)\n",
    "\n",
    "\n"
   ]
  },
  {
   "cell_type": "markdown",
   "metadata": {},
   "source": [
    "> drop macro-related variables"
   ]
  },
  {
   "cell_type": "code",
   "execution_count": 8,
   "metadata": {},
   "outputs": [
    {
     "name": "stdout",
     "output_type": "stream",
     "text": [
      "<class 'pandas.core.frame.DataFrame'>\n",
      "Int64Index: 20000 entries, 36094 to 20902\n",
      "Data columns (total 16 columns):\n",
      " #   Column       Non-Null Count  Dtype \n",
      "---  ------       --------------  ----- \n",
      " 0   age          20000 non-null  int64 \n",
      " 1   job          20000 non-null  object\n",
      " 2   marital      20000 non-null  object\n",
      " 3   education    20000 non-null  object\n",
      " 4   default      20000 non-null  object\n",
      " 5   housing      20000 non-null  object\n",
      " 6   loan         20000 non-null  object\n",
      " 7   contact      20000 non-null  object\n",
      " 8   month        20000 non-null  object\n",
      " 9   day_of_week  20000 non-null  object\n",
      " 10  duration     20000 non-null  int64 \n",
      " 11  campaign     20000 non-null  int64 \n",
      " 12  pdays        20000 non-null  int64 \n",
      " 13  previous     20000 non-null  int64 \n",
      " 14  poutcome     20000 non-null  object\n",
      " 15  y            20000 non-null  object\n",
      "dtypes: int64(5), object(11)\n",
      "memory usage: 2.6+ MB\n"
     ]
    }
   ],
   "source": [
    "macro_lst = ['emp.var.rate','cons.price.idx','cons.conf.idx','euribor3m','nr.employed']\n",
    "\n",
    "for i in macro_lst:\n",
    "    df.drop([i], axis=1, inplace=True)\n",
    "\n",
    "df.info()"
   ]
  },
  {
   "cell_type": "markdown",
   "metadata": {},
   "source": [
    "# Practice with data imputation strategies"
   ]
  },
  {
   "cell_type": "markdown",
   "metadata": {},
   "source": [
    ">none of the data is nan, so 5% of the values will be randomly imputed as np.nan values"
   ]
  },
  {
   "cell_type": "code",
   "execution_count": 9,
   "metadata": {},
   "outputs": [],
   "source": [
    "import numpy as np\n",
    "import pandas as pd\n",
    "import seaborn as sns\n",
    "from sklearn.metrics import roc_auc_score"
   ]
  },
  {
   "cell_type": "markdown",
   "metadata": {},
   "source": [
    ">set random seed for reproducibility"
   ]
  },
  {
   "cell_type": "code",
   "execution_count": 10,
   "metadata": {},
   "outputs": [],
   "source": [
    "np.random.seed(100)"
   ]
  },
  {
   "cell_type": "code",
   "execution_count": 11,
   "metadata": {},
   "outputs": [
    {
     "data": {
      "text/plain": [
       "(20000, 16)"
      ]
     },
     "execution_count": 11,
     "metadata": {},
     "output_type": "execute_result"
    }
   ],
   "source": [
    "nan_mat = np.random.random(df.shape)<0.05\n",
    "nan_mat.shape"
   ]
  },
  {
   "cell_type": "code",
   "execution_count": 12,
   "metadata": {},
   "outputs": [
    {
     "data": {
      "text/plain": [
       "16058"
      ]
     },
     "execution_count": 12,
     "metadata": {},
     "output_type": "execute_result"
    }
   ],
   "source": [
    "# of nans\n",
    "n = nan_mat.sum()\n",
    "n"
   ]
  },
  {
   "cell_type": "code",
   "execution_count": 13,
   "metadata": {},
   "outputs": [
    {
     "data": {
      "text/plain": [
       "0.024366927260367096"
      ]
     },
     "execution_count": 13,
     "metadata": {},
     "output_type": "execute_result"
    }
   ],
   "source": [
    "# approximately 5% of the dataset will be set to nan\n",
    "n/(41188*16)"
   ]
  },
  {
   "cell_type": "code",
   "execution_count": 14,
   "metadata": {},
   "outputs": [
    {
     "name": "stdout",
     "output_type": "stream",
     "text": [
      "<class 'pandas.core.frame.DataFrame'>\n",
      "Int64Index: 20000 entries, 36094 to 20902\n",
      "Data columns (total 16 columns):\n",
      " #   Column       Non-Null Count  Dtype  \n",
      "---  ------       --------------  -----  \n",
      " 0   age          19000 non-null  float64\n",
      " 1   job          18989 non-null  object \n",
      " 2   marital      18998 non-null  object \n",
      " 3   education    18993 non-null  object \n",
      " 4   default      18991 non-null  object \n",
      " 5   housing      18998 non-null  object \n",
      " 6   loan         19035 non-null  object \n",
      " 7   contact      18971 non-null  object \n",
      " 8   month        19068 non-null  object \n",
      " 9   day_of_week  18991 non-null  object \n",
      " 10  duration     18942 non-null  float64\n",
      " 11  campaign     18956 non-null  float64\n",
      " 12  pdays        19051 non-null  float64\n",
      " 13  previous     18991 non-null  float64\n",
      " 14  poutcome     18962 non-null  object \n",
      " 15  y            19006 non-null  object \n",
      "dtypes: float64(5), object(11)\n",
      "memory usage: 2.6+ MB\n"
     ]
    }
   ],
   "source": [
    "dfn = df.mask(nan_mat)\n",
    "dfn.info()"
   ]
  },
  {
   "cell_type": "code",
   "execution_count": 15,
   "metadata": {},
   "outputs": [
    {
     "name": "stdout",
     "output_type": "stream",
     "text": [
      "0.05018125\n"
     ]
    }
   ],
   "source": [
    "# 5% of new data frame is nan\n",
    "\n",
    "nnan = dfn.isnull().sum().sum()\n",
    "ntot = dfn.shape[1]*dfn.shape[0]\n",
    "percent_nan = nnan/ntot\n",
    "\n",
    "print(percent_nan)"
   ]
  },
  {
   "cell_type": "markdown",
   "metadata": {},
   "source": [
    "### Export new copy of data with 5% NaN\n",
    "><b>Named:</b> bank_data_new.csv"
   ]
  },
  {
   "cell_type": "code",
   "execution_count": 16,
   "metadata": {},
   "outputs": [],
   "source": [
    "dfn.to_csv('bank_data_new.csv')"
   ]
  },
  {
   "cell_type": "markdown",
   "metadata": {},
   "source": [
    "# Data Preprocessing and Preparation for ML Classification Algorithms:"
   ]
  },
  {
   "cell_type": "code",
   "execution_count": 17,
   "metadata": {},
   "outputs": [
    {
     "name": "stdout",
     "output_type": "stream",
     "text": [
      "<class 'pandas.core.frame.DataFrame'>\n",
      "Int64Index: 20000 entries, 36094 to 20902\n",
      "Data columns (total 16 columns):\n",
      " #   Column       Non-Null Count  Dtype  \n",
      "---  ------       --------------  -----  \n",
      " 0   age          19000 non-null  float64\n",
      " 1   job          18989 non-null  object \n",
      " 2   marital      18998 non-null  object \n",
      " 3   education    18993 non-null  object \n",
      " 4   default      18991 non-null  object \n",
      " 5   housing      18998 non-null  object \n",
      " 6   loan         19035 non-null  object \n",
      " 7   contact      18971 non-null  object \n",
      " 8   month        19068 non-null  object \n",
      " 9   day_of_week  18991 non-null  object \n",
      " 10  duration     18942 non-null  float64\n",
      " 11  campaign     18956 non-null  float64\n",
      " 12  pdays        19051 non-null  float64\n",
      " 13  previous     18991 non-null  float64\n",
      " 14  poutcome     18962 non-null  object \n",
      " 15  y            19006 non-null  object \n",
      "dtypes: float64(5), object(11)\n",
      "memory usage: 2.6+ MB\n"
     ]
    }
   ],
   "source": [
    "dfn.info()"
   ]
  },
  {
   "cell_type": "markdown",
   "metadata": {},
   "source": [
    "### Data Imputations:"
   ]
  },
  {
   "cell_type": "markdown",
   "metadata": {},
   "source": [
    "> Strategy for imputing age values:"
   ]
  },
  {
   "cell_type": "code",
   "execution_count": 18,
   "metadata": {},
   "outputs": [
    {
     "data": {
      "text/html": [
       "<div>\n",
       "<style scoped>\n",
       "    .dataframe tbody tr th:only-of-type {\n",
       "        vertical-align: middle;\n",
       "    }\n",
       "\n",
       "    .dataframe tbody tr th {\n",
       "        vertical-align: top;\n",
       "    }\n",
       "\n",
       "    .dataframe thead th {\n",
       "        text-align: right;\n",
       "    }\n",
       "</style>\n",
       "<table border=\"1\" class=\"dataframe\">\n",
       "  <thead>\n",
       "    <tr style=\"text-align: right;\">\n",
       "      <th></th>\n",
       "      <th>age</th>\n",
       "      <th>marital</th>\n",
       "      <th>education</th>\n",
       "      <th>default</th>\n",
       "      <th>housing</th>\n",
       "      <th>loan</th>\n",
       "      <th>contact</th>\n",
       "      <th>month</th>\n",
       "      <th>day_of_week</th>\n",
       "      <th>duration</th>\n",
       "      <th>campaign</th>\n",
       "      <th>pdays</th>\n",
       "      <th>previous</th>\n",
       "      <th>poutcome</th>\n",
       "      <th>y</th>\n",
       "    </tr>\n",
       "    <tr>\n",
       "      <th>job</th>\n",
       "      <th></th>\n",
       "      <th></th>\n",
       "      <th></th>\n",
       "      <th></th>\n",
       "      <th></th>\n",
       "      <th></th>\n",
       "      <th></th>\n",
       "      <th></th>\n",
       "      <th></th>\n",
       "      <th></th>\n",
       "      <th></th>\n",
       "      <th></th>\n",
       "      <th></th>\n",
       "      <th></th>\n",
       "      <th></th>\n",
       "    </tr>\n",
       "  </thead>\n",
       "  <tbody>\n",
       "    <tr>\n",
       "      <th>admin.</th>\n",
       "      <td>32</td>\n",
       "      <td>married</td>\n",
       "      <td>university.degree</td>\n",
       "      <td>no</td>\n",
       "      <td>yes</td>\n",
       "      <td>no</td>\n",
       "      <td>cellular</td>\n",
       "      <td>may</td>\n",
       "      <td>fri</td>\n",
       "      <td>72</td>\n",
       "      <td>1.0</td>\n",
       "      <td>999.0</td>\n",
       "      <td>0.0</td>\n",
       "      <td>nonexistent</td>\n",
       "      <td>no</td>\n",
       "    </tr>\n",
       "    <tr>\n",
       "      <th>blue-collar</th>\n",
       "      <td>36</td>\n",
       "      <td>married</td>\n",
       "      <td>basic.9y</td>\n",
       "      <td>no</td>\n",
       "      <td>yes</td>\n",
       "      <td>no</td>\n",
       "      <td>cellular</td>\n",
       "      <td>may</td>\n",
       "      <td>[mon, wed]</td>\n",
       "      <td>[36.0, 119.0, 136.0]</td>\n",
       "      <td>1.0</td>\n",
       "      <td>999.0</td>\n",
       "      <td>0.0</td>\n",
       "      <td>nonexistent</td>\n",
       "      <td>no</td>\n",
       "    </tr>\n",
       "    <tr>\n",
       "      <th>entrepreneur</th>\n",
       "      <td>36</td>\n",
       "      <td>married</td>\n",
       "      <td>university.degree</td>\n",
       "      <td>no</td>\n",
       "      <td>yes</td>\n",
       "      <td>no</td>\n",
       "      <td>cellular</td>\n",
       "      <td>may</td>\n",
       "      <td>thu</td>\n",
       "      <td>85</td>\n",
       "      <td>1.0</td>\n",
       "      <td>999.0</td>\n",
       "      <td>0.0</td>\n",
       "      <td>nonexistent</td>\n",
       "      <td>no</td>\n",
       "    </tr>\n",
       "    <tr>\n",
       "      <th>housemaid</th>\n",
       "      <td>[36.0, 39.0]</td>\n",
       "      <td>married</td>\n",
       "      <td>basic.4y</td>\n",
       "      <td>no</td>\n",
       "      <td>yes</td>\n",
       "      <td>no</td>\n",
       "      <td>cellular</td>\n",
       "      <td>may</td>\n",
       "      <td>tue</td>\n",
       "      <td>[66.0, 86.0, 126.0, 135.0]</td>\n",
       "      <td>1.0</td>\n",
       "      <td>999.0</td>\n",
       "      <td>0.0</td>\n",
       "      <td>nonexistent</td>\n",
       "      <td>no</td>\n",
       "    </tr>\n",
       "    <tr>\n",
       "      <th>management</th>\n",
       "      <td>43</td>\n",
       "      <td>married</td>\n",
       "      <td>university.degree</td>\n",
       "      <td>no</td>\n",
       "      <td>yes</td>\n",
       "      <td>no</td>\n",
       "      <td>cellular</td>\n",
       "      <td>may</td>\n",
       "      <td>mon</td>\n",
       "      <td>[121.0, 175.0]</td>\n",
       "      <td>1.0</td>\n",
       "      <td>999.0</td>\n",
       "      <td>0.0</td>\n",
       "      <td>nonexistent</td>\n",
       "      <td>no</td>\n",
       "    </tr>\n",
       "    <tr>\n",
       "      <th>retired</th>\n",
       "      <td>58</td>\n",
       "      <td>married</td>\n",
       "      <td>basic.4y</td>\n",
       "      <td>no</td>\n",
       "      <td>yes</td>\n",
       "      <td>no</td>\n",
       "      <td>cellular</td>\n",
       "      <td>may</td>\n",
       "      <td>wed</td>\n",
       "      <td>188</td>\n",
       "      <td>1.0</td>\n",
       "      <td>999.0</td>\n",
       "      <td>0.0</td>\n",
       "      <td>nonexistent</td>\n",
       "      <td>no</td>\n",
       "    </tr>\n",
       "    <tr>\n",
       "      <th>self-employed</th>\n",
       "      <td>30</td>\n",
       "      <td>married</td>\n",
       "      <td>university.degree</td>\n",
       "      <td>no</td>\n",
       "      <td>yes</td>\n",
       "      <td>no</td>\n",
       "      <td>cellular</td>\n",
       "      <td>may</td>\n",
       "      <td>thu</td>\n",
       "      <td>[85.0, 104.0, 139.0]</td>\n",
       "      <td>1.0</td>\n",
       "      <td>999.0</td>\n",
       "      <td>0.0</td>\n",
       "      <td>nonexistent</td>\n",
       "      <td>no</td>\n",
       "    </tr>\n",
       "    <tr>\n",
       "      <th>services</th>\n",
       "      <td>31</td>\n",
       "      <td>married</td>\n",
       "      <td>high.school</td>\n",
       "      <td>no</td>\n",
       "      <td>yes</td>\n",
       "      <td>no</td>\n",
       "      <td>cellular</td>\n",
       "      <td>may</td>\n",
       "      <td>thu</td>\n",
       "      <td>[88.0, 158.0, 178.0, 185.0]</td>\n",
       "      <td>1.0</td>\n",
       "      <td>999.0</td>\n",
       "      <td>0.0</td>\n",
       "      <td>nonexistent</td>\n",
       "      <td>no</td>\n",
       "    </tr>\n",
       "    <tr>\n",
       "      <th>student</th>\n",
       "      <td>24</td>\n",
       "      <td>single</td>\n",
       "      <td>high.school</td>\n",
       "      <td>no</td>\n",
       "      <td>yes</td>\n",
       "      <td>no</td>\n",
       "      <td>cellular</td>\n",
       "      <td>may</td>\n",
       "      <td>tue</td>\n",
       "      <td>[131.0, 137.0]</td>\n",
       "      <td>1.0</td>\n",
       "      <td>999.0</td>\n",
       "      <td>0.0</td>\n",
       "      <td>nonexistent</td>\n",
       "      <td>no</td>\n",
       "    </tr>\n",
       "    <tr>\n",
       "      <th>technician</th>\n",
       "      <td>34</td>\n",
       "      <td>married</td>\n",
       "      <td>professional.course</td>\n",
       "      <td>no</td>\n",
       "      <td>yes</td>\n",
       "      <td>no</td>\n",
       "      <td>cellular</td>\n",
       "      <td>may</td>\n",
       "      <td>thu</td>\n",
       "      <td>76</td>\n",
       "      <td>1.0</td>\n",
       "      <td>999.0</td>\n",
       "      <td>0.0</td>\n",
       "      <td>nonexistent</td>\n",
       "      <td>no</td>\n",
       "    </tr>\n",
       "    <tr>\n",
       "      <th>unemployed</th>\n",
       "      <td>39</td>\n",
       "      <td>married</td>\n",
       "      <td>high.school</td>\n",
       "      <td>no</td>\n",
       "      <td>yes</td>\n",
       "      <td>no</td>\n",
       "      <td>cellular</td>\n",
       "      <td>may</td>\n",
       "      <td>thu</td>\n",
       "      <td>76</td>\n",
       "      <td>1.0</td>\n",
       "      <td>999.0</td>\n",
       "      <td>0.0</td>\n",
       "      <td>nonexistent</td>\n",
       "      <td>no</td>\n",
       "    </tr>\n",
       "    <tr>\n",
       "      <th>unknown</th>\n",
       "      <td>45</td>\n",
       "      <td>married</td>\n",
       "      <td>unknown</td>\n",
       "      <td>no</td>\n",
       "      <td>yes</td>\n",
       "      <td>no</td>\n",
       "      <td>cellular</td>\n",
       "      <td>may</td>\n",
       "      <td>mon</td>\n",
       "      <td>[94.0, 133.0, 154.0, 258.0]</td>\n",
       "      <td>1.0</td>\n",
       "      <td>999.0</td>\n",
       "      <td>0.0</td>\n",
       "      <td>nonexistent</td>\n",
       "      <td>no</td>\n",
       "    </tr>\n",
       "  </tbody>\n",
       "</table>\n",
       "</div>"
      ],
      "text/plain": [
       "                        age  marital            education default housing  \\\n",
       "job                                                                         \n",
       "admin.                   32  married    university.degree      no     yes   \n",
       "blue-collar              36  married             basic.9y      no     yes   \n",
       "entrepreneur             36  married    university.degree      no     yes   \n",
       "housemaid      [36.0, 39.0]  married             basic.4y      no     yes   \n",
       "management               43  married    university.degree      no     yes   \n",
       "retired                  58  married             basic.4y      no     yes   \n",
       "self-employed            30  married    university.degree      no     yes   \n",
       "services                 31  married          high.school      no     yes   \n",
       "student                  24   single          high.school      no     yes   \n",
       "technician               34  married  professional.course      no     yes   \n",
       "unemployed               39  married          high.school      no     yes   \n",
       "unknown                  45  married              unknown      no     yes   \n",
       "\n",
       "              loan   contact month day_of_week                     duration  \\\n",
       "job                                                                           \n",
       "admin.          no  cellular   may         fri                           72   \n",
       "blue-collar     no  cellular   may  [mon, wed]         [36.0, 119.0, 136.0]   \n",
       "entrepreneur    no  cellular   may         thu                           85   \n",
       "housemaid       no  cellular   may         tue   [66.0, 86.0, 126.0, 135.0]   \n",
       "management      no  cellular   may         mon               [121.0, 175.0]   \n",
       "retired         no  cellular   may         wed                          188   \n",
       "self-employed   no  cellular   may         thu         [85.0, 104.0, 139.0]   \n",
       "services        no  cellular   may         thu  [88.0, 158.0, 178.0, 185.0]   \n",
       "student         no  cellular   may         tue               [131.0, 137.0]   \n",
       "technician      no  cellular   may         thu                           76   \n",
       "unemployed      no  cellular   may         thu                           76   \n",
       "unknown         no  cellular   may         mon  [94.0, 133.0, 154.0, 258.0]   \n",
       "\n",
       "               campaign  pdays  previous     poutcome   y  \n",
       "job                                                        \n",
       "admin.              1.0  999.0       0.0  nonexistent  no  \n",
       "blue-collar         1.0  999.0       0.0  nonexistent  no  \n",
       "entrepreneur        1.0  999.0       0.0  nonexistent  no  \n",
       "housemaid           1.0  999.0       0.0  nonexistent  no  \n",
       "management          1.0  999.0       0.0  nonexistent  no  \n",
       "retired             1.0  999.0       0.0  nonexistent  no  \n",
       "self-employed       1.0  999.0       0.0  nonexistent  no  \n",
       "services            1.0  999.0       0.0  nonexistent  no  \n",
       "student             1.0  999.0       0.0  nonexistent  no  \n",
       "technician          1.0  999.0       0.0  nonexistent  no  \n",
       "unemployed          1.0  999.0       0.0  nonexistent  no  \n",
       "unknown             1.0  999.0       0.0  nonexistent  no  "
      ]
     },
     "execution_count": 18,
     "metadata": {},
     "output_type": "execute_result"
    }
   ],
   "source": [
    "a = pd.DataFrame(dfn.groupby(dfn['job']).agg(pd.Series.mode))\n",
    "a"
   ]
  },
  {
   "cell_type": "markdown",
   "metadata": {},
   "source": [
    "> check if retired, student, and unknown represent a significant number of the total dataset to justify their use in the aggregate to impute values for the age column"
   ]
  },
  {
   "cell_type": "code",
   "execution_count": 19,
   "metadata": {},
   "outputs": [
    {
     "name": "stdout",
     "output_type": "stream",
     "text": [
      "Number of Retirees:\n",
      "810\n",
      "Number of Students:\n",
      "433\n",
      "Number of Unknowns:\n",
      "151\n"
     ]
    }
   ],
   "source": [
    "# number of housemaids\n",
    "print('Number of Retirees:')\n",
    "print(dfn[dfn['job']=='retired'].shape[0])\n",
    "print('Number of Students:')\n",
    "print(dfn[dfn['job']=='student'].shape[0])\n",
    "print('Number of Unknowns:')\n",
    "print(dfn[dfn['job']=='unknown'].shape[0])"
   ]
  },
  {
   "cell_type": "markdown",
   "metadata": {},
   "source": [
    "> Informed Assumption: <br>\n",
    ">There are a sufficient number of observations representing each of the above job descriptions to make strategic data imputations where the missing values will be replaced using the mode for each category. Another assumption is that age is perhaps one of the most valuable demographic pieces of information because it is highly ocrrelated with one's stage in life, and corresponding need for term deposit type products."
   ]
  },
  {
   "cell_type": "code",
   "execution_count": 20,
   "metadata": {},
   "outputs": [],
   "source": [
    "# impute np.nan values in age for the following observations: \n",
    "# housemaid, retired, student, unknown\n",
    "\n",
    "for lab, cont in dfn.iterrows():\n",
    "    age = cont['age']\n",
    "       \n",
    "    if cont['job']=='retired':age =59\n",
    "        \n",
    "    if cont['job']=='student':age=24\n",
    "    \n",
    "    if cont['job']=='unknown':age=45\n",
    "    \n",
    "        \n",
    "    if pd.isnull(cont['age'])==True: dfn.loc[lab,'age'] = age"
   ]
  },
  {
   "cell_type": "markdown",
   "metadata": {},
   "source": [
    "> impute all NaN values"
   ]
  },
  {
   "cell_type": "code",
   "execution_count": 21,
   "metadata": {},
   "outputs": [],
   "source": [
    "# import the rest of the nan values in the dataset with their respective modes\n",
    "colnames = dfn.columns.to_list()\n",
    "\n",
    "for n in colnames:\n",
    "    mode = dfn[n].mode()[0]\n",
    "    dfn[n].fillna(mode, inplace=True)"
   ]
  },
  {
   "cell_type": "code",
   "execution_count": 22,
   "metadata": {},
   "outputs": [
    {
     "data": {
      "text/plain": [
       "age            0\n",
       "job            0\n",
       "marital        0\n",
       "education      0\n",
       "default        0\n",
       "housing        0\n",
       "loan           0\n",
       "contact        0\n",
       "month          0\n",
       "day_of_week    0\n",
       "duration       0\n",
       "campaign       0\n",
       "pdays          0\n",
       "previous       0\n",
       "poutcome       0\n",
       "y              0\n",
       "dtype: int64"
      ]
     },
     "execution_count": 22,
     "metadata": {},
     "output_type": "execute_result"
    }
   ],
   "source": [
    "dfn.isnull().sum()"
   ]
  },
  {
   "cell_type": "markdown",
   "metadata": {},
   "source": [
    "### Preprocessing Data for ML Classification ALgorithms"
   ]
  },
  {
   "cell_type": "code",
   "execution_count": 23,
   "metadata": {},
   "outputs": [
    {
     "data": {
      "text/html": [
       "<div>\n",
       "<style scoped>\n",
       "    .dataframe tbody tr th:only-of-type {\n",
       "        vertical-align: middle;\n",
       "    }\n",
       "\n",
       "    .dataframe tbody tr th {\n",
       "        vertical-align: top;\n",
       "    }\n",
       "\n",
       "    .dataframe thead th {\n",
       "        text-align: right;\n",
       "    }\n",
       "</style>\n",
       "<table border=\"1\" class=\"dataframe\">\n",
       "  <thead>\n",
       "    <tr style=\"text-align: right;\">\n",
       "      <th></th>\n",
       "      <th>age</th>\n",
       "      <th>job</th>\n",
       "      <th>marital</th>\n",
       "      <th>education</th>\n",
       "      <th>default</th>\n",
       "      <th>housing</th>\n",
       "      <th>loan</th>\n",
       "      <th>contact</th>\n",
       "      <th>month</th>\n",
       "      <th>day_of_week</th>\n",
       "      <th>duration</th>\n",
       "      <th>campaign</th>\n",
       "      <th>pdays</th>\n",
       "      <th>previous</th>\n",
       "      <th>poutcome</th>\n",
       "      <th>y</th>\n",
       "    </tr>\n",
       "  </thead>\n",
       "  <tbody>\n",
       "    <tr>\n",
       "      <th>36094</th>\n",
       "      <td>51.0</td>\n",
       "      <td>admin.</td>\n",
       "      <td>divorced</td>\n",
       "      <td>university.degree</td>\n",
       "      <td>no</td>\n",
       "      <td>no</td>\n",
       "      <td>no</td>\n",
       "      <td>cellular</td>\n",
       "      <td>may</td>\n",
       "      <td>tue</td>\n",
       "      <td>91.0</td>\n",
       "      <td>1.0</td>\n",
       "      <td>999.0</td>\n",
       "      <td>0.0</td>\n",
       "      <td>nonexistent</td>\n",
       "      <td>no</td>\n",
       "    </tr>\n",
       "    <tr>\n",
       "      <th>6343</th>\n",
       "      <td>32.0</td>\n",
       "      <td>blue-collar</td>\n",
       "      <td>single</td>\n",
       "      <td>high.school</td>\n",
       "      <td>no</td>\n",
       "      <td>yes</td>\n",
       "      <td>no</td>\n",
       "      <td>telephone</td>\n",
       "      <td>may</td>\n",
       "      <td>tue</td>\n",
       "      <td>72.0</td>\n",
       "      <td>2.0</td>\n",
       "      <td>999.0</td>\n",
       "      <td>0.0</td>\n",
       "      <td>nonexistent</td>\n",
       "      <td>no</td>\n",
       "    </tr>\n",
       "    <tr>\n",
       "      <th>15636</th>\n",
       "      <td>50.0</td>\n",
       "      <td>blue-collar</td>\n",
       "      <td>married</td>\n",
       "      <td>basic.4y</td>\n",
       "      <td>unknown</td>\n",
       "      <td>yes</td>\n",
       "      <td>yes</td>\n",
       "      <td>cellular</td>\n",
       "      <td>jul</td>\n",
       "      <td>mon</td>\n",
       "      <td>140.0</td>\n",
       "      <td>1.0</td>\n",
       "      <td>999.0</td>\n",
       "      <td>0.0</td>\n",
       "      <td>nonexistent</td>\n",
       "      <td>no</td>\n",
       "    </tr>\n",
       "    <tr>\n",
       "      <th>2710</th>\n",
       "      <td>50.0</td>\n",
       "      <td>management</td>\n",
       "      <td>divorced</td>\n",
       "      <td>high.school</td>\n",
       "      <td>unknown</td>\n",
       "      <td>no</td>\n",
       "      <td>no</td>\n",
       "      <td>telephone</td>\n",
       "      <td>may</td>\n",
       "      <td>wed</td>\n",
       "      <td>72.0</td>\n",
       "      <td>7.0</td>\n",
       "      <td>999.0</td>\n",
       "      <td>0.0</td>\n",
       "      <td>nonexistent</td>\n",
       "      <td>no</td>\n",
       "    </tr>\n",
       "    <tr>\n",
       "      <th>27236</th>\n",
       "      <td>34.0</td>\n",
       "      <td>technician</td>\n",
       "      <td>divorced</td>\n",
       "      <td>university.degree</td>\n",
       "      <td>no</td>\n",
       "      <td>no</td>\n",
       "      <td>no</td>\n",
       "      <td>cellular</td>\n",
       "      <td>nov</td>\n",
       "      <td>fri</td>\n",
       "      <td>316.0</td>\n",
       "      <td>3.0</td>\n",
       "      <td>999.0</td>\n",
       "      <td>0.0</td>\n",
       "      <td>nonexistent</td>\n",
       "      <td>yes</td>\n",
       "    </tr>\n",
       "    <tr>\n",
       "      <th>...</th>\n",
       "      <td>...</td>\n",
       "      <td>...</td>\n",
       "      <td>...</td>\n",
       "      <td>...</td>\n",
       "      <td>...</td>\n",
       "      <td>...</td>\n",
       "      <td>...</td>\n",
       "      <td>...</td>\n",
       "      <td>...</td>\n",
       "      <td>...</td>\n",
       "      <td>...</td>\n",
       "      <td>...</td>\n",
       "      <td>...</td>\n",
       "      <td>...</td>\n",
       "      <td>...</td>\n",
       "      <td>...</td>\n",
       "    </tr>\n",
       "    <tr>\n",
       "      <th>16091</th>\n",
       "      <td>38.0</td>\n",
       "      <td>self-employed</td>\n",
       "      <td>single</td>\n",
       "      <td>unknown</td>\n",
       "      <td>no</td>\n",
       "      <td>no</td>\n",
       "      <td>no</td>\n",
       "      <td>cellular</td>\n",
       "      <td>jul</td>\n",
       "      <td>tue</td>\n",
       "      <td>843.0</td>\n",
       "      <td>8.0</td>\n",
       "      <td>999.0</td>\n",
       "      <td>0.0</td>\n",
       "      <td>nonexistent</td>\n",
       "      <td>no</td>\n",
       "    </tr>\n",
       "    <tr>\n",
       "      <th>19389</th>\n",
       "      <td>34.0</td>\n",
       "      <td>admin.</td>\n",
       "      <td>single</td>\n",
       "      <td>university.degree</td>\n",
       "      <td>unknown</td>\n",
       "      <td>no</td>\n",
       "      <td>no</td>\n",
       "      <td>cellular</td>\n",
       "      <td>aug</td>\n",
       "      <td>wed</td>\n",
       "      <td>147.0</td>\n",
       "      <td>1.0</td>\n",
       "      <td>999.0</td>\n",
       "      <td>0.0</td>\n",
       "      <td>nonexistent</td>\n",
       "      <td>no</td>\n",
       "    </tr>\n",
       "    <tr>\n",
       "      <th>29758</th>\n",
       "      <td>34.0</td>\n",
       "      <td>blue-collar</td>\n",
       "      <td>married</td>\n",
       "      <td>basic.9y</td>\n",
       "      <td>no</td>\n",
       "      <td>no</td>\n",
       "      <td>no</td>\n",
       "      <td>cellular</td>\n",
       "      <td>apr</td>\n",
       "      <td>mon</td>\n",
       "      <td>86.0</td>\n",
       "      <td>2.0</td>\n",
       "      <td>999.0</td>\n",
       "      <td>0.0</td>\n",
       "      <td>nonexistent</td>\n",
       "      <td>no</td>\n",
       "    </tr>\n",
       "    <tr>\n",
       "      <th>30138</th>\n",
       "      <td>59.0</td>\n",
       "      <td>retired</td>\n",
       "      <td>divorced</td>\n",
       "      <td>professional.course</td>\n",
       "      <td>no</td>\n",
       "      <td>yes</td>\n",
       "      <td>no</td>\n",
       "      <td>cellular</td>\n",
       "      <td>apr</td>\n",
       "      <td>thu</td>\n",
       "      <td>968.0</td>\n",
       "      <td>1.0</td>\n",
       "      <td>5.0</td>\n",
       "      <td>2.0</td>\n",
       "      <td>failure</td>\n",
       "      <td>yes</td>\n",
       "    </tr>\n",
       "    <tr>\n",
       "      <th>20902</th>\n",
       "      <td>34.0</td>\n",
       "      <td>admin.</td>\n",
       "      <td>married</td>\n",
       "      <td>university.degree</td>\n",
       "      <td>no</td>\n",
       "      <td>no</td>\n",
       "      <td>no</td>\n",
       "      <td>cellular</td>\n",
       "      <td>aug</td>\n",
       "      <td>thu</td>\n",
       "      <td>260.0</td>\n",
       "      <td>6.0</td>\n",
       "      <td>999.0</td>\n",
       "      <td>0.0</td>\n",
       "      <td>nonexistent</td>\n",
       "      <td>no</td>\n",
       "    </tr>\n",
       "  </tbody>\n",
       "</table>\n",
       "<p>20000 rows × 16 columns</p>\n",
       "</div>"
      ],
      "text/plain": [
       "        age            job   marital            education  default housing  \\\n",
       "36094  51.0         admin.  divorced    university.degree       no      no   \n",
       "6343   32.0    blue-collar    single          high.school       no     yes   \n",
       "15636  50.0    blue-collar   married             basic.4y  unknown     yes   \n",
       "2710   50.0     management  divorced          high.school  unknown      no   \n",
       "27236  34.0     technician  divorced    university.degree       no      no   \n",
       "...     ...            ...       ...                  ...      ...     ...   \n",
       "16091  38.0  self-employed    single              unknown       no      no   \n",
       "19389  34.0         admin.    single    university.degree  unknown      no   \n",
       "29758  34.0    blue-collar   married             basic.9y       no      no   \n",
       "30138  59.0        retired  divorced  professional.course       no     yes   \n",
       "20902  34.0         admin.   married    university.degree       no      no   \n",
       "\n",
       "      loan    contact month day_of_week  duration  campaign  pdays  previous  \\\n",
       "36094   no   cellular   may         tue      91.0       1.0  999.0       0.0   \n",
       "6343    no  telephone   may         tue      72.0       2.0  999.0       0.0   \n",
       "15636  yes   cellular   jul         mon     140.0       1.0  999.0       0.0   \n",
       "2710    no  telephone   may         wed      72.0       7.0  999.0       0.0   \n",
       "27236   no   cellular   nov         fri     316.0       3.0  999.0       0.0   \n",
       "...    ...        ...   ...         ...       ...       ...    ...       ...   \n",
       "16091   no   cellular   jul         tue     843.0       8.0  999.0       0.0   \n",
       "19389   no   cellular   aug         wed     147.0       1.0  999.0       0.0   \n",
       "29758   no   cellular   apr         mon      86.0       2.0  999.0       0.0   \n",
       "30138   no   cellular   apr         thu     968.0       1.0    5.0       2.0   \n",
       "20902   no   cellular   aug         thu     260.0       6.0  999.0       0.0   \n",
       "\n",
       "          poutcome    y  \n",
       "36094  nonexistent   no  \n",
       "6343   nonexistent   no  \n",
       "15636  nonexistent   no  \n",
       "2710   nonexistent   no  \n",
       "27236  nonexistent  yes  \n",
       "...            ...  ...  \n",
       "16091  nonexistent   no  \n",
       "19389  nonexistent   no  \n",
       "29758  nonexistent   no  \n",
       "30138      failure  yes  \n",
       "20902  nonexistent   no  \n",
       "\n",
       "[20000 rows x 16 columns]"
      ]
     },
     "execution_count": 23,
     "metadata": {},
     "output_type": "execute_result"
    }
   ],
   "source": [
    "dfn"
   ]
  },
  {
   "cell_type": "markdown",
   "metadata": {},
   "source": [
    "> replace categorical columns with dummy variable columns. Categorical Columns include: <br>\n",
    "'job','marital','education','contact','month','day_of_week','poutcome'"
   ]
  },
  {
   "cell_type": "code",
   "execution_count": 24,
   "metadata": {},
   "outputs": [],
   "source": [
    "#replace categorical columns with dummies\n",
    "# columns to replace: \n",
    "# 'job','marital','education','contact','month','day_of_week'\n",
    "cat_vars = ['job','marital','education','contact','month','day_of_week','poutcome']\n",
    "\n",
    "fdf = dfn.copy()\n",
    "\n",
    "dfdum_list=[]\n",
    "\n",
    "for cat in cat_vars:\n",
    "    temp_df = pd.DataFrame(pd.get_dummies(dfn[cat]))\n",
    "    dfdum_list.append(temp_df)\n",
    "    \n",
    "    fdf.drop(cat, axis=1, inplace=True)\n",
    "\n",
    "    \n",
    "dfdum_list.append(fdf)\n",
    "\n",
    "fdf = pd.concat(dfdum_list, axis=1)"
   ]
  },
  {
   "cell_type": "code",
   "execution_count": 25,
   "metadata": {},
   "outputs": [
    {
     "data": {
      "text/plain": [
       "[       admin.  blue-collar  entrepreneur  housemaid  management  retired  \\\n",
       " 36094       1            0             0          0           0        0   \n",
       " 6343        0            1             0          0           0        0   \n",
       " 15636       0            1             0          0           0        0   \n",
       " 2710        0            0             0          0           1        0   \n",
       " 27236       0            0             0          0           0        0   \n",
       " ...       ...          ...           ...        ...         ...      ...   \n",
       " 16091       0            0             0          0           0        0   \n",
       " 19389       1            0             0          0           0        0   \n",
       " 29758       0            1             0          0           0        0   \n",
       " 30138       0            0             0          0           0        1   \n",
       " 20902       1            0             0          0           0        0   \n",
       " \n",
       "        self-employed  services  student  technician  unemployed  unknown  \n",
       " 36094              0         0        0           0           0        0  \n",
       " 6343               0         0        0           0           0        0  \n",
       " 15636              0         0        0           0           0        0  \n",
       " 2710               0         0        0           0           0        0  \n",
       " 27236              0         0        0           1           0        0  \n",
       " ...              ...       ...      ...         ...         ...      ...  \n",
       " 16091              1         0        0           0           0        0  \n",
       " 19389              0         0        0           0           0        0  \n",
       " 29758              0         0        0           0           0        0  \n",
       " 30138              0         0        0           0           0        0  \n",
       " 20902              0         0        0           0           0        0  \n",
       " \n",
       " [20000 rows x 12 columns],\n",
       "        divorced  married  single  unknown\n",
       " 36094         1        0       0        0\n",
       " 6343          0        0       1        0\n",
       " 15636         0        1       0        0\n",
       " 2710          1        0       0        0\n",
       " 27236         1        0       0        0\n",
       " ...         ...      ...     ...      ...\n",
       " 16091         0        0       1        0\n",
       " 19389         0        0       1        0\n",
       " 29758         0        1       0        0\n",
       " 30138         1        0       0        0\n",
       " 20902         0        1       0        0\n",
       " \n",
       " [20000 rows x 4 columns],\n",
       "        basic.4y  basic.6y  basic.9y  high.school  illiterate  \\\n",
       " 36094         0         0         0            0           0   \n",
       " 6343          0         0         0            1           0   \n",
       " 15636         1         0         0            0           0   \n",
       " 2710          0         0         0            1           0   \n",
       " 27236         0         0         0            0           0   \n",
       " ...         ...       ...       ...          ...         ...   \n",
       " 16091         0         0         0            0           0   \n",
       " 19389         0         0         0            0           0   \n",
       " 29758         0         0         1            0           0   \n",
       " 30138         0         0         0            0           0   \n",
       " 20902         0         0         0            0           0   \n",
       " \n",
       "        professional.course  university.degree  unknown  \n",
       " 36094                    0                  1        0  \n",
       " 6343                     0                  0        0  \n",
       " 15636                    0                  0        0  \n",
       " 2710                     0                  0        0  \n",
       " 27236                    0                  1        0  \n",
       " ...                    ...                ...      ...  \n",
       " 16091                    0                  0        1  \n",
       " 19389                    0                  1        0  \n",
       " 29758                    0                  0        0  \n",
       " 30138                    1                  0        0  \n",
       " 20902                    0                  1        0  \n",
       " \n",
       " [20000 rows x 8 columns],\n",
       "        cellular  telephone\n",
       " 36094         1          0\n",
       " 6343          0          1\n",
       " 15636         1          0\n",
       " 2710          0          1\n",
       " 27236         1          0\n",
       " ...         ...        ...\n",
       " 16091         1          0\n",
       " 19389         1          0\n",
       " 29758         1          0\n",
       " 30138         1          0\n",
       " 20902         1          0\n",
       " \n",
       " [20000 rows x 2 columns],\n",
       "        apr  aug  dec  jul  jun  mar  may  nov  oct  sep\n",
       " 36094    0    0    0    0    0    0    1    0    0    0\n",
       " 6343     0    0    0    0    0    0    1    0    0    0\n",
       " 15636    0    0    0    1    0    0    0    0    0    0\n",
       " 2710     0    0    0    0    0    0    1    0    0    0\n",
       " 27236    0    0    0    0    0    0    0    1    0    0\n",
       " ...    ...  ...  ...  ...  ...  ...  ...  ...  ...  ...\n",
       " 16091    0    0    0    1    0    0    0    0    0    0\n",
       " 19389    0    1    0    0    0    0    0    0    0    0\n",
       " 29758    1    0    0    0    0    0    0    0    0    0\n",
       " 30138    1    0    0    0    0    0    0    0    0    0\n",
       " 20902    0    1    0    0    0    0    0    0    0    0\n",
       " \n",
       " [20000 rows x 10 columns],\n",
       "        fri  mon  thu  tue  wed\n",
       " 36094    0    0    0    1    0\n",
       " 6343     0    0    0    1    0\n",
       " 15636    0    1    0    0    0\n",
       " 2710     0    0    0    0    1\n",
       " 27236    1    0    0    0    0\n",
       " ...    ...  ...  ...  ...  ...\n",
       " 16091    0    0    0    1    0\n",
       " 19389    0    0    0    0    1\n",
       " 29758    0    1    0    0    0\n",
       " 30138    0    0    1    0    0\n",
       " 20902    0    0    1    0    0\n",
       " \n",
       " [20000 rows x 5 columns],\n",
       "        failure  nonexistent  success\n",
       " 36094        0            1        0\n",
       " 6343         0            1        0\n",
       " 15636        0            1        0\n",
       " 2710         0            1        0\n",
       " 27236        0            1        0\n",
       " ...        ...          ...      ...\n",
       " 16091        0            1        0\n",
       " 19389        0            1        0\n",
       " 29758        0            1        0\n",
       " 30138        1            0        0\n",
       " 20902        0            1        0\n",
       " \n",
       " [20000 rows x 3 columns],\n",
       "         age  default housing loan  duration  campaign  pdays  previous    y\n",
       " 36094  51.0       no      no   no      91.0       1.0  999.0       0.0   no\n",
       " 6343   32.0       no     yes   no      72.0       2.0  999.0       0.0   no\n",
       " 15636  50.0  unknown     yes  yes     140.0       1.0  999.0       0.0   no\n",
       " 2710   50.0  unknown      no   no      72.0       7.0  999.0       0.0   no\n",
       " 27236  34.0       no      no   no     316.0       3.0  999.0       0.0  yes\n",
       " ...     ...      ...     ...  ...       ...       ...    ...       ...  ...\n",
       " 16091  38.0       no      no   no     843.0       8.0  999.0       0.0   no\n",
       " 19389  34.0  unknown      no   no     147.0       1.0  999.0       0.0   no\n",
       " 29758  34.0       no      no   no      86.0       2.0  999.0       0.0   no\n",
       " 30138  59.0       no     yes   no     968.0       1.0    5.0       2.0  yes\n",
       " 20902  34.0       no      no   no     260.0       6.0  999.0       0.0   no\n",
       " \n",
       " [20000 rows x 9 columns]]"
      ]
     },
     "execution_count": 25,
     "metadata": {},
     "output_type": "execute_result"
    }
   ],
   "source": [
    "dfdum_list"
   ]
  },
  {
   "cell_type": "code",
   "execution_count": 26,
   "metadata": {},
   "outputs": [
    {
     "name": "stdout",
     "output_type": "stream",
     "text": [
      "<class 'pandas.core.frame.DataFrame'>\n",
      "Int64Index: 20000 entries, 36094 to 20902\n",
      "Data columns (total 53 columns):\n",
      " #   Column               Non-Null Count  Dtype  \n",
      "---  ------               --------------  -----  \n",
      " 0   admin.               20000 non-null  uint8  \n",
      " 1   blue-collar          20000 non-null  uint8  \n",
      " 2   entrepreneur         20000 non-null  uint8  \n",
      " 3   housemaid            20000 non-null  uint8  \n",
      " 4   management           20000 non-null  uint8  \n",
      " 5   retired              20000 non-null  uint8  \n",
      " 6   self-employed        20000 non-null  uint8  \n",
      " 7   services             20000 non-null  uint8  \n",
      " 8   student              20000 non-null  uint8  \n",
      " 9   technician           20000 non-null  uint8  \n",
      " 10  unemployed           20000 non-null  uint8  \n",
      " 11  unknown              20000 non-null  uint8  \n",
      " 12  divorced             20000 non-null  uint8  \n",
      " 13  married              20000 non-null  uint8  \n",
      " 14  single               20000 non-null  uint8  \n",
      " 15  unknown              20000 non-null  uint8  \n",
      " 16  basic.4y             20000 non-null  uint8  \n",
      " 17  basic.6y             20000 non-null  uint8  \n",
      " 18  basic.9y             20000 non-null  uint8  \n",
      " 19  high.school          20000 non-null  uint8  \n",
      " 20  illiterate           20000 non-null  uint8  \n",
      " 21  professional.course  20000 non-null  uint8  \n",
      " 22  university.degree    20000 non-null  uint8  \n",
      " 23  unknown              20000 non-null  uint8  \n",
      " 24  cellular             20000 non-null  uint8  \n",
      " 25  telephone            20000 non-null  uint8  \n",
      " 26  apr                  20000 non-null  uint8  \n",
      " 27  aug                  20000 non-null  uint8  \n",
      " 28  dec                  20000 non-null  uint8  \n",
      " 29  jul                  20000 non-null  uint8  \n",
      " 30  jun                  20000 non-null  uint8  \n",
      " 31  mar                  20000 non-null  uint8  \n",
      " 32  may                  20000 non-null  uint8  \n",
      " 33  nov                  20000 non-null  uint8  \n",
      " 34  oct                  20000 non-null  uint8  \n",
      " 35  sep                  20000 non-null  uint8  \n",
      " 36  fri                  20000 non-null  uint8  \n",
      " 37  mon                  20000 non-null  uint8  \n",
      " 38  thu                  20000 non-null  uint8  \n",
      " 39  tue                  20000 non-null  uint8  \n",
      " 40  wed                  20000 non-null  uint8  \n",
      " 41  failure              20000 non-null  uint8  \n",
      " 42  nonexistent          20000 non-null  uint8  \n",
      " 43  success              20000 non-null  uint8  \n",
      " 44  age                  20000 non-null  float64\n",
      " 45  default              20000 non-null  object \n",
      " 46  housing              20000 non-null  object \n",
      " 47  loan                 20000 non-null  object \n",
      " 48  duration             20000 non-null  float64\n",
      " 49  campaign             20000 non-null  float64\n",
      " 50  pdays                20000 non-null  float64\n",
      " 51  previous             20000 non-null  float64\n",
      " 52  y                    20000 non-null  object \n",
      "dtypes: float64(5), object(4), uint8(44)\n",
      "memory usage: 3.0+ MB\n"
     ]
    }
   ],
   "source": [
    "fdf.info()"
   ]
  },
  {
   "cell_type": "markdown",
   "metadata": {},
   "source": [
    "> drop unknown columns as they are less information rich"
   ]
  },
  {
   "cell_type": "code",
   "execution_count": 27,
   "metadata": {},
   "outputs": [
    {
     "name": "stdout",
     "output_type": "stream",
     "text": [
      "<class 'pandas.core.frame.DataFrame'>\n",
      "Int64Index: 20000 entries, 36094 to 20902\n",
      "Data columns (total 50 columns):\n",
      " #   Column               Non-Null Count  Dtype  \n",
      "---  ------               --------------  -----  \n",
      " 0   admin.               20000 non-null  uint8  \n",
      " 1   blue-collar          20000 non-null  uint8  \n",
      " 2   entrepreneur         20000 non-null  uint8  \n",
      " 3   housemaid            20000 non-null  uint8  \n",
      " 4   management           20000 non-null  uint8  \n",
      " 5   retired              20000 non-null  uint8  \n",
      " 6   self-employed        20000 non-null  uint8  \n",
      " 7   services             20000 non-null  uint8  \n",
      " 8   student              20000 non-null  uint8  \n",
      " 9   technician           20000 non-null  uint8  \n",
      " 10  unemployed           20000 non-null  uint8  \n",
      " 11  divorced             20000 non-null  uint8  \n",
      " 12  married              20000 non-null  uint8  \n",
      " 13  single               20000 non-null  uint8  \n",
      " 14  basic.4y             20000 non-null  uint8  \n",
      " 15  basic.6y             20000 non-null  uint8  \n",
      " 16  basic.9y             20000 non-null  uint8  \n",
      " 17  high.school          20000 non-null  uint8  \n",
      " 18  illiterate           20000 non-null  uint8  \n",
      " 19  professional.course  20000 non-null  uint8  \n",
      " 20  university.degree    20000 non-null  uint8  \n",
      " 21  cellular             20000 non-null  uint8  \n",
      " 22  telephone            20000 non-null  uint8  \n",
      " 23  apr                  20000 non-null  uint8  \n",
      " 24  aug                  20000 non-null  uint8  \n",
      " 25  dec                  20000 non-null  uint8  \n",
      " 26  jul                  20000 non-null  uint8  \n",
      " 27  jun                  20000 non-null  uint8  \n",
      " 28  mar                  20000 non-null  uint8  \n",
      " 29  may                  20000 non-null  uint8  \n",
      " 30  nov                  20000 non-null  uint8  \n",
      " 31  oct                  20000 non-null  uint8  \n",
      " 32  sep                  20000 non-null  uint8  \n",
      " 33  fri                  20000 non-null  uint8  \n",
      " 34  mon                  20000 non-null  uint8  \n",
      " 35  thu                  20000 non-null  uint8  \n",
      " 36  tue                  20000 non-null  uint8  \n",
      " 37  wed                  20000 non-null  uint8  \n",
      " 38  failure              20000 non-null  uint8  \n",
      " 39  nonexistent          20000 non-null  uint8  \n",
      " 40  success              20000 non-null  uint8  \n",
      " 41  age                  20000 non-null  float64\n",
      " 42  default              20000 non-null  object \n",
      " 43  housing              20000 non-null  object \n",
      " 44  loan                 20000 non-null  object \n",
      " 45  duration             20000 non-null  float64\n",
      " 46  campaign             20000 non-null  float64\n",
      " 47  pdays                20000 non-null  float64\n",
      " 48  previous             20000 non-null  float64\n",
      " 49  y                    20000 non-null  object \n",
      "dtypes: float64(5), object(4), uint8(41)\n",
      "memory usage: 2.9+ MB\n"
     ]
    }
   ],
   "source": [
    "fdf.drop('unknown', axis=1, inplace=True)\n",
    "fdf.info()"
   ]
  },
  {
   "cell_type": "markdown",
   "metadata": {},
   "source": [
    "> Replace ordinal columns with binary output. Columns to be mapped to ordinal ones include:<br>housing, loan, default"
   ]
  },
  {
   "cell_type": "code",
   "execution_count": 28,
   "metadata": {},
   "outputs": [
    {
     "name": "stdout",
     "output_type": "stream",
     "text": [
      "housing unique & mode\n",
      "['no' 'yes' 'unknown']\n",
      "yes\n",
      "loan unique & mode\n",
      "['no' 'yes' 'unknown']\n",
      "no\n",
      "default unique & mode\n",
      "['no' 'unknown' 'yes']\n",
      "no\n"
     ]
    }
   ],
   "source": [
    "print('housing unique & mode')\n",
    "print(fdf['housing'].unique())\n",
    "hm = fdf['housing'].mode()[0]\n",
    "print(hm)\n",
    "\n",
    "print('loan unique & mode')\n",
    "print(fdf['loan'].unique())\n",
    "lm = fdf['loan'].mode()[0]\n",
    "print(lm)\n",
    "\n",
    "print('default unique & mode')\n",
    "print(fdf['default'].unique())\n",
    "dm = fdf['default'].mode()[0]\n",
    "print(dm)\n",
    "\n",
    "fdf['housing'].replace('unknown',hm, inplace=True)\n",
    "fdf['loan'].replace('unknown',lm, inplace=True)\n",
    "fdf['default'].replace('unknown',dm, inplace=True)"
   ]
  },
  {
   "cell_type": "code",
   "execution_count": 29,
   "metadata": {},
   "outputs": [
    {
     "name": "stdout",
     "output_type": "stream",
     "text": [
      "<class 'pandas.core.frame.DataFrame'>\n",
      "Int64Index: 20000 entries, 36094 to 20902\n",
      "Data columns (total 50 columns):\n",
      " #   Column               Non-Null Count  Dtype  \n",
      "---  ------               --------------  -----  \n",
      " 0   admin.               20000 non-null  uint8  \n",
      " 1   blue-collar          20000 non-null  uint8  \n",
      " 2   entrepreneur         20000 non-null  uint8  \n",
      " 3   housemaid            20000 non-null  uint8  \n",
      " 4   management           20000 non-null  uint8  \n",
      " 5   retired              20000 non-null  uint8  \n",
      " 6   self-employed        20000 non-null  uint8  \n",
      " 7   services             20000 non-null  uint8  \n",
      " 8   student              20000 non-null  uint8  \n",
      " 9   technician           20000 non-null  uint8  \n",
      " 10  unemployed           20000 non-null  uint8  \n",
      " 11  divorced             20000 non-null  uint8  \n",
      " 12  married              20000 non-null  uint8  \n",
      " 13  single               20000 non-null  uint8  \n",
      " 14  basic.4y             20000 non-null  uint8  \n",
      " 15  basic.6y             20000 non-null  uint8  \n",
      " 16  basic.9y             20000 non-null  uint8  \n",
      " 17  high.school          20000 non-null  uint8  \n",
      " 18  illiterate           20000 non-null  uint8  \n",
      " 19  professional.course  20000 non-null  uint8  \n",
      " 20  university.degree    20000 non-null  uint8  \n",
      " 21  cellular             20000 non-null  uint8  \n",
      " 22  telephone            20000 non-null  uint8  \n",
      " 23  apr                  20000 non-null  uint8  \n",
      " 24  aug                  20000 non-null  uint8  \n",
      " 25  dec                  20000 non-null  uint8  \n",
      " 26  jul                  20000 non-null  uint8  \n",
      " 27  jun                  20000 non-null  uint8  \n",
      " 28  mar                  20000 non-null  uint8  \n",
      " 29  may                  20000 non-null  uint8  \n",
      " 30  nov                  20000 non-null  uint8  \n",
      " 31  oct                  20000 non-null  uint8  \n",
      " 32  sep                  20000 non-null  uint8  \n",
      " 33  fri                  20000 non-null  uint8  \n",
      " 34  mon                  20000 non-null  uint8  \n",
      " 35  thu                  20000 non-null  uint8  \n",
      " 36  tue                  20000 non-null  uint8  \n",
      " 37  wed                  20000 non-null  uint8  \n",
      " 38  failure              20000 non-null  uint8  \n",
      " 39  nonexistent          20000 non-null  uint8  \n",
      " 40  success              20000 non-null  uint8  \n",
      " 41  age                  20000 non-null  float64\n",
      " 42  default              20000 non-null  object \n",
      " 43  housing              20000 non-null  object \n",
      " 44  loan                 20000 non-null  object \n",
      " 45  duration             20000 non-null  float64\n",
      " 46  campaign             20000 non-null  float64\n",
      " 47  pdays                20000 non-null  float64\n",
      " 48  previous             20000 non-null  float64\n",
      " 49  y                    20000 non-null  object \n",
      "dtypes: float64(5), object(4), uint8(41)\n",
      "memory usage: 2.9+ MB\n"
     ]
    }
   ],
   "source": [
    "fdf.info()"
   ]
  },
  {
   "cell_type": "markdown",
   "metadata": {},
   "source": [
    "> Convert Ordinal Columns into binary where 1/0 is yes/no, respectively.<br>\n",
    "Columns to be converted: default, housing, loan, y"
   ]
  },
  {
   "cell_type": "code",
   "execution_count": 30,
   "metadata": {},
   "outputs": [],
   "source": [
    "ordlst = ['default', 'housing', 'loan', 'y']\n",
    "\n",
    "for i in ordlst:\n",
    "    fdf[i].replace('yes', 1, inplace=True)\n",
    "    fdf[i].replace('no', 0, inplace=True)"
   ]
  },
  {
   "cell_type": "markdown",
   "metadata": {},
   "source": [
    ">Dataset's variables are now in their appropriate numeric form for ML algorithms to operate on them."
   ]
  },
  {
   "cell_type": "code",
   "execution_count": 31,
   "metadata": {},
   "outputs": [
    {
     "name": "stdout",
     "output_type": "stream",
     "text": [
      "<class 'pandas.core.frame.DataFrame'>\n",
      "Int64Index: 20000 entries, 36094 to 20902\n",
      "Data columns (total 50 columns):\n",
      " #   Column               Non-Null Count  Dtype  \n",
      "---  ------               --------------  -----  \n",
      " 0   admin.               20000 non-null  uint8  \n",
      " 1   blue-collar          20000 non-null  uint8  \n",
      " 2   entrepreneur         20000 non-null  uint8  \n",
      " 3   housemaid            20000 non-null  uint8  \n",
      " 4   management           20000 non-null  uint8  \n",
      " 5   retired              20000 non-null  uint8  \n",
      " 6   self-employed        20000 non-null  uint8  \n",
      " 7   services             20000 non-null  uint8  \n",
      " 8   student              20000 non-null  uint8  \n",
      " 9   technician           20000 non-null  uint8  \n",
      " 10  unemployed           20000 non-null  uint8  \n",
      " 11  divorced             20000 non-null  uint8  \n",
      " 12  married              20000 non-null  uint8  \n",
      " 13  single               20000 non-null  uint8  \n",
      " 14  basic.4y             20000 non-null  uint8  \n",
      " 15  basic.6y             20000 non-null  uint8  \n",
      " 16  basic.9y             20000 non-null  uint8  \n",
      " 17  high.school          20000 non-null  uint8  \n",
      " 18  illiterate           20000 non-null  uint8  \n",
      " 19  professional.course  20000 non-null  uint8  \n",
      " 20  university.degree    20000 non-null  uint8  \n",
      " 21  cellular             20000 non-null  uint8  \n",
      " 22  telephone            20000 non-null  uint8  \n",
      " 23  apr                  20000 non-null  uint8  \n",
      " 24  aug                  20000 non-null  uint8  \n",
      " 25  dec                  20000 non-null  uint8  \n",
      " 26  jul                  20000 non-null  uint8  \n",
      " 27  jun                  20000 non-null  uint8  \n",
      " 28  mar                  20000 non-null  uint8  \n",
      " 29  may                  20000 non-null  uint8  \n",
      " 30  nov                  20000 non-null  uint8  \n",
      " 31  oct                  20000 non-null  uint8  \n",
      " 32  sep                  20000 non-null  uint8  \n",
      " 33  fri                  20000 non-null  uint8  \n",
      " 34  mon                  20000 non-null  uint8  \n",
      " 35  thu                  20000 non-null  uint8  \n",
      " 36  tue                  20000 non-null  uint8  \n",
      " 37  wed                  20000 non-null  uint8  \n",
      " 38  failure              20000 non-null  uint8  \n",
      " 39  nonexistent          20000 non-null  uint8  \n",
      " 40  success              20000 non-null  uint8  \n",
      " 41  age                  20000 non-null  float64\n",
      " 42  default              20000 non-null  int64  \n",
      " 43  housing              20000 non-null  int64  \n",
      " 44  loan                 20000 non-null  int64  \n",
      " 45  duration             20000 non-null  float64\n",
      " 46  campaign             20000 non-null  float64\n",
      " 47  pdays                20000 non-null  float64\n",
      " 48  previous             20000 non-null  float64\n",
      " 49  y                    20000 non-null  int64  \n",
      "dtypes: float64(5), int64(4), uint8(41)\n",
      "memory usage: 2.9 MB\n"
     ]
    }
   ],
   "source": [
    "fdf.info()"
   ]
  },
  {
   "cell_type": "markdown",
   "metadata": {},
   "source": [
    "## Test for Imbalance\n",
    ">Before the model can be split into train and test datasets, the dataset needs to be assessed for imbalance. If the dataset is imbalanced, then it may be difficult to predict the target variable in a meaningful way using traditional scoring techniques. Another name for this type of issue in a classification model is rare event prediction. Imbalance can be expressed as a simple ratio. Technically, anything other than equal representation is considered imbalanced, but slight imbalance is not a significant problem. For our purposes, a ratio less than 0.2 will be considered imbalanced. In other words, if less than 20% of the observations in our dataset have a value of 'yes' or 1 in the target column, then the dataset will be considered significantly imbalanced and adjustments will be necessary.<br><br>\n",
    "In order to adjust for imbalance, a different scoring method will be used to assess each model. The roc_auc_score method will be used because it accounts for recall and the FPR (False Positive Rate). It is important to maximize the recall in whatever model is finally selected because it will ensure that a sufficient number of the most likely customers to subscribe to a term deposit are marketed to. The recall measures how many out of all of the positive target variables are correctly calssified. Also, we want to minimize the FPR because it wastes the bank's money too market to those who are unlikely to subscribe to a term deposit.\n"
   ]
  },
  {
   "cell_type": "code",
   "execution_count": 32,
   "metadata": {},
   "outputs": [
    {
     "name": "stdout",
     "output_type": "stream",
     "text": [
      "Total number of y in fbf dataset:\n",
      "2141\n",
      "\n",
      "Ratio of y in the target column in fbf dataframe:\n",
      "0.10705\n"
     ]
    }
   ],
   "source": [
    "n_of_y = list(fdf['y']).count(1)\n",
    "tot = fdf.shape[0]\n",
    "ratio_of_y = n_of_y/tot\n",
    "print('Total number of y in fbf dataset:')\n",
    "print(n_of_y)\n",
    "print()\n",
    "print('Ratio of y in the target column in fbf dataframe:')\n",
    "print(ratio_of_y)"
   ]
  },
  {
   "cell_type": "code",
   "execution_count": 33,
   "metadata": {},
   "outputs": [
    {
     "data": {
      "image/png": "[encoded data removed]",
      "text/plain": [
       "<Figure size 432x288 with 1 Axes>"
      ]
     },
     "metadata": {},
     "output_type": "display_data"
    }
   ],
   "source": [
    "import matplotlib.pyplot as plt\n",
    "\n",
    "# Data to plot\n",
    "labels = 'no','yes'\n",
    "num_no = list(fdf['y']).count(0)\n",
    "num_yes = list(fdf['y']).count(1)\n",
    "sizes = [num_no,num_yes]\n",
    "colors = ['gold','lightskyblue']\n",
    "explode = (0.1, 0)  # explode 1st slice\n",
    "\n",
    "# Plot\n",
    "plt.pie(sizes, explode=explode, labels=labels, colors=colors,\n",
    "autopct='%1.1f%%', shadow=True, startangle=140)\n",
    "\n",
    "plt.axis('equal')\n",
    "plt.show()"
   ]
  },
  {
   "cell_type": "markdown",
   "metadata": {},
   "source": [
    "> This dataset is significantly imbalanced, so adjustments will have to be made. Specifically, the scoring method used throughout this notebook for each classification model will be the roc_auc_score method in the sklearn package. This scoring method aims to maximize the recall, while minimizing the false positive rate. The interpretation of this for the bank is that this new scoring function will aim to minimize the number of customers who are marketed to who are unlikely to subscribe to a term deposit."
   ]
  },
  {
   "cell_type": "markdown",
   "metadata": {},
   "source": [
    "#### Train/Test data split\n",
    ">The data will be split into train and test datasets that will be used for all of the models. <br><br>\n",
    "<b>Regularization:</b><br>\n",
    "Importantly, the MinMaxScaler() function will be applied to the data at the same time as the train/test split. The MinMaxScaler() function is a commonly used regularization function which transforms all variables in each column to a value between 0-1 relative to other values in that variable. Regularization is applied to ensure that every factor in the dataset is weighed equally when distance-based classification models are applied. In models like support vector machines, the distance between points matters as that is the technique used to classify the data. Furthermore, Regularization will not affect non-distance-based calssification models. Therefore, standardization of the data is a critical first step regardless of whether classification or regression models are employed. "
   ]
  },
  {
   "cell_type": "code",
   "execution_count": 95,
   "metadata": {},
   "outputs": [],
   "source": [
    "y = fdf['y']\n",
    "#y"
   ]
  },
  {
   "cell_type": "code",
   "execution_count": null,
   "metadata": {},
   "outputs": [],
   "source": [
    "y"
   ]
  },
  {
   "cell_type": "code",
   "execution_count": 96,
   "metadata": {},
   "outputs": [],
   "source": [
    "x = fdf.drop('y', axis=1)\n",
    "#x"
   ]
  },
  {
   "cell_type": "code",
   "execution_count": 97,
   "metadata": {},
   "outputs": [
    {
     "data": {
      "text/html": [
       "<div>\n",
       "<style scoped>\n",
       "    .dataframe tbody tr th:only-of-type {\n",
       "        vertical-align: middle;\n",
       "    }\n",
       "\n",
       "    .dataframe tbody tr th {\n",
       "        vertical-align: top;\n",
       "    }\n",
       "\n",
       "    .dataframe thead th {\n",
       "        text-align: right;\n",
       "    }\n",
       "</style>\n",
       "<table border=\"1\" class=\"dataframe\">\n",
       "  <thead>\n",
       "    <tr style=\"text-align: right;\">\n",
       "      <th></th>\n",
       "      <th>admin.</th>\n",
       "      <th>blue-collar</th>\n",
       "      <th>entrepreneur</th>\n",
       "      <th>housemaid</th>\n",
       "      <th>management</th>\n",
       "      <th>retired</th>\n",
       "      <th>self-employed</th>\n",
       "      <th>services</th>\n",
       "      <th>student</th>\n",
       "      <th>technician</th>\n",
       "      <th>...</th>\n",
       "      <th>nonexistent</th>\n",
       "      <th>success</th>\n",
       "      <th>age</th>\n",
       "      <th>default</th>\n",
       "      <th>housing</th>\n",
       "      <th>loan</th>\n",
       "      <th>duration</th>\n",
       "      <th>campaign</th>\n",
       "      <th>pdays</th>\n",
       "      <th>previous</th>\n",
       "    </tr>\n",
       "  </thead>\n",
       "  <tbody>\n",
       "    <tr>\n",
       "      <th>36094</th>\n",
       "      <td>1</td>\n",
       "      <td>0</td>\n",
       "      <td>0</td>\n",
       "      <td>0</td>\n",
       "      <td>0</td>\n",
       "      <td>0</td>\n",
       "      <td>0</td>\n",
       "      <td>0</td>\n",
       "      <td>0</td>\n",
       "      <td>0</td>\n",
       "      <td>...</td>\n",
       "      <td>1</td>\n",
       "      <td>0</td>\n",
       "      <td>51.0</td>\n",
       "      <td>0</td>\n",
       "      <td>0</td>\n",
       "      <td>0</td>\n",
       "      <td>91.0</td>\n",
       "      <td>1.0</td>\n",
       "      <td>999.0</td>\n",
       "      <td>0.0</td>\n",
       "    </tr>\n",
       "    <tr>\n",
       "      <th>6343</th>\n",
       "      <td>0</td>\n",
       "      <td>1</td>\n",
       "      <td>0</td>\n",
       "      <td>0</td>\n",
       "      <td>0</td>\n",
       "      <td>0</td>\n",
       "      <td>0</td>\n",
       "      <td>0</td>\n",
       "      <td>0</td>\n",
       "      <td>0</td>\n",
       "      <td>...</td>\n",
       "      <td>1</td>\n",
       "      <td>0</td>\n",
       "      <td>32.0</td>\n",
       "      <td>0</td>\n",
       "      <td>1</td>\n",
       "      <td>0</td>\n",
       "      <td>72.0</td>\n",
       "      <td>2.0</td>\n",
       "      <td>999.0</td>\n",
       "      <td>0.0</td>\n",
       "    </tr>\n",
       "    <tr>\n",
       "      <th>15636</th>\n",
       "      <td>0</td>\n",
       "      <td>1</td>\n",
       "      <td>0</td>\n",
       "      <td>0</td>\n",
       "      <td>0</td>\n",
       "      <td>0</td>\n",
       "      <td>0</td>\n",
       "      <td>0</td>\n",
       "      <td>0</td>\n",
       "      <td>0</td>\n",
       "      <td>...</td>\n",
       "      <td>1</td>\n",
       "      <td>0</td>\n",
       "      <td>50.0</td>\n",
       "      <td>0</td>\n",
       "      <td>1</td>\n",
       "      <td>1</td>\n",
       "      <td>140.0</td>\n",
       "      <td>1.0</td>\n",
       "      <td>999.0</td>\n",
       "      <td>0.0</td>\n",
       "    </tr>\n",
       "    <tr>\n",
       "      <th>2710</th>\n",
       "      <td>0</td>\n",
       "      <td>0</td>\n",
       "      <td>0</td>\n",
       "      <td>0</td>\n",
       "      <td>1</td>\n",
       "      <td>0</td>\n",
       "      <td>0</td>\n",
       "      <td>0</td>\n",
       "      <td>0</td>\n",
       "      <td>0</td>\n",
       "      <td>...</td>\n",
       "      <td>1</td>\n",
       "      <td>0</td>\n",
       "      <td>50.0</td>\n",
       "      <td>0</td>\n",
       "      <td>0</td>\n",
       "      <td>0</td>\n",
       "      <td>72.0</td>\n",
       "      <td>7.0</td>\n",
       "      <td>999.0</td>\n",
       "      <td>0.0</td>\n",
       "    </tr>\n",
       "    <tr>\n",
       "      <th>27236</th>\n",
       "      <td>0</td>\n",
       "      <td>0</td>\n",
       "      <td>0</td>\n",
       "      <td>0</td>\n",
       "      <td>0</td>\n",
       "      <td>0</td>\n",
       "      <td>0</td>\n",
       "      <td>0</td>\n",
       "      <td>0</td>\n",
       "      <td>1</td>\n",
       "      <td>...</td>\n",
       "      <td>1</td>\n",
       "      <td>0</td>\n",
       "      <td>34.0</td>\n",
       "      <td>0</td>\n",
       "      <td>0</td>\n",
       "      <td>0</td>\n",
       "      <td>316.0</td>\n",
       "      <td>3.0</td>\n",
       "      <td>999.0</td>\n",
       "      <td>0.0</td>\n",
       "    </tr>\n",
       "    <tr>\n",
       "      <th>...</th>\n",
       "      <td>...</td>\n",
       "      <td>...</td>\n",
       "      <td>...</td>\n",
       "      <td>...</td>\n",
       "      <td>...</td>\n",
       "      <td>...</td>\n",
       "      <td>...</td>\n",
       "      <td>...</td>\n",
       "      <td>...</td>\n",
       "      <td>...</td>\n",
       "      <td>...</td>\n",
       "      <td>...</td>\n",
       "      <td>...</td>\n",
       "      <td>...</td>\n",
       "      <td>...</td>\n",
       "      <td>...</td>\n",
       "      <td>...</td>\n",
       "      <td>...</td>\n",
       "      <td>...</td>\n",
       "      <td>...</td>\n",
       "      <td>...</td>\n",
       "    </tr>\n",
       "    <tr>\n",
       "      <th>16091</th>\n",
       "      <td>0</td>\n",
       "      <td>0</td>\n",
       "      <td>0</td>\n",
       "      <td>0</td>\n",
       "      <td>0</td>\n",
       "      <td>0</td>\n",
       "      <td>1</td>\n",
       "      <td>0</td>\n",
       "      <td>0</td>\n",
       "      <td>0</td>\n",
       "      <td>...</td>\n",
       "      <td>1</td>\n",
       "      <td>0</td>\n",
       "      <td>38.0</td>\n",
       "      <td>0</td>\n",
       "      <td>0</td>\n",
       "      <td>0</td>\n",
       "      <td>843.0</td>\n",
       "      <td>8.0</td>\n",
       "      <td>999.0</td>\n",
       "      <td>0.0</td>\n",
       "    </tr>\n",
       "    <tr>\n",
       "      <th>19389</th>\n",
       "      <td>1</td>\n",
       "      <td>0</td>\n",
       "      <td>0</td>\n",
       "      <td>0</td>\n",
       "      <td>0</td>\n",
       "      <td>0</td>\n",
       "      <td>0</td>\n",
       "      <td>0</td>\n",
       "      <td>0</td>\n",
       "      <td>0</td>\n",
       "      <td>...</td>\n",
       "      <td>1</td>\n",
       "      <td>0</td>\n",
       "      <td>34.0</td>\n",
       "      <td>0</td>\n",
       "      <td>0</td>\n",
       "      <td>0</td>\n",
       "      <td>147.0</td>\n",
       "      <td>1.0</td>\n",
       "      <td>999.0</td>\n",
       "      <td>0.0</td>\n",
       "    </tr>\n",
       "    <tr>\n",
       "      <th>29758</th>\n",
       "      <td>0</td>\n",
       "      <td>1</td>\n",
       "      <td>0</td>\n",
       "      <td>0</td>\n",
       "      <td>0</td>\n",
       "      <td>0</td>\n",
       "      <td>0</td>\n",
       "      <td>0</td>\n",
       "      <td>0</td>\n",
       "      <td>0</td>\n",
       "      <td>...</td>\n",
       "      <td>1</td>\n",
       "      <td>0</td>\n",
       "      <td>34.0</td>\n",
       "      <td>0</td>\n",
       "      <td>0</td>\n",
       "      <td>0</td>\n",
       "      <td>86.0</td>\n",
       "      <td>2.0</td>\n",
       "      <td>999.0</td>\n",
       "      <td>0.0</td>\n",
       "    </tr>\n",
       "    <tr>\n",
       "      <th>30138</th>\n",
       "      <td>0</td>\n",
       "      <td>0</td>\n",
       "      <td>0</td>\n",
       "      <td>0</td>\n",
       "      <td>0</td>\n",
       "      <td>1</td>\n",
       "      <td>0</td>\n",
       "      <td>0</td>\n",
       "      <td>0</td>\n",
       "      <td>0</td>\n",
       "      <td>...</td>\n",
       "      <td>0</td>\n",
       "      <td>0</td>\n",
       "      <td>59.0</td>\n",
       "      <td>0</td>\n",
       "      <td>1</td>\n",
       "      <td>0</td>\n",
       "      <td>968.0</td>\n",
       "      <td>1.0</td>\n",
       "      <td>5.0</td>\n",
       "      <td>2.0</td>\n",
       "    </tr>\n",
       "    <tr>\n",
       "      <th>20902</th>\n",
       "      <td>1</td>\n",
       "      <td>0</td>\n",
       "      <td>0</td>\n",
       "      <td>0</td>\n",
       "      <td>0</td>\n",
       "      <td>0</td>\n",
       "      <td>0</td>\n",
       "      <td>0</td>\n",
       "      <td>0</td>\n",
       "      <td>0</td>\n",
       "      <td>...</td>\n",
       "      <td>1</td>\n",
       "      <td>0</td>\n",
       "      <td>34.0</td>\n",
       "      <td>0</td>\n",
       "      <td>0</td>\n",
       "      <td>0</td>\n",
       "      <td>260.0</td>\n",
       "      <td>6.0</td>\n",
       "      <td>999.0</td>\n",
       "      <td>0.0</td>\n",
       "    </tr>\n",
       "  </tbody>\n",
       "</table>\n",
       "<p>20000 rows × 49 columns</p>\n",
       "</div>"
      ],
      "text/plain": [
       "       admin.  blue-collar  entrepreneur  housemaid  management  retired  \\\n",
       "36094       1            0             0          0           0        0   \n",
       "6343        0            1             0          0           0        0   \n",
       "15636       0            1             0          0           0        0   \n",
       "2710        0            0             0          0           1        0   \n",
       "27236       0            0             0          0           0        0   \n",
       "...       ...          ...           ...        ...         ...      ...   \n",
       "16091       0            0             0          0           0        0   \n",
       "19389       1            0             0          0           0        0   \n",
       "29758       0            1             0          0           0        0   \n",
       "30138       0            0             0          0           0        1   \n",
       "20902       1            0             0          0           0        0   \n",
       "\n",
       "       self-employed  services  student  technician  ...  nonexistent  \\\n",
       "36094              0         0        0           0  ...            1   \n",
       "6343               0         0        0           0  ...            1   \n",
       "15636              0         0        0           0  ...            1   \n",
       "2710               0         0        0           0  ...            1   \n",
       "27236              0         0        0           1  ...            1   \n",
       "...              ...       ...      ...         ...  ...          ...   \n",
       "16091              1         0        0           0  ...            1   \n",
       "19389              0         0        0           0  ...            1   \n",
       "29758              0         0        0           0  ...            1   \n",
       "30138              0         0        0           0  ...            0   \n",
       "20902              0         0        0           0  ...            1   \n",
       "\n",
       "       success   age  default  housing  loan  duration  campaign  pdays  \\\n",
       "36094        0  51.0        0        0     0      91.0       1.0  999.0   \n",
       "6343         0  32.0        0        1     0      72.0       2.0  999.0   \n",
       "15636        0  50.0        0        1     1     140.0       1.0  999.0   \n",
       "2710         0  50.0        0        0     0      72.0       7.0  999.0   \n",
       "27236        0  34.0        0        0     0     316.0       3.0  999.0   \n",
       "...        ...   ...      ...      ...   ...       ...       ...    ...   \n",
       "16091        0  38.0        0        0     0     843.0       8.0  999.0   \n",
       "19389        0  34.0        0        0     0     147.0       1.0  999.0   \n",
       "29758        0  34.0        0        0     0      86.0       2.0  999.0   \n",
       "30138        0  59.0        0        1     0     968.0       1.0    5.0   \n",
       "20902        0  34.0        0        0     0     260.0       6.0  999.0   \n",
       "\n",
       "       previous  \n",
       "36094       0.0  \n",
       "6343        0.0  \n",
       "15636       0.0  \n",
       "2710        0.0  \n",
       "27236       0.0  \n",
       "...         ...  \n",
       "16091       0.0  \n",
       "19389       0.0  \n",
       "29758       0.0  \n",
       "30138       2.0  \n",
       "20902       0.0  \n",
       "\n",
       "[20000 rows x 49 columns]"
      ]
     },
     "execution_count": 97,
     "metadata": {},
     "output_type": "execute_result"
    }
   ],
   "source": [
    "x"
   ]
  },
  {
   "cell_type": "markdown",
   "metadata": {},
   "source": [
    ">The dependent variables and the target variable columns have been separated into two datasets. When the data is split into train/test sets, observations will be randomly selected for each, therefore ensuring the train/test datasets accurately represent the original dataset."
   ]
  },
  {
   "cell_type": "markdown",
   "metadata": {},
   "source": [
    "## Spliting the data into train and test part"
   ]
  },
  {
   "cell_type": "code",
   "execution_count": 36,
   "metadata": {},
   "outputs": [],
   "source": [
    "from sklearn.preprocessing import MinMaxScaler\n",
    "from sklearn.model_selection import train_test_split\n",
    "from sklearn import preprocessing\n",
    "\n",
    "x_train, x_test, y_train, y_test = train_test_split(\n",
    "    x, y, random_state = 0)\n",
    "\n",
    "scaler = preprocessing.MinMaxScaler()\n",
    "x_train = scaler.fit_transform(x_train)\n",
    "x_test = scaler.transform(x_test)"
   ]
  },
  {
   "cell_type": "markdown",
   "metadata": {},
   "source": [
    ">Data has now been preprocessed and is ready for ML Classification Algorithms."
   ]
  },
  {
   "cell_type": "code",
   "execution_count": 37,
   "metadata": {},
   "outputs": [],
   "source": [
    "from sklearn.metrics import confusion_matrix, plot_confusion_matrix\n",
    "from sklearn.metrics import accuracy_score \n",
    "from sklearn.neighbors import KNeighborsClassifier\n",
    "from sklearn.model_selection import GridSearchCV\n",
    "from sklearn.preprocessing import MinMaxScaler\n",
    "from sklearn.model_selection import train_test_split\n",
    "from sklearn import preprocessing\n",
    "from sklearn.linear_model import LogisticRegression\n",
    "from sklearn.svm import LinearSVC\n",
    "from sklearn.svm import SVC\n",
    "from sklearn.tree import DecisionTreeClassifier\n"
   ]
  },
  {
   "cell_type": "markdown",
   "metadata": {},
   "source": [
    "* Firstly we will use Voting Classififier algorithms"
   ]
  },
  {
   "cell_type": "markdown",
   "metadata": {},
   "source": [
    "# Voting classifiers (hard)"
   ]
  },
  {
   "cell_type": "code",
   "execution_count": 38,
   "metadata": {},
   "outputs": [
    {
     "data": {
      "text/plain": [
       "DecisionTreeClassifier(random_state=0)"
      ]
     },
     "execution_count": 38,
     "metadata": {},
     "output_type": "execute_result"
    }
   ],
   "source": [
    "from sklearn.ensemble import VotingClassifier\n",
    "\n",
    "knn_clf = KNeighborsClassifier()\n",
    "knn_clf.fit(x_train,y_train)\n",
    "\n",
    "log_clf = LogisticRegression(solver='liblinear', random_state=0)\n",
    "log_clf.fit(x_train,y_train)\n",
    "\n",
    "linsvc = LinearSVC(random_state=0)\n",
    "linsvc.fit(x_train,y_train)\n",
    "\n",
    "svcr = SVC(kernel='rbf', random_state=0)\n",
    "svcr.fit(x_train,y_train)\n",
    "\n",
    "svcp = SVC(kernel='poly', random_state=0)\n",
    "svcp.fit(x_train,y_train)\n",
    "\n",
    "lsvc = SVC(kernel='linear', random_state=0)\n",
    "lsvc.fit(x_train,y_train)\n",
    "\n",
    "tree = DecisionTreeClassifier(random_state=0)\n",
    "tree.fit(x_train,y_train)"
   ]
  },
  {
   "cell_type": "markdown",
   "metadata": {},
   "source": [
    "## ROC_AUC score of hard votingclassifier compared to individual model"
   ]
  },
  {
   "cell_type": "code",
   "execution_count": 39,
   "metadata": {},
   "outputs": [
    {
     "name": "stdout",
     "output_type": "stream",
     "text": [
      "LogisticRegression 0.6172299184819934\n",
      "LinearSVC 0.6129890647362618\n",
      "KNeighborsClassifier 0.5795440034900035\n",
      "SVC 0.5954377388451004\n",
      "SVC 0.590296187058387\n",
      "SVC 0.5963259495697717\n",
      "DecisionTreeClassifier 0.6747005763097885\n",
      "VotingClassifier 0.5979021711414897\n"
     ]
    }
   ],
   "source": [
    "voting_clf = VotingClassifier(estimators=[('log_clf', log_clf),('linsvc',linsvc),\n",
    "                               ('knn_clf', knn_clf),('lsvc_clf',lsvc),('svcr', svcr),('svcp',svcp), ('tree',tree)],voting='hard')\n",
    "voting_clf.fit(x_train, y_train)\n",
    "voting_clf.fit(x_train, y_train)\n",
    "algo=[]\n",
    "score=[]\n",
    "\n",
    "from sklearn.metrics import accuracy_score\n",
    "for clf in (log_clf,linsvc, knn_clf, lsvc,svcr, svcp,tree,voting_clf):\n",
    "    clf.fit(x_train, y_train)\n",
    "    y_pred = clf.predict(x_test)\n",
    "    print((clf.__class__.__name__), roc_auc_score(y_test, y_pred))\n",
    "    algo.append(clf)\n",
    "    score.append(roc_auc_score(y_test, y_pred))  \n",
    "    "
   ]
  },
  {
   "cell_type": "code",
   "execution_count": 40,
   "metadata": {},
   "outputs": [
    {
     "data": {
      "image/png": "[encoded data removed]",
      "text/plain": [
       "<Figure size 432x288 with 1 Axes>"
      ]
     },
     "metadata": {
      "needs_background": "light"
     },
     "output_type": "display_data"
    }
   ],
   "source": [
    "algo=['log_clf','linsvc', 'knn_clf', 'lsvc', 'svcr', 'svcp','tree','voting_clf']\n",
    "import matplotlib.pyplot as plt\n",
    "fig = plt.figure()\n",
    "ax = fig.add_axes([0,0,1,1])\n",
    "ax.bar(algo,score)\n",
    "plt.show()"
   ]
  },
  {
   "cell_type": "markdown",
   "metadata": {},
   "source": [
    "## Soft voting classifiers  \n"
   ]
  },
  {
   "cell_type": "code",
   "execution_count": 41,
   "metadata": {},
   "outputs": [
    {
     "data": {
      "text/plain": [
       "DecisionTreeClassifier(random_state=0)"
      ]
     },
     "execution_count": 41,
     "metadata": {},
     "output_type": "execute_result"
    }
   ],
   "source": [
    "from sklearn.ensemble import VotingClassifier\n",
    "\n",
    "knn_clf = KNeighborsClassifier()\n",
    "knn_clf.fit(x_train,y_train)\n",
    "\n",
    "log_clf = LogisticRegression(solver='liblinear', random_state=0)\n",
    "log_clf.fit(x_train,y_train)\n",
    "\n",
    "lsvc = LinearSVC(random_state=0)\n",
    "lsvc.fit(x_train,y_train)\n",
    "\n",
    "svcr = SVC(probability=True,kernel='rbf', random_state=0)\n",
    "svcr.fit(x_train,y_train)\n",
    "\n",
    "svcp = SVC(probability=True,kernel='poly')\n",
    "svcp.fit(x_train,y_train)\n",
    "\n",
    "lsvc = SVC(probability=True,kernel='linear', random_state=0)\n",
    "lsvc.fit(x_train,y_train)\n",
    "\n",
    "tree = DecisionTreeClassifier(random_state=0)\n",
    "tree.fit(x_train,y_train)\n"
   ]
  },
  {
   "cell_type": "markdown",
   "metadata": {},
   "source": [
    "## ROC AUC socre of soft votingclassifier compared to individual model"
   ]
  },
  {
   "cell_type": "code",
   "execution_count": 42,
   "metadata": {},
   "outputs": [
    {
     "name": "stdout",
     "output_type": "stream",
     "text": [
      "LogisticRegression 0.6172299184819934\n",
      "KNeighborsClassifier 0.5795440034900035\n",
      "SVC 0.5954377388451004\n",
      "SVC 0.590296187058387\n",
      "SVC 0.5963259495697717\n",
      "DecisionTreeClassifier 0.6747005763097885\n",
      "VotingClassifier 0.5993595617999298\n"
     ]
    }
   ],
   "source": [
    "\n",
    "voting_clf = VotingClassifier(estimators=[('log_clf', log_clf), ('knn_clf', knn_clf),('lsvc',lsvc),('svcr', svcr),('svcp',svcp),\n",
    "                                          ('tree',tree)], voting='soft')\n",
    "voting_clf.fit(x_train, y_train)\n",
    "\n",
    "score1=[]\n",
    "from sklearn.metrics import accuracy_score\n",
    "for clf in (log_clf, knn_clf, lsvc,svcr, svcp,tree,voting_clf):\n",
    "    clf.fit(x_train, y_train)\n",
    "    y_pred = clf.predict(x_test)\n",
    "    print(clf.__class__.__name__, roc_auc_score(y_test, y_pred))\n",
    "    score1.append(roc_auc_score(y_test, y_pred))\n",
    "\n",
    "\n"
   ]
  },
  {
   "cell_type": "code",
   "execution_count": 43,
   "metadata": {},
   "outputs": [
    {
     "data": {
      "image/png": "[encoded data removed]",
      "text/plain": [
       "<Figure size 432x288 with 1 Axes>"
      ]
     },
     "metadata": {
      "needs_background": "light"
     },
     "output_type": "display_data"
    }
   ],
   "source": [
    "algo=['log_clf','linsvc', 'knn_clf', 'lsvc,svcr', 'svcp','tree','voting_clf']\n",
    "import matplotlib.pyplot as plt\n",
    "fig = plt.figure()\n",
    "ax = fig.add_axes([0,0,1,1])\n",
    "ax.bar(algo,score1)\n",
    "plt.show()"
   ]
  },
  {
   "cell_type": "markdown",
   "metadata": {},
   "source": [
    "* From the bar diagram, we can see that individual decision tree have high ROC AUC score than soft voting classifier"
   ]
  },
  {
   "cell_type": "markdown",
   "metadata": {},
   "source": [
    "## Bagging classifier on LinearSVC"
   ]
  },
  {
   "cell_type": "code",
   "execution_count": 44,
   "metadata": {},
   "outputs": [
    {
     "data": {
      "text/plain": [
       "0.8857314096724549"
      ]
     },
     "execution_count": 44,
     "metadata": {},
     "output_type": "execute_result"
    }
   ],
   "source": [
    "from sklearn.ensemble import BaggingClassifier\n",
    "\n",
    "lsvc = LinearSVC(random_state=0)\n",
    "lsvc.fit(x_train,y_train)\n",
    "\n",
    "\n",
    "bag_clf = BaggingClassifier(lsvc, random_state=0,n_jobs=-1)\n",
    "\n",
    "\n",
    "param_grid = {'max_samples': [0.01,0.05,0.1,0.5,1],\n",
    "\n",
    "              'max_features': [0.01,0.05,0.1,0.5,1]}\n",
    "\n",
    "from sklearn.model_selection import GridSearchCV\n",
    "grid_search = GridSearchCV(bag_clf, param_grid, cv=5,scoring = 'roc_auc')\n",
    "\n",
    "grid_search.fit(x_train,y_train)\n",
    "\n",
    "BaggingLinearSVC=grid_search.best_score_\n",
    "BaggingLinearSVC"
   ]
  },
  {
   "cell_type": "markdown",
   "metadata": {},
   "source": [
    "## Bagging classifier on DecisionTreeClassifier"
   ]
  },
  {
   "cell_type": "code",
   "execution_count": 45,
   "metadata": {},
   "outputs": [
    {
     "data": {
      "text/plain": [
       "0.8422130104818379"
      ]
     },
     "execution_count": 45,
     "metadata": {},
     "output_type": "execute_result"
    }
   ],
   "source": [
    "from sklearn.model_selection import GridSearchCV\n",
    "from sklearn.ensemble import BaggingClassifier\n",
    "\n",
    "# next euta model, 2nd perform garne choose garera\n",
    "\n",
    "tree = DecisionTreeClassifier(random_state=0)\n",
    "tree.fit(x_train,y_train)\n",
    "\n",
    "bag_clf = BaggingClassifier(tree, random_state=0, n_jobs=-1)\n",
    "\n",
    "param_grid = {'max_samples': [0.01,0.05,0.1,0.5,1],\n",
    "\n",
    "              'max_features': [0.01,0.05,0.1,0.5,1]}\n",
    "\n",
    "grid_search = GridSearchCV(bag_clf, param_grid, cv=5,scoring = 'roc_auc')\n",
    "grid_search.fit(x_train,y_train)\n",
    "BaggingDecisionTreeClassifier=grid_search.best_score_\n",
    "BaggingDecisionTreeClassifier"
   ]
  },
  {
   "cell_type": "markdown",
   "metadata": {},
   "source": [
    "## Pasting  on LinearSVC"
   ]
  },
  {
   "cell_type": "code",
   "execution_count": 46,
   "metadata": {},
   "outputs": [
    {
     "data": {
      "text/plain": [
       "0.8869204754565194"
      ]
     },
     "execution_count": 46,
     "metadata": {},
     "output_type": "execute_result"
    }
   ],
   "source": [
    "from sklearn.ensemble import BaggingClassifier\n",
    "\n",
    "lsvc = LinearSVC(random_state=0)\n",
    "lsvc.fit(x_train,y_train)\n",
    "\n",
    "\n",
    "bag_clf = BaggingClassifier(lsvc, random_state=0,bootstrap=False, n_jobs=-1)\n",
    "\n",
    "\n",
    "param_grid = {'max_samples': [0.01,0.05,0.1,0.5,1],\n",
    "\n",
    "              'max_features': [0.01,0.05,0.1,0.5,1]}\n",
    "\n",
    "from sklearn.model_selection import GridSearchCV\n",
    "grid_search = GridSearchCV(bag_clf, param_grid, cv=5,scoring = 'roc_auc')\n",
    "\n",
    "grid_search.fit(x_train,y_train)\n",
    "PastingLinearSVC=grid_search.best_score_\n",
    "PastingLinearSVC"
   ]
  },
  {
   "cell_type": "markdown",
   "metadata": {},
   "source": [
    "## Pasting  on DecisionTreeClassifier"
   ]
  },
  {
   "cell_type": "code",
   "execution_count": 47,
   "metadata": {},
   "outputs": [
    {
     "data": {
      "text/plain": [
       "0.8425867935876339"
      ]
     },
     "execution_count": 47,
     "metadata": {},
     "output_type": "execute_result"
    }
   ],
   "source": [
    "from sklearn.model_selection import GridSearchCV\n",
    "\n",
    "from sklearn.ensemble import BaggingClassifier\n",
    "\n",
    "tree = DecisionTreeClassifier(random_state=0)\n",
    "tree.fit(x_train,y_train)\n",
    "\n",
    "\n",
    "bag_clf = BaggingClassifier(tree, random_state=0, n_jobs=-1,bootstrap=False,)\n",
    "\n",
    "\n",
    "param_grid = {'max_samples': [0.01,0.05,0.1,0.5,1],\n",
    "\n",
    "              'max_features': [0.01,0.05,0.1,0.5,1]}\n",
    "\n",
    "grid_search = GridSearchCV(bag_clf, param_grid, cv=5,scoring = 'roc_auc')\n",
    "\n",
    "grid_search.fit(x_train,y_train)\n",
    "PastingDecisionTreeClassifier=grid_search.best_score_\n",
    "PastingDecisionTreeClassifier"
   ]
  },
  {
   "cell_type": "markdown",
   "metadata": {},
   "source": [
    "## Adaboast on DecisionTreeClassifier"
   ]
  },
  {
   "cell_type": "code",
   "execution_count": 48,
   "metadata": {},
   "outputs": [
    {
     "data": {
      "text/plain": [
       "(1.0, 0.6733682602227817)"
      ]
     },
     "execution_count": 48,
     "metadata": {},
     "output_type": "execute_result"
    }
   ],
   "source": [
    "# adaboast in decision tree\n",
    "\n",
    "from sklearn.ensemble import AdaBoostClassifier\n",
    "from sklearn import metrics\n",
    "from sklearn.metrics import accuracy_score, confusion_matrix, recall_score, roc_auc_score, precision_score\n",
    "\n",
    "\n",
    "ada_clf = AdaBoostClassifier(DecisionTreeClassifier(random_state=0), n_estimators=200, algorithm=\"SAMME.R\", learning_rate=0.5, random_state=0)\n",
    "ada_clf.fit(x_train, y_train)\n",
    "AdaboastDecisionTreeClassifier=roc_auc_score(y_train, ada_clf.predict(x_train))\n",
    "roc_auc_score(y_train, ada_clf.predict(x_train)),roc_auc_score(y_test, ada_clf.predict(x_test))\n"
   ]
  },
  {
   "cell_type": "markdown",
   "metadata": {},
   "source": [
    "## Adaboast on linear SVC"
   ]
  },
  {
   "cell_type": "code",
   "execution_count": 49,
   "metadata": {},
   "outputs": [
    {
     "data": {
      "text/plain": [
       "(0.6217340840153018, 0.6156474532521201)"
      ]
     },
     "execution_count": 49,
     "metadata": {},
     "output_type": "execute_result"
    }
   ],
   "source": [
    "from sklearn.ensemble import AdaBoostClassifier\n",
    "\n",
    "ada_clf = AdaBoostClassifier(LinearSVC(random_state=0), n_estimators=200, algorithm=\"SAMME\", learning_rate=0.5, random_state=0)\n",
    "ada_clf.fit(x_train, y_train)\n",
    "\n",
    "AdaboastlinearSVC=roc_auc_score(y_train, ada_clf.predict(x_train))\n",
    "roc_auc_score(y_train, ada_clf.predict(x_train)),roc_auc_score(y_test, ada_clf.predict(x_test))"
   ]
  },
  {
   "cell_type": "markdown",
   "metadata": {},
   "source": [
    "# Gradient Bosting"
   ]
  },
  {
   "cell_type": "code",
   "execution_count": 50,
   "metadata": {},
   "outputs": [
    {
     "data": {
      "text/plain": [
       "(0.6879014999380986, 0.6547720279280843)"
      ]
     },
     "execution_count": 50,
     "metadata": {},
     "output_type": "execute_result"
    }
   ],
   "source": [
    "from sklearn.ensemble import GradientBoostingClassifier\n",
    "gbrt = GradientBoostingClassifier(random_state=0)\n",
    "gbrt.fit(x_train, y_train)\n",
    "\n",
    "Gradient_Bosting=roc_auc_score(y_train, gbrt.predict(x_train))\n",
    "roc_auc_score(y_train, gbrt.predict(x_train)),roc_auc_score(y_test, gbrt.predict(x_test))"
   ]
  },
  {
   "cell_type": "code",
   "execution_count": 51,
   "metadata": {},
   "outputs": [
    {
     "data": {
      "text/plain": [
       "([<matplotlib.axis.YTick at 0x7fc9258d7430>,\n",
       "  <matplotlib.axis.YTick at 0x7fc9258d7070>,\n",
       "  <matplotlib.axis.YTick at 0x7fc9255172b0>,\n",
       "  <matplotlib.axis.YTick at 0x7fc925010190>,\n",
       "  <matplotlib.axis.YTick at 0x7fc9250106a0>,\n",
       "  <matplotlib.axis.YTick at 0x7fc925010bb0>,\n",
       "  <matplotlib.axis.YTick at 0x7fc9250107f0>,\n",
       "  <matplotlib.axis.YTick at 0x7fc925016100>,\n",
       "  <matplotlib.axis.YTick at 0x7fc925016610>,\n",
       "  <matplotlib.axis.YTick at 0x7fc925016b20>,\n",
       "  <matplotlib.axis.YTick at 0x7fc92615a070>,\n",
       "  <matplotlib.axis.YTick at 0x7fc92615a580>,\n",
       "  <matplotlib.axis.YTick at 0x7fc92615aa90>,\n",
       "  <matplotlib.axis.YTick at 0x7fc92615afa0>,\n",
       "  <matplotlib.axis.YTick at 0x7fc92615e4f0>,\n",
       "  <matplotlib.axis.YTick at 0x7fc92615ea00>,\n",
       "  <matplotlib.axis.YTick at 0x7fc92615a250>,\n",
       "  <matplotlib.axis.YTick at 0x7fc9250162e0>,\n",
       "  <matplotlib.axis.YTick at 0x7fc92615e070>,\n",
       "  <matplotlib.axis.YTick at 0x7fc92615ef10>,\n",
       "  <matplotlib.axis.YTick at 0x7fc926165460>,\n",
       "  <matplotlib.axis.YTick at 0x7fc926165970>,\n",
       "  <matplotlib.axis.YTick at 0x7fc926165eb0>,\n",
       "  <matplotlib.axis.YTick at 0x7fc92616b400>,\n",
       "  <matplotlib.axis.YTick at 0x7fc92616b910>,\n",
       "  <matplotlib.axis.YTick at 0x7fc926165a60>,\n",
       "  <matplotlib.axis.YTick at 0x7fc92615e100>,\n",
       "  <matplotlib.axis.YTick at 0x7fc92616bc70>,\n",
       "  <matplotlib.axis.YTick at 0x7fc92616bee0>,\n",
       "  <matplotlib.axis.YTick at 0x7fc926171430>,\n",
       "  <matplotlib.axis.YTick at 0x7fc926171970>,\n",
       "  <matplotlib.axis.YTick at 0x7fc926171e80>,\n",
       "  <matplotlib.axis.YTick at 0x7fc9261773d0>,\n",
       "  <matplotlib.axis.YTick at 0x7fc9261778e0>,\n",
       "  <matplotlib.axis.YTick at 0x7fc926177df0>,\n",
       "  <matplotlib.axis.YTick at 0x7fc9261775b0>,\n",
       "  <matplotlib.axis.YTick at 0x7fc926171640>,\n",
       "  <matplotlib.axis.YTick at 0x7fc925010400>,\n",
       "  <matplotlib.axis.YTick at 0x7fc92617c340>,\n",
       "  <matplotlib.axis.YTick at 0x7fc92617c850>,\n",
       "  <matplotlib.axis.YTick at 0x7fc92617cd60>,\n",
       "  <matplotlib.axis.YTick at 0x7fc9261822b0>,\n",
       "  <matplotlib.axis.YTick at 0x7fc9261827c0>,\n",
       "  <matplotlib.axis.YTick at 0x7fc926182cd0>,\n",
       "  <matplotlib.axis.YTick at 0x7fc926188220>,\n",
       "  <matplotlib.axis.YTick at 0x7fc926182400>,\n",
       "  <matplotlib.axis.YTick at 0x7fc92617c490>,\n",
       "  <matplotlib.axis.YTick at 0x7fc926171ac0>,\n",
       "  <matplotlib.axis.YTick at 0x7fc926188790>],\n",
       " [Text(0, 0, 'admin.'),\n",
       "  Text(0, 0, 'blue-collar'),\n",
       "  Text(0, 0, 'entrepreneur'),\n",
       "  Text(0, 0, 'housemaid'),\n",
       "  Text(0, 0, 'management'),\n",
       "  Text(0, 0, 'retired'),\n",
       "  Text(0, 0, 'self-employed'),\n",
       "  Text(0, 0, 'services'),\n",
       "  Text(0, 0, 'student'),\n",
       "  Text(0, 0, 'technician'),\n",
       "  Text(0, 0, 'unemployed'),\n",
       "  Text(0, 0, 'divorced'),\n",
       "  Text(0, 0, 'married'),\n",
       "  Text(0, 0, 'single'),\n",
       "  Text(0, 0, 'basic.4y'),\n",
       "  Text(0, 0, 'basic.6y'),\n",
       "  Text(0, 0, 'basic.9y'),\n",
       "  Text(0, 0, 'high.school'),\n",
       "  Text(0, 0, 'illiterate'),\n",
       "  Text(0, 0, 'professional.course'),\n",
       "  Text(0, 0, 'university.degree'),\n",
       "  Text(0, 0, 'cellular'),\n",
       "  Text(0, 0, 'telephone'),\n",
       "  Text(0, 0, 'apr'),\n",
       "  Text(0, 0, 'aug'),\n",
       "  Text(0, 0, 'dec'),\n",
       "  Text(0, 0, 'jul'),\n",
       "  Text(0, 0, 'jun'),\n",
       "  Text(0, 0, 'mar'),\n",
       "  Text(0, 0, 'may'),\n",
       "  Text(0, 0, 'nov'),\n",
       "  Text(0, 0, 'oct'),\n",
       "  Text(0, 0, 'sep'),\n",
       "  Text(0, 0, 'fri'),\n",
       "  Text(0, 0, 'mon'),\n",
       "  Text(0, 0, 'thu'),\n",
       "  Text(0, 0, 'tue'),\n",
       "  Text(0, 0, 'wed'),\n",
       "  Text(0, 0, 'failure'),\n",
       "  Text(0, 0, 'nonexistent'),\n",
       "  Text(0, 0, 'success'),\n",
       "  Text(0, 0, 'age'),\n",
       "  Text(0, 0, 'default'),\n",
       "  Text(0, 0, 'housing'),\n",
       "  Text(0, 0, 'loan'),\n",
       "  Text(0, 0, 'duration'),\n",
       "  Text(0, 0, 'campaign'),\n",
       "  Text(0, 0, 'pdays'),\n",
       "  Text(0, 0, 'previous')])"
      ]
     },
     "execution_count": 51,
     "metadata": {},
     "output_type": "execute_result"
    },
    {
     "data": {
      "image/png": "[encoded data removed]",
      "text/plain": [
       "<Figure size 1440x720 with 1 Axes>"
      ]
     },
     "metadata": {
      "needs_background": "light"
     },
     "output_type": "display_data"
    }
   ],
   "source": [
    "%matplotlib inline\n",
    "\n",
    "plt.subplots(figsize = (20,10))\n",
    "y_list = gbrt.feature_importances_\n",
    "y_pos = np.arange(len(y_list))\n",
    "features = x.columns\n",
    "plt.barh(y_pos, y_list, align='center', alpha=0.4)\n",
    "plt.yticks(y_pos, features)"
   ]
  },
  {
   "cell_type": "markdown",
   "metadata": {},
   "source": [
    "* The results of above algorithms are presented in the table below"
   ]
  },
  {
   "cell_type": "code",
   "execution_count": 52,
   "metadata": {},
   "outputs": [
    {
     "data": {
      "text/html": [
       "<div>\n",
       "<style scoped>\n",
       "    .dataframe tbody tr th:only-of-type {\n",
       "        vertical-align: middle;\n",
       "    }\n",
       "\n",
       "    .dataframe tbody tr th {\n",
       "        vertical-align: top;\n",
       "    }\n",
       "\n",
       "    .dataframe thead th {\n",
       "        text-align: right;\n",
       "    }\n",
       "</style>\n",
       "<table border=\"1\" class=\"dataframe\">\n",
       "  <thead>\n",
       "    <tr style=\"text-align: right;\">\n",
       "      <th></th>\n",
       "      <th>Training_ROC_AUC</th>\n",
       "    </tr>\n",
       "  </thead>\n",
       "  <tbody>\n",
       "    <tr>\n",
       "      <th>BaggingLinearSVC</th>\n",
       "      <td>0.885731</td>\n",
       "    </tr>\n",
       "    <tr>\n",
       "      <th>BaggingDecisionTreeClassifier</th>\n",
       "      <td>0.842213</td>\n",
       "    </tr>\n",
       "    <tr>\n",
       "      <th>PastingLinearSVC</th>\n",
       "      <td>0.886920</td>\n",
       "    </tr>\n",
       "    <tr>\n",
       "      <th>PastingDecisionTreeClassifier</th>\n",
       "      <td>0.842587</td>\n",
       "    </tr>\n",
       "    <tr>\n",
       "      <th>AdaboastDecisionTreeClassifier</th>\n",
       "      <td>1.000000</td>\n",
       "    </tr>\n",
       "    <tr>\n",
       "      <th>AdaboastlinearSVC</th>\n",
       "      <td>0.621734</td>\n",
       "    </tr>\n",
       "    <tr>\n",
       "      <th>Gradient_Bosting</th>\n",
       "      <td>0.687901</td>\n",
       "    </tr>\n",
       "  </tbody>\n",
       "</table>\n",
       "</div>"
      ],
      "text/plain": [
       "                                Training_ROC_AUC\n",
       "BaggingLinearSVC                        0.885731\n",
       "BaggingDecisionTreeClassifier           0.842213\n",
       "PastingLinearSVC                        0.886920\n",
       "PastingDecisionTreeClassifier           0.842587\n",
       "AdaboastDecisionTreeClassifier          1.000000\n",
       "AdaboastlinearSVC                       0.621734\n",
       "Gradient_Bosting                        0.687901"
      ]
     },
     "execution_count": 52,
     "metadata": {},
     "output_type": "execute_result"
    }
   ],
   "source": [
    "a=['BaggingLinearSVC','BaggingDecisionTreeClassifier','PastingLinearSVC','PastingDecisionTreeClassifier','AdaboastDecisionTreeClassifier','AdaboastlinearSVC','Gradient_Bosting']\n",
    "b=(BaggingLinearSVC,BaggingDecisionTreeClassifier,PastingLinearSVC,PastingDecisionTreeClassifier,AdaboastDecisionTreeClassifier,AdaboastlinearSVC,Gradient_Bosting)\n",
    "ab=pd.DataFrame(b,a)\n",
    "ab.columns=['Training_ROC_AUC']\n",
    "ab"
   ]
  },
  {
   "cell_type": "markdown",
   "metadata": {},
   "source": [
    "* Although these models gave us really high ROC_AUC, but these models are overfiitted and perform really bad in test dataset"
   ]
  },
  {
   "cell_type": "markdown",
   "metadata": {},
   "source": [
    "# Reducing data with PCA"
   ]
  },
  {
   "cell_type": "code",
   "execution_count": 53,
   "metadata": {},
   "outputs": [],
   "source": [
    "x_train, x_test, y_train, y_test = train_test_split(x,y, random_state=0)"
   ]
  },
  {
   "cell_type": "code",
   "execution_count": 54,
   "metadata": {},
   "outputs": [],
   "source": [
    "from sklearn.decomposition import PCA\n",
    "from sklearn.preprocessing import MinMaxScaler\n",
    "pca = PCA(n_components=0.95)\n",
    "scaler=MinMaxScaler()\n",
    "\n",
    "x_train = scaler.fit_transform(x_train)\n",
    "x_test = scaler.transform(x_test)\n"
   ]
  },
  {
   "cell_type": "code",
   "execution_count": 55,
   "metadata": {},
   "outputs": [],
   "source": [
    "x_train = pca.fit_transform(x_train)\n",
    "x_test = pca.transform(x_test)\n"
   ]
  },
  {
   "cell_type": "markdown",
   "metadata": {},
   "source": [
    "## Classification Models:\n",
    "##### Models Used: \n",
    ">KNN classification, Logistic Regression, Linear Support Vector Machine (SVM), Kernelized Support Vector Machine (rbf, poly, and linear), and Decision Tree Classifier. <br> <br>\n",
    ">Intermediate models will be chosen based on maximizing the test scores."
   ]
  },
  {
   "cell_type": "markdown",
   "metadata": {},
   "source": [
    "* Now we will run all the individual classification model using reduced data from PCA"
   ]
  },
  {
   "cell_type": "markdown",
   "metadata": {},
   "source": [
    "### KNN Classification"
   ]
  },
  {
   "cell_type": "code",
   "execution_count": 56,
   "metadata": {},
   "outputs": [
    {
     "data": {
      "text/plain": [
       "GridSearchCV(cv=5, estimator=KNeighborsClassifier(), n_jobs=-1,\n",
       "             param_grid={'n_neighbors': [5, 10, 15, 20, 30, 40, 50]},\n",
       "             scoring='roc_auc')"
      ]
     },
     "execution_count": 56,
     "metadata": {},
     "output_type": "execute_result"
    }
   ],
   "source": [
    "from sklearn.metrics import confusion_matrix, plot_confusion_matrix\n",
    "from sklearn.metrics import accuracy_score \n",
    "from sklearn.neighbors import KNeighborsClassifier\n",
    "from sklearn.model_selection import GridSearchCV\n",
    "\n",
    "#best implementation\n",
    "knn = KNeighborsClassifier()\n",
    "param_grid = {'n_neighbors': [5, 10, 15, 20, 30, 40, 50]}\n",
    "knn_grid = GridSearchCV(knn, param_grid, cv = 5, n_jobs = -1, scoring = 'roc_auc')\n",
    "knn_grid.fit(x_train, y_train) #imbalance X_"
   ]
  },
  {
   "cell_type": "code",
   "execution_count": 57,
   "metadata": {},
   "outputs": [
    {
     "data": {
      "text/plain": [
       "{'n_neighbors': 50}"
      ]
     },
     "execution_count": 57,
     "metadata": {},
     "output_type": "execute_result"
    }
   ],
   "source": [
    "knn_grid.best_params_"
   ]
  },
  {
   "cell_type": "code",
   "execution_count": 58,
   "metadata": {},
   "outputs": [
    {
     "data": {
      "text/plain": [
       "[<matplotlib.lines.Line2D at 0x7fc926227490>]"
      ]
     },
     "execution_count": 58,
     "metadata": {},
     "output_type": "execute_result"
    },
    {
     "data": {
      "image/png": "[encoded data removed]",
      "text/plain": [
       "<Figure size 432x288 with 1 Axes>"
      ]
     },
     "metadata": {
      "needs_background": "light"
     },
     "output_type": "display_data"
    }
   ],
   "source": [
    "a=knn_grid.cv_results_\n",
    "y=a['mean_test_score']\n",
    "x=[5, 10, 15, 20, 30, 40, 50]\n",
    "plt.plot(x,y)"
   ]
  },
  {
   "cell_type": "markdown",
   "metadata": {},
   "source": [
    "* From the figure as well, we can see the best param is when k=50"
   ]
  },
  {
   "cell_type": "code",
   "execution_count": 59,
   "metadata": {},
   "outputs": [
    {
     "data": {
      "text/plain": [
       "<bound method BaseEstimator.get_params of GridSearchCV(cv=5, estimator=KNeighborsClassifier(), n_jobs=-1,\n",
       "             param_grid={'n_neighbors': [5, 10, 15, 20, 30, 40, 50]},\n",
       "             scoring='roc_auc')>"
      ]
     },
     "execution_count": 59,
     "metadata": {},
     "output_type": "execute_result"
    }
   ],
   "source": [
    "knn_grid.get_params"
   ]
  },
  {
   "cell_type": "markdown",
   "metadata": {},
   "source": [
    "### Logistic Regression"
   ]
  },
  {
   "cell_type": "code",
   "execution_count": 60,
   "metadata": {},
   "outputs": [
    {
     "data": {
      "text/plain": [
       "GridSearchCV(cv=5,\n",
       "             estimator=LogisticRegression(random_state=0, solver='liblinear'),\n",
       "             n_jobs=-1,\n",
       "             param_grid={'C': [0.001, 0.01, 0.1, 1, 10, 100],\n",
       "                         'max_iter': [50, 100, 500, 1000]},\n",
       "             scoring='roc_auc')"
      ]
     },
     "execution_count": 60,
     "metadata": {},
     "output_type": "execute_result"
    }
   ],
   "source": [
    "from sklearn.linear_model import LogisticRegression\n",
    "\n",
    "param_grid = {'C': [0.001, 0.01, 0.1, 1, 10, 100], 'max_iter': [50,100,500,1000]}\n",
    "\n",
    "logreg = LogisticRegression(solver='liblinear', random_state=0)\n",
    "logreg_grid = GridSearchCV(logreg, param_grid, cv = 5, n_jobs = -1, scoring = 'roc_auc')\n",
    "logreg_grid.fit(x_train, y_train)"
   ]
  },
  {
   "cell_type": "code",
   "execution_count": 61,
   "metadata": {},
   "outputs": [
    {
     "data": {
      "text/plain": [
       "{'C': 0.1, 'max_iter': 50}"
      ]
     },
     "execution_count": 61,
     "metadata": {},
     "output_type": "execute_result"
    }
   ],
   "source": [
    "logreg_grid.best_params_"
   ]
  },
  {
   "cell_type": "code",
   "execution_count": 62,
   "metadata": {},
   "outputs": [
    {
     "name": "stdout",
     "output_type": "stream",
     "text": [
      "0.7385643333477241\n"
     ]
    }
   ],
   "source": [
    "logreg_score = logreg_grid.best_score_\n",
    "print(logreg_score)"
   ]
  },
  {
   "cell_type": "code",
   "execution_count": 63,
   "metadata": {},
   "outputs": [],
   "source": [
    "# convert pandas series to numpy arrays for use in following models\n",
    "y_test = np.array(y_test)\n",
    "y_train = np.array(y_train)"
   ]
  },
  {
   "cell_type": "markdown",
   "metadata": {},
   "source": [
    "### Linear SVM\n"
   ]
  },
  {
   "cell_type": "code",
   "execution_count": 64,
   "metadata": {},
   "outputs": [
    {
     "name": "stdout",
     "output_type": "stream",
     "text": [
      "0.7452091454070082\n"
     ]
    }
   ],
   "source": [
    "from sklearn.svm import LinearSVC\n",
    "from mlxtend.plotting import plot_decision_regions\n",
    "\n",
    "lsvc = LinearSVC(random_state=0)\n",
    "\n",
    "param_grid = {'C': [.001,.01,.1,1,10,100]}\n",
    "\n",
    "lsvc_grid = GridSearchCV(lsvc, cv = 5, param_grid=param_grid, n_jobs = -1, scoring = 'roc_auc')\n",
    "lsvc_grid.fit(x_train, y_train)\n",
    "\n",
    "lsvm_score = lsvc_grid.best_score_\n",
    "print(lsvm_score)"
   ]
  },
  {
   "cell_type": "code",
   "execution_count": 65,
   "metadata": {},
   "outputs": [
    {
     "data": {
      "text/plain": [
       "{'C': 0.01}"
      ]
     },
     "execution_count": 65,
     "metadata": {},
     "output_type": "execute_result"
    }
   ],
   "source": [
    "lsvc_grid.best_params_"
   ]
  },
  {
   "cell_type": "markdown",
   "metadata": {},
   "source": [
    "### Kernelized SVM - rbf"
   ]
  },
  {
   "cell_type": "code",
   "execution_count": 66,
   "metadata": {},
   "outputs": [
    {
     "name": "stdout",
     "output_type": "stream",
     "text": [
      "0.7418919574243988\n"
     ]
    }
   ],
   "source": [
    "from sklearn.svm import SVC\n",
    "\n",
    "param_grid = {'C': [.001,.01,.1,1,10,100], 'gamma': [.001,.01,.1,1,10,100]}\n",
    "\n",
    "svcr = SVC(kernel='rbf', random_state=0)\n",
    "\n",
    "svcr_grid = GridSearchCV(svcr, cv=5, param_grid=param_grid, n_jobs=-1, scoring = 'roc_auc')\n",
    "\n",
    "svcr_grid.fit(x_train, y_train)\n",
    "\n",
    "rsvc_score = svcr_grid.best_score_\n",
    "print(rsvc_score)"
   ]
  },
  {
   "cell_type": "code",
   "execution_count": 67,
   "metadata": {},
   "outputs": [
    {
     "data": {
      "text/plain": [
       "{'C': 10, 'gamma': 0.001}"
      ]
     },
     "execution_count": 67,
     "metadata": {},
     "output_type": "execute_result"
    }
   ],
   "source": [
    "svcr_grid.best_params_"
   ]
  },
  {
   "cell_type": "markdown",
   "metadata": {},
   "source": [
    "### Kernelized SVM - poly"
   ]
  },
  {
   "cell_type": "code",
   "execution_count": 68,
   "metadata": {},
   "outputs": [
    {
     "name": "stdout",
     "output_type": "stream",
     "text": [
      "0.6848198928554332\n"
     ]
    }
   ],
   "source": [
    "from sklearn.svm import SVC\n",
    "\n",
    "param_grid = {'C': [.1,1,10,100]}\n",
    "\n",
    "svcp = SVC(kernel='poly', degree=3, random_state=0, coef0=1)\n",
    "\n",
    "svcp_grid = GridSearchCV(svcp, cv=5, param_grid=param_grid, n_jobs=-1, scoring = 'roc_auc')\n",
    "\n",
    "svcp_grid.fit(x_train, y_train)\n",
    "\n",
    "psvc_score = svcp_grid.best_score_\n",
    "print(psvc_score)"
   ]
  },
  {
   "cell_type": "code",
   "execution_count": 69,
   "metadata": {},
   "outputs": [
    {
     "data": {
      "text/plain": [
       "{'C': 0.1}"
      ]
     },
     "execution_count": 69,
     "metadata": {},
     "output_type": "execute_result"
    }
   ],
   "source": [
    "svcp_grid.best_params_\n"
   ]
  },
  {
   "cell_type": "markdown",
   "metadata": {},
   "source": [
    "### Kernelized SVM - linear"
   ]
  },
  {
   "cell_type": "code",
   "execution_count": 70,
   "metadata": {},
   "outputs": [
    {
     "data": {
      "text/plain": [
       "GridSearchCV(cv=5, estimator=SVC(kernel='linear', random_state=0), n_jobs=-1,\n",
       "             param_grid={'C': [0.1, 1, 10, 100]}, scoring='roc_auc')"
      ]
     },
     "execution_count": 70,
     "metadata": {},
     "output_type": "execute_result"
    }
   ],
   "source": [
    "from sklearn.svm import SVC\n",
    "\n",
    "param_grid = {'C': [.1,1,10,100]}\n",
    "\n",
    "lsvc = SVC(kernel='linear', random_state=0)\n",
    "\n",
    "lsvc_grid = GridSearchCV(lsvc, cv=5, param_grid=param_grid, n_jobs=-1, scoring = 'roc_auc')\n",
    "\n",
    "lsvc_grid.fit(x_train, y_train)"
   ]
  },
  {
   "cell_type": "code",
   "execution_count": 71,
   "metadata": {},
   "outputs": [
    {
     "name": "stdout",
     "output_type": "stream",
     "text": [
      "0.7359422641368759\n"
     ]
    }
   ],
   "source": [
    "lsvc_score = lsvc_grid.best_score_\n",
    "print(lsvc_score)"
   ]
  },
  {
   "cell_type": "code",
   "execution_count": 72,
   "metadata": {},
   "outputs": [
    {
     "data": {
      "text/plain": [
       "{'C': 0.1}"
      ]
     },
     "execution_count": 72,
     "metadata": {},
     "output_type": "execute_result"
    }
   ],
   "source": [
    "lsvc_grid.best_params_"
   ]
  },
  {
   "cell_type": "markdown",
   "metadata": {},
   "source": [
    "### Decision Tree"
   ]
  },
  {
   "cell_type": "code",
   "execution_count": 73,
   "metadata": {},
   "outputs": [
    {
     "data": {
      "text/plain": [
       "GridSearchCV(cv=5, estimator=DecisionTreeClassifier(random_state=0), n_jobs=-1,\n",
       "             param_grid={'max_depth': [20, 30, 40, 50, 60, 70],\n",
       "                         'min_impurity_decrease': [0.001, 0.005, 0.01, 0.05,\n",
       "                                                   0.1],\n",
       "                         'min_samples_leaf': [30, 60, 120, 240, 480],\n",
       "                         'min_samples_split': [30, 60, 120, 240, 480]},\n",
       "             scoring='roc_auc')"
      ]
     },
     "execution_count": 73,
     "metadata": {},
     "output_type": "execute_result"
    }
   ],
   "source": [
    "from sklearn.tree import DecisionTreeClassifier\n",
    "\n",
    "midlst= [.001,.005,.01,.05,.1] # these numbers are relatively arbitrary\n",
    "msllst= [30,60,120,240,480] # below a sample of size n=30 is not significant enough to justify its own leaf\n",
    "msslst= [30,60,120,240,480] \n",
    "mdlst= [20,30,40,50,60,70] # too large of a tree will lose its interpretability, and therefore its business value. May consider further trimming.\n",
    "\n",
    "param_grid = {'min_impurity_decrease': midlst, 'min_samples_leaf': msllst, 'min_samples_split': msslst, 'max_depth': mdlst}\n",
    "\n",
    "tree = DecisionTreeClassifier(random_state=0)\n",
    "tree_grid = GridSearchCV(tree, param_grid=param_grid, cv=5, n_jobs=-1, scoring='roc_auc')\n",
    "\n",
    "tree_grid.fit(x_train,y_train)"
   ]
  },
  {
   "cell_type": "code",
   "execution_count": 74,
   "metadata": {},
   "outputs": [
    {
     "name": "stdout",
     "output_type": "stream",
     "text": [
      "0.7026723127386888\n"
     ]
    }
   ],
   "source": [
    "dtree_score = tree_grid.best_score_\n",
    "print(dtree_score)"
   ]
  },
  {
   "cell_type": "code",
   "execution_count": 75,
   "metadata": {},
   "outputs": [
    {
     "data": {
      "text/plain": [
       "{'max_depth': 20,\n",
       " 'min_impurity_decrease': 0.001,\n",
       " 'min_samples_leaf': 120,\n",
       " 'min_samples_split': 30}"
      ]
     },
     "execution_count": 75,
     "metadata": {},
     "output_type": "execute_result"
    }
   ],
   "source": [
    "tree_grid.best_params_\n"
   ]
  },
  {
   "cell_type": "markdown",
   "metadata": {},
   "source": [
    "## Project 1 Result"
   ]
  },
  {
   "cell_type": "code",
   "execution_count": 76,
   "metadata": {},
   "outputs": [
    {
     "data": {
      "text/html": [
       "<div>\n",
       "<style scoped>\n",
       "    .dataframe tbody tr th:only-of-type {\n",
       "        vertical-align: middle;\n",
       "    }\n",
       "\n",
       "    .dataframe tbody tr th {\n",
       "        vertical-align: top;\n",
       "    }\n",
       "\n",
       "    .dataframe thead th {\n",
       "        text-align: right;\n",
       "    }\n",
       "</style>\n",
       "<table border=\"1\" class=\"dataframe\">\n",
       "  <thead>\n",
       "    <tr style=\"text-align: right;\">\n",
       "      <th></th>\n",
       "      <th>Without_PCA</th>\n",
       "    </tr>\n",
       "  </thead>\n",
       "  <tbody>\n",
       "    <tr>\n",
       "      <th>knn_score</th>\n",
       "      <td>0.785281</td>\n",
       "    </tr>\n",
       "    <tr>\n",
       "      <th>logreg_score</th>\n",
       "      <td>0.891234</td>\n",
       "    </tr>\n",
       "    <tr>\n",
       "      <th>lsvm_score</th>\n",
       "      <td>0.893031</td>\n",
       "    </tr>\n",
       "    <tr>\n",
       "      <th>lsvc_score</th>\n",
       "      <td>0.875116</td>\n",
       "    </tr>\n",
       "    <tr>\n",
       "      <th>rsvc_score</th>\n",
       "      <td>0.887966</td>\n",
       "    </tr>\n",
       "    <tr>\n",
       "      <th>psvc_score</th>\n",
       "      <td>0.875116</td>\n",
       "    </tr>\n",
       "    <tr>\n",
       "      <th>lsvc</th>\n",
       "      <td>0.888594</td>\n",
       "    </tr>\n",
       "    <tr>\n",
       "      <th>dtree_score</th>\n",
       "      <td>0.830254</td>\n",
       "    </tr>\n",
       "  </tbody>\n",
       "</table>\n",
       "</div>"
      ],
      "text/plain": [
       "              Without_PCA\n",
       "knn_score        0.785281\n",
       "logreg_score     0.891234\n",
       "lsvm_score       0.893031\n",
       "lsvc_score       0.875116\n",
       "rsvc_score       0.887966\n",
       "psvc_score       0.875116\n",
       "lsvc             0.888594\n",
       "dtree_score      0.830254"
      ]
     },
     "execution_count": 76,
     "metadata": {},
     "output_type": "execute_result"
    }
   ],
   "source": [
    "d = {\"knn_score\": 0.785281, \"logreg_score\": 0.891234, \"lsvm_score\": 0.893031,\"lsvc_score\":0.888594,\"rsvc_score\":0.887966\n",
    "     ,\"psvc_score\": 0.875116,\"lsvc_score\": 0.875116,\"lsvc\":0.888594,\"dtree_score\":0.830254}\n",
    "\n",
    "import pandas as pd\n",
    "d=pd.Series(d)\n",
    "Project1result=d.to_frame()\n",
    "Project1result\n",
    "Project1result.columns=['Without_PCA']\n",
    "Project1result"
   ]
  },
  {
   "cell_type": "code",
   "execution_count": 82,
   "metadata": {},
   "outputs": [],
   "source": [
    "#pip install keras\n",
    "#pip install tensorflow"
   ]
  },
  {
   "cell_type": "code",
   "execution_count": null,
   "metadata": {},
   "outputs": [],
   "source": [
    "# redefine x & y\n",
    "y = fdf['y']\n",
    "#y\n",
    "x = fdf.drop('y', axis=1)\n",
    "#x"
   ]
  },
  {
   "cell_type": "markdown",
   "metadata": {},
   "source": [
    "## Deep Learning model"
   ]
  },
  {
   "cell_type": "code",
   "execution_count": 98,
   "metadata": {},
   "outputs": [],
   "source": [
    "# scaling the data\n",
    "x_train, x_test, y_train, y_test = train_test_split(x,y, random_state=0)\n",
    "\n",
    "from sklearn.decomposition import PCA\n",
    "from sklearn.preprocessing import MinMaxScaler\n",
    "\n",
    "pca = PCA(n_components=0.95)\n",
    "\n",
    "scaler=MinMaxScaler()\n",
    "\n",
    "x_train = scaler.fit_transform(x_train)\n",
    "x_test = scaler.transform(x_test)\n"
   ]
  },
  {
   "cell_type": "code",
   "execution_count": 99,
   "metadata": {},
   "outputs": [],
   "source": [
    "from keras.models import Sequential\n",
    "from keras.layers import Dense"
   ]
  },
  {
   "cell_type": "code",
   "execution_count": 100,
   "metadata": {},
   "outputs": [],
   "source": [
    "import numpy as np\n",
    "from sklearn.model_selection import GridSearchCV\n",
    "from keras.models import Sequential\n",
    "from keras.layers import Dense\n",
    "from keras.wrappers.scikit_learn import KerasClassifier"
   ]
  },
  {
   "cell_type": "code",
   "execution_count": 101,
   "metadata": {},
   "outputs": [],
   "source": [
    "seed = 10\n",
    "np.random.seed(10)"
   ]
  },
  {
   "cell_type": "code",
   "execution_count": 102,
   "metadata": {},
   "outputs": [],
   "source": [
    "# create model\n",
    "model = Sequential()\n",
    "model.add(Dense(12, input_dim=49, activation='relu'))\n",
    "model.add(Dense(8, activation='relu'))\n",
    "model.add(Dense(1, activation='sigmoid'))"
   ]
  },
  {
   "cell_type": "code",
   "execution_count": 103,
   "metadata": {},
   "outputs": [],
   "source": [
    "model.compile(loss='binary_crossentropy', optimizer='adam', metrics=['accuracy'])"
   ]
  },
  {
   "cell_type": "code",
   "execution_count": 104,
   "metadata": {},
   "outputs": [
    {
     "name": "stdout",
     "output_type": "stream",
     "text": [
      "Epoch 1/150\n",
      "1500/1500 [==============================] - 1s 616us/step - loss: 0.3820 - accuracy: 0.8434\n",
      "Epoch 2/150\n",
      "1500/1500 [==============================] - 1s 652us/step - loss: 0.2509 - accuracy: 0.9046\n",
      "Epoch 3/150\n",
      "1500/1500 [==============================] - 1s 621us/step - loss: 0.2291 - accuracy: 0.9073\n",
      "Epoch 4/150\n",
      "1500/1500 [==============================] - 1s 602us/step - loss: 0.2250 - accuracy: 0.9054\n",
      "Epoch 5/150\n",
      "1500/1500 [==============================] - 1s 595us/step - loss: 0.2281 - accuracy: 0.9063\n",
      "Epoch 6/150\n",
      "1500/1500 [==============================] - 1s 608us/step - loss: 0.2216 - accuracy: 0.9078\n",
      "Epoch 7/150\n",
      "1500/1500 [==============================] - 1s 590us/step - loss: 0.2132 - accuracy: 0.9118\n",
      "Epoch 8/150\n",
      "1500/1500 [==============================] - 1s 619us/step - loss: 0.2144 - accuracy: 0.9078\n",
      "Epoch 9/150\n",
      "1500/1500 [==============================] - 1s 583us/step - loss: 0.2161 - accuracy: 0.9097\n",
      "Epoch 10/150\n",
      "1500/1500 [==============================] - 1s 637us/step - loss: 0.2081 - accuracy: 0.9120\n",
      "Epoch 11/150\n",
      "1500/1500 [==============================] - 1s 677us/step - loss: 0.2186 - accuracy: 0.9089\n",
      "Epoch 12/150\n",
      "1500/1500 [==============================] - 1s 682us/step - loss: 0.2068 - accuracy: 0.9110\n",
      "Epoch 13/150\n",
      "1500/1500 [==============================] - 1s 757us/step - loss: 0.2102 - accuracy: 0.9117\n",
      "Epoch 14/150\n",
      "1500/1500 [==============================] - 1s 657us/step - loss: 0.2100 - accuracy: 0.9123\n",
      "Epoch 15/150\n",
      "1500/1500 [==============================] - 1s 703us/step - loss: 0.2059 - accuracy: 0.9128\n",
      "Epoch 16/150\n",
      "1500/1500 [==============================] - 1s 665us/step - loss: 0.2115 - accuracy: 0.9139\n",
      "Epoch 17/150\n",
      "1500/1500 [==============================] - 1s 701us/step - loss: 0.2079 - accuracy: 0.9136\n",
      "Epoch 18/150\n",
      "1500/1500 [==============================] - 1s 631us/step - loss: 0.2104 - accuracy: 0.9129\n",
      "Epoch 19/150\n",
      "1500/1500 [==============================] - 1s 785us/step - loss: 0.1999 - accuracy: 0.9170\n",
      "Epoch 20/150\n",
      "1500/1500 [==============================] - 1s 788us/step - loss: 0.2079 - accuracy: 0.9120\n",
      "Epoch 21/150\n",
      "1500/1500 [==============================] - 1s 836us/step - loss: 0.2027 - accuracy: 0.9160\n",
      "Epoch 22/150\n",
      "1500/1500 [==============================] - 1s 829us/step - loss: 0.2049 - accuracy: 0.9149\n",
      "Epoch 23/150\n",
      "1500/1500 [==============================] - 1s 657us/step - loss: 0.1986 - accuracy: 0.9157\n",
      "Epoch 24/150\n",
      "1500/1500 [==============================] - 1s 693us/step - loss: 0.2045 - accuracy: 0.9144\n",
      "Epoch 25/150\n",
      "1500/1500 [==============================] - 1s 683us/step - loss: 0.1962 - accuracy: 0.9193\n",
      "Epoch 26/150\n",
      "1500/1500 [==============================] - 1s 610us/step - loss: 0.2040 - accuracy: 0.9126\n",
      "Epoch 27/150\n",
      "1500/1500 [==============================] - 1s 645us/step - loss: 0.1908 - accuracy: 0.9198\n",
      "Epoch 28/150\n",
      "1500/1500 [==============================] - 1s 654us/step - loss: 0.1930 - accuracy: 0.9183\n",
      "Epoch 29/150\n",
      "1500/1500 [==============================] - 1s 697us/step - loss: 0.2025 - accuracy: 0.9137\n",
      "Epoch 30/150\n",
      "1500/1500 [==============================] - 1s 664us/step - loss: 0.1932 - accuracy: 0.9207\n",
      "Epoch 31/150\n",
      "1500/1500 [==============================] - 1s 642us/step - loss: 0.1959 - accuracy: 0.9185\n",
      "Epoch 32/150\n",
      "1500/1500 [==============================] - 1s 662us/step - loss: 0.1940 - accuracy: 0.9202\n",
      "Epoch 33/150\n",
      "1500/1500 [==============================] - 1s 666us/step - loss: 0.1954 - accuracy: 0.9196\n",
      "Epoch 34/150\n",
      "1500/1500 [==============================] - 1s 689us/step - loss: 0.1989 - accuracy: 0.9209\n",
      "Epoch 35/150\n",
      "1500/1500 [==============================] - 1s 698us/step - loss: 0.2003 - accuracy: 0.9159\n",
      "Epoch 36/150\n",
      "1500/1500 [==============================] - 1s 730us/step - loss: 0.1982 - accuracy: 0.9150\n",
      "Epoch 37/150\n",
      "1500/1500 [==============================] - 1s 674us/step - loss: 0.1960 - accuracy: 0.9199\n",
      "Epoch 38/150\n",
      "1500/1500 [==============================] - 1s 688us/step - loss: 0.2050 - accuracy: 0.9133\n",
      "Epoch 39/150\n",
      "1500/1500 [==============================] - 1s 689us/step - loss: 0.1963 - accuracy: 0.9184\n",
      "Epoch 40/150\n",
      "1500/1500 [==============================] - 1s 680us/step - loss: 0.1921 - accuracy: 0.9171\n",
      "Epoch 41/150\n",
      "1500/1500 [==============================] - 1s 682us/step - loss: 0.1950 - accuracy: 0.9208\n",
      "Epoch 42/150\n",
      "1500/1500 [==============================] - 1s 682us/step - loss: 0.1961 - accuracy: 0.9193\n",
      "Epoch 43/150\n",
      "1500/1500 [==============================] - 1s 695us/step - loss: 0.2021 - accuracy: 0.9147\n",
      "Epoch 44/150\n",
      "1500/1500 [==============================] - 1s 695us/step - loss: 0.1901 - accuracy: 0.9209\n",
      "Epoch 45/150\n",
      "1500/1500 [==============================] - 1s 667us/step - loss: 0.1980 - accuracy: 0.9196\n",
      "Epoch 46/150\n",
      "1500/1500 [==============================] - 1s 680us/step - loss: 0.1935 - accuracy: 0.9174\n",
      "Epoch 47/150\n",
      "1500/1500 [==============================] - 1s 665us/step - loss: 0.1895 - accuracy: 0.9193\n",
      "Epoch 48/150\n",
      "1500/1500 [==============================] - 1s 672us/step - loss: 0.1965 - accuracy: 0.9170\n",
      "Epoch 49/150\n",
      "1500/1500 [==============================] - 1s 635us/step - loss: 0.1952 - accuracy: 0.9154\n",
      "Epoch 50/150\n",
      "1500/1500 [==============================] - 1s 659us/step - loss: 0.1943 - accuracy: 0.9209\n",
      "Epoch 51/150\n",
      "1500/1500 [==============================] - 1s 641us/step - loss: 0.1939 - accuracy: 0.9191\n",
      "Epoch 52/150\n",
      "1500/1500 [==============================] - 1s 683us/step - loss: 0.1961 - accuracy: 0.9181\n",
      "Epoch 53/150\n",
      "1500/1500 [==============================] - 1s 606us/step - loss: 0.1911 - accuracy: 0.9206\n",
      "Epoch 54/150\n",
      "1500/1500 [==============================] - 1s 602us/step - loss: 0.1954 - accuracy: 0.9197\n",
      "Epoch 55/150\n",
      "1500/1500 [==============================] - 1s 589us/step - loss: 0.1942 - accuracy: 0.9179\n",
      "Epoch 56/150\n",
      "1500/1500 [==============================] - 1s 785us/step - loss: 0.1945 - accuracy: 0.9182\n",
      "Epoch 57/150\n",
      "1500/1500 [==============================] - 1s 689us/step - loss: 0.1932 - accuracy: 0.9181\n",
      "Epoch 58/150\n",
      "1500/1500 [==============================] - 1s 609us/step - loss: 0.1877 - accuracy: 0.9202\n",
      "Epoch 59/150\n",
      "1500/1500 [==============================] - 1s 633us/step - loss: 0.1923 - accuracy: 0.9186\n",
      "Epoch 60/150\n",
      "1500/1500 [==============================] - 1s 611us/step - loss: 0.1870 - accuracy: 0.9210\n",
      "Epoch 61/150\n",
      "1500/1500 [==============================] - 1s 613us/step - loss: 0.1967 - accuracy: 0.9161\n",
      "Epoch 62/150\n",
      "1500/1500 [==============================] - 1s 601us/step - loss: 0.1851 - accuracy: 0.9233\n",
      "Epoch 63/150\n",
      "1500/1500 [==============================] - 1s 618us/step - loss: 0.1884 - accuracy: 0.9202\n",
      "Epoch 64/150\n",
      "1500/1500 [==============================] - 1s 659us/step - loss: 0.1901 - accuracy: 0.9185\n",
      "Epoch 65/150\n",
      "1500/1500 [==============================] - 1s 628us/step - loss: 0.1927 - accuracy: 0.9183\n",
      "Epoch 66/150\n",
      "1500/1500 [==============================] - 1s 632us/step - loss: 0.1975 - accuracy: 0.9166\n",
      "Epoch 67/150\n",
      "1500/1500 [==============================] - 1s 972us/step - loss: 0.1898 - accuracy: 0.9205\n",
      "Epoch 68/150\n",
      "1500/1500 [==============================] - 1s 588us/step - loss: 0.1935 - accuracy: 0.9179\n",
      "Epoch 69/150\n",
      "1500/1500 [==============================] - 1s 663us/step - loss: 0.1959 - accuracy: 0.9155\n",
      "Epoch 70/150\n",
      "1500/1500 [==============================] - 1s 640us/step - loss: 0.1878 - accuracy: 0.9218\n",
      "Epoch 71/150\n",
      "1500/1500 [==============================] - 1s 594us/step - loss: 0.1868 - accuracy: 0.9219\n",
      "Epoch 72/150\n",
      "1500/1500 [==============================] - 1s 659us/step - loss: 0.1851 - accuracy: 0.9217\n",
      "Epoch 73/150\n",
      "1500/1500 [==============================] - 1s 759us/step - loss: 0.1903 - accuracy: 0.9185\n",
      "Epoch 74/150\n",
      "1500/1500 [==============================] - 1s 751us/step - loss: 0.1889 - accuracy: 0.9223\n",
      "Epoch 75/150\n",
      "1500/1500 [==============================] - 1s 698us/step - loss: 0.1951 - accuracy: 0.9156\n",
      "Epoch 76/150\n",
      "1500/1500 [==============================] - 1s 718us/step - loss: 0.1910 - accuracy: 0.9190\n",
      "Epoch 77/150\n",
      "1500/1500 [==============================] - 1s 729us/step - loss: 0.1939 - accuracy: 0.9179\n",
      "Epoch 78/150\n"
     ]
    },
    {
     "name": "stdout",
     "output_type": "stream",
     "text": [
      "1500/1500 [==============================] - 1s 706us/step - loss: 0.1948 - accuracy: 0.9142\n",
      "Epoch 79/150\n",
      "1500/1500 [==============================] - 1s 657us/step - loss: 0.1889 - accuracy: 0.9186\n",
      "Epoch 80/150\n",
      "1500/1500 [==============================] - 1s 660us/step - loss: 0.1845 - accuracy: 0.9200\n",
      "Epoch 81/150\n",
      "1500/1500 [==============================] - 1s 614us/step - loss: 0.1784 - accuracy: 0.9241\n",
      "Epoch 82/150\n",
      "1500/1500 [==============================] - 1s 584us/step - loss: 0.1882 - accuracy: 0.9198\n",
      "Epoch 83/150\n",
      "1500/1500 [==============================] - 1s 611us/step - loss: 0.1911 - accuracy: 0.9181\n",
      "Epoch 84/150\n",
      "1500/1500 [==============================] - 1s 619us/step - loss: 0.1904 - accuracy: 0.9196\n",
      "Epoch 85/150\n",
      "1500/1500 [==============================] - 1s 580us/step - loss: 0.1946 - accuracy: 0.9167\n",
      "Epoch 86/150\n",
      "1500/1500 [==============================] - 1s 595us/step - loss: 0.1924 - accuracy: 0.9192\n",
      "Epoch 87/150\n",
      "1500/1500 [==============================] - 1s 621us/step - loss: 0.1863 - accuracy: 0.9239\n",
      "Epoch 88/150\n",
      "1500/1500 [==============================] - 1s 620us/step - loss: 0.1876 - accuracy: 0.9216\n",
      "Epoch 89/150\n",
      "1500/1500 [==============================] - 1s 621us/step - loss: 0.1874 - accuracy: 0.9213\n",
      "Epoch 90/150\n",
      "1500/1500 [==============================] - 1s 586us/step - loss: 0.1885 - accuracy: 0.9195\n",
      "Epoch 91/150\n",
      "1500/1500 [==============================] - 1s 596us/step - loss: 0.1826 - accuracy: 0.9243\n",
      "Epoch 92/150\n",
      "1500/1500 [==============================] - 1s 569us/step - loss: 0.1898 - accuracy: 0.9213\n",
      "Epoch 93/150\n",
      "1500/1500 [==============================] - 1s 576us/step - loss: 0.1871 - accuracy: 0.9196\n",
      "Epoch 94/150\n",
      "1500/1500 [==============================] - 1s 602us/step - loss: 0.1840 - accuracy: 0.9237\n",
      "Epoch 95/150\n",
      "1500/1500 [==============================] - 1s 648us/step - loss: 0.1777 - accuracy: 0.9234\n",
      "Epoch 96/150\n",
      "1500/1500 [==============================] - 1s 600us/step - loss: 0.1854 - accuracy: 0.9185\n",
      "Epoch 97/150\n",
      "1500/1500 [==============================] - 1s 632us/step - loss: 0.1920 - accuracy: 0.9175\n",
      "Epoch 98/150\n",
      "1500/1500 [==============================] - 1s 654us/step - loss: 0.1777 - accuracy: 0.92420s - loss: 0.1737 - ac\n",
      "Epoch 99/150\n",
      "1500/1500 [==============================] - 1s 654us/step - loss: 0.1812 - accuracy: 0.9242\n",
      "Epoch 100/150\n",
      "1500/1500 [==============================] - 1s 664us/step - loss: 0.1889 - accuracy: 0.9186\n",
      "Epoch 101/150\n",
      "1500/1500 [==============================] - 1s 624us/step - loss: 0.1854 - accuracy: 0.9223\n",
      "Epoch 102/150\n",
      "1500/1500 [==============================] - 1s 600us/step - loss: 0.1894 - accuracy: 0.9196\n",
      "Epoch 103/150\n",
      "1500/1500 [==============================] - 1s 575us/step - loss: 0.1821 - accuracy: 0.9211\n",
      "Epoch 104/150\n",
      "1500/1500 [==============================] - 1s 602us/step - loss: 0.1881 - accuracy: 0.9191\n",
      "Epoch 105/150\n",
      "1500/1500 [==============================] - 1s 722us/step - loss: 0.1901 - accuracy: 0.9173\n",
      "Epoch 106/150\n",
      "1500/1500 [==============================] - 1s 648us/step - loss: 0.1859 - accuracy: 0.9205\n",
      "Epoch 107/150\n",
      "1500/1500 [==============================] - 1s 653us/step - loss: 0.1757 - accuracy: 0.9260\n",
      "Epoch 108/150\n",
      "1500/1500 [==============================] - 1s 635us/step - loss: 0.1872 - accuracy: 0.9164\n",
      "Epoch 109/150\n",
      "1500/1500 [==============================] - 1s 687us/step - loss: 0.1893 - accuracy: 0.9204\n",
      "Epoch 110/150\n",
      "1500/1500 [==============================] - 1s 654us/step - loss: 0.1924 - accuracy: 0.9159\n",
      "Epoch 111/150\n",
      "1500/1500 [==============================] - 1s 603us/step - loss: 0.1859 - accuracy: 0.9209\n",
      "Epoch 112/150\n",
      "1500/1500 [==============================] - 1s 671us/step - loss: 0.1887 - accuracy: 0.9180\n",
      "Epoch 113/150\n",
      "1500/1500 [==============================] - 1s 844us/step - loss: 0.1922 - accuracy: 0.9196\n",
      "Epoch 114/150\n",
      "1500/1500 [==============================] - 1s 638us/step - loss: 0.1852 - accuracy: 0.9240\n",
      "Epoch 115/150\n",
      "1500/1500 [==============================] - 1s 665us/step - loss: 0.1834 - accuracy: 0.9236\n",
      "Epoch 116/150\n",
      "1500/1500 [==============================] - 1s 772us/step - loss: 0.1853 - accuracy: 0.9208\n",
      "Epoch 117/150\n",
      "1500/1500 [==============================] - 1s 622us/step - loss: 0.1903 - accuracy: 0.9194\n",
      "Epoch 118/150\n",
      "1500/1500 [==============================] - 1s 642us/step - loss: 0.1812 - accuracy: 0.9245\n",
      "Epoch 119/150\n",
      "1500/1500 [==============================] - 1s 596us/step - loss: 0.1833 - accuracy: 0.9190\n",
      "Epoch 120/150\n",
      "1500/1500 [==============================] - 1s 655us/step - loss: 0.1831 - accuracy: 0.9242\n",
      "Epoch 121/150\n",
      "1500/1500 [==============================] - 1s 588us/step - loss: 0.1852 - accuracy: 0.9207\n",
      "Epoch 122/150\n",
      "1500/1500 [==============================] - 1s 721us/step - loss: 0.1789 - accuracy: 0.9251\n",
      "Epoch 123/150\n",
      "1500/1500 [==============================] - 1s 668us/step - loss: 0.1854 - accuracy: 0.9218\n",
      "Epoch 124/150\n",
      "1500/1500 [==============================] - 1s 601us/step - loss: 0.1835 - accuracy: 0.9205\n",
      "Epoch 125/150\n",
      "1500/1500 [==============================] - 1s 582us/step - loss: 0.1842 - accuracy: 0.9196\n",
      "Epoch 126/150\n",
      "1500/1500 [==============================] - 1s 586us/step - loss: 0.1865 - accuracy: 0.9184\n",
      "Epoch 127/150\n",
      "1500/1500 [==============================] - 1s 584us/step - loss: 0.1808 - accuracy: 0.9245\n",
      "Epoch 128/150\n",
      "1500/1500 [==============================] - 1s 597us/step - loss: 0.1825 - accuracy: 0.9220\n",
      "Epoch 129/150\n",
      "1500/1500 [==============================] - 1s 594us/step - loss: 0.1886 - accuracy: 0.9220\n",
      "Epoch 130/150\n",
      "1500/1500 [==============================] - 1s 580us/step - loss: 0.1908 - accuracy: 0.9180\n",
      "Epoch 131/150\n",
      "1500/1500 [==============================] - 1s 598us/step - loss: 0.1865 - accuracy: 0.9198\n",
      "Epoch 132/150\n",
      "1500/1500 [==============================] - 1s 582us/step - loss: 0.1847 - accuracy: 0.9199\n",
      "Epoch 133/150\n",
      "1500/1500 [==============================] - 1s 571us/step - loss: 0.1852 - accuracy: 0.9224\n",
      "Epoch 134/150\n",
      "1500/1500 [==============================] - 1s 580us/step - loss: 0.1826 - accuracy: 0.9221\n",
      "Epoch 135/150\n",
      "1500/1500 [==============================] - 1s 628us/step - loss: 0.1852 - accuracy: 0.9219\n",
      "Epoch 136/150\n",
      "1500/1500 [==============================] - 1s 605us/step - loss: 0.1841 - accuracy: 0.9207\n",
      "Epoch 137/150\n",
      "1500/1500 [==============================] - 1s 597us/step - loss: 0.1769 - accuracy: 0.9254\n",
      "Epoch 138/150\n",
      "1500/1500 [==============================] - 1s 575us/step - loss: 0.1822 - accuracy: 0.9210\n",
      "Epoch 139/150\n",
      "1500/1500 [==============================] - 1s 575us/step - loss: 0.1858 - accuracy: 0.9227\n",
      "Epoch 140/150\n",
      "1500/1500 [==============================] - 1s 589us/step - loss: 0.1839 - accuracy: 0.9227\n",
      "Epoch 141/150\n",
      "1500/1500 [==============================] - 1s 583us/step - loss: 0.1797 - accuracy: 0.9248\n",
      "Epoch 142/150\n",
      "1500/1500 [==============================] - 1s 665us/step - loss: 0.1821 - accuracy: 0.9203\n",
      "Epoch 143/150\n",
      "1500/1500 [==============================] - 1s 614us/step - loss: 0.1942 - accuracy: 0.9171\n",
      "Epoch 144/150\n",
      "1500/1500 [==============================] - 1s 777us/step - loss: 0.1835 - accuracy: 0.9227\n",
      "Epoch 145/150\n",
      "1500/1500 [==============================] - 1s 799us/step - loss: 0.1849 - accuracy: 0.9235\n",
      "Epoch 146/150\n",
      "1500/1500 [==============================] - 1s 652us/step - loss: 0.1827 - accuracy: 0.9249\n",
      "Epoch 147/150\n",
      "1500/1500 [==============================] - 1s 661us/step - loss: 0.1824 - accuracy: 0.9217\n",
      "Epoch 148/150\n",
      "1500/1500 [==============================] - 1s 661us/step - loss: 0.1925 - accuracy: 0.9209\n",
      "Epoch 149/150\n",
      "1500/1500 [==============================] - 1s 678us/step - loss: 0.1849 - accuracy: 0.9215\n",
      "Epoch 150/150\n",
      "1500/1500 [==============================] - 1s 697us/step - loss: 0.1842 - accuracy: 0.9252\n"
     ]
    },
    {
     "data": {
      "text/plain": [
       "<tensorflow.python.keras.callbacks.History at 0x7fc92b9ae970>"
      ]
     },
     "execution_count": 104,
     "metadata": {},
     "output_type": "execute_result"
    }
   ],
   "source": [
    "model.fit(x_train, y_train, epochs=150, batch_size=10)"
   ]
  },
  {
   "cell_type": "code",
   "execution_count": 105,
   "metadata": {},
   "outputs": [
    {
     "name": "stdout",
     "output_type": "stream",
     "text": [
      "157/157 [==============================] - 0s 603us/step - loss: 0.2472 - accuracy: 0.9014\n",
      "\n",
      "accuracy: 90.14%\n"
     ]
    }
   ],
   "source": [
    "# evaluate the model\n",
    "scores = model.evaluate(x_test, y_test)\n",
    "print(\"\\n%s: %.2f%%\" % (model.metrics_names[1], scores[1]*100))"
   ]
  },
  {
   "cell_type": "code",
   "execution_count": 106,
   "metadata": {},
   "outputs": [
    {
     "data": {
      "text/plain": [
       "array([[5.9124827e-03],\n",
       "       [3.8733780e-03],\n",
       "       [1.7317235e-01],\n",
       "       ...,\n",
       "       [9.0127289e-03],\n",
       "       [6.9745593e-06],\n",
       "       [4.3539188e-05]], dtype=float32)"
      ]
     },
     "execution_count": 106,
     "metadata": {},
     "output_type": "execute_result"
    }
   ],
   "source": [
    "y_predict = model.predict(x_test)\n",
    "y_predict"
   ]
  },
  {
   "cell_type": "markdown",
   "metadata": {},
   "source": [
    "## Grid Search on Deep Learning\n",
    "\n",
    "We can use GridSearchCV to find the best epochs and batche size. "
   ]
  },
  {
   "cell_type": "code",
   "execution_count": 107,
   "metadata": {},
   "outputs": [],
   "source": [
    "def create_model():\n",
    "    #create model\n",
    "    model = Sequential()\n",
    "    model.add(Dense(12, input_dim=49, activation='relu'))\n",
    "    model.add(Dense(8, activation='relu'))\n",
    "    model.add(Dense(1, activation='sigmoid'))\n",
    "    #compile model\n",
    "    model.compile(loss='binary_crossentropy', optimizer='adam', metrics=['accuracy'])\n",
    "    return model"
   ]
  },
  {
   "cell_type": "code",
   "execution_count": 108,
   "metadata": {},
   "outputs": [],
   "source": [
    "model = KerasClassifier(build_fn = create_model, verbose = 0)\n",
    "\n",
    "param_grid = {'batch_size':[10,20,30,40] , 'epochs':[10, 50, 100]}\n",
    "grid_search = GridSearchCV(estimator= model, param_grid = param_grid, cv = 5)"
   ]
  },
  {
   "cell_type": "code",
   "execution_count": null,
   "metadata": {},
   "outputs": [],
   "source": [
    "grid_search_result = grid_search.fit(x_train, y_train)"
   ]
  },
  {
   "cell_type": "code",
   "execution_count": null,
   "metadata": {},
   "outputs": [],
   "source": [
    "grid_search.score(x_train, y_train)"
   ]
  },
  {
   "cell_type": "code",
   "execution_count": null,
   "metadata": {},
   "outputs": [],
   "source": [
    "grid_search.score(x_test, y_test)"
   ]
  },
  {
   "cell_type": "code",
   "execution_count": null,
   "metadata": {},
   "outputs": [],
   "source": [
    "roc_auc_score(y_train,grid_search.predict(x_train))"
   ]
  },
  {
   "cell_type": "markdown",
   "metadata": {},
   "source": [
    ">Based on the maximum grid search roc_auc score, the  SVC with Kernel-'rbc' Model was the best performing model in correctly calssifying whether a potential customer would subscribe to a term deposit product or not. Therefore, this model will be the subject of further analysis and optimization."
   ]
  },
  {
   "cell_type": "markdown",
   "metadata": {},
   "source": [
    "# Best model -SVC with Kernel-'rbc' "
   ]
  },
  {
   "cell_type": "markdown",
   "metadata": {},
   "source": [
    ">Training of the final model will include the entire training dataset so the estimator will be as close as possible to the true parameter. Although the dataset is imbalanced, there are other means of improving the model using ROC curves which includes precision and recall metrics. Again, the scoring function used will be the roc_auc scoring method as it aims to minimize the number of false positives and maximize the number of true positives so that the bank does not waste more money marketing to those who are unlikely to subscribe to a term deposit."
   ]
  },
  {
   "cell_type": "markdown",
   "metadata": {},
   "source": [
    "* Now we will used the best hyperparameter we found for Linear SVC on the entire training dataset"
   ]
  },
  {
   "cell_type": "code",
   "execution_count": null,
   "metadata": {},
   "outputs": [],
   "source": [
    "from sklearn.model_selection import cross_val_score\n",
    "\n",
    "best_model = SVC(kernel='rbf',**svcr_grid.best_params_,random_state=0)\n",
    "\n",
    "best_model.fit(x_train,y_train)\n",
    "\n",
    "\n",
    "roc_auc_score(y_train, best_model.decision_function(x_train))\n",
    "#roc_auc_score(y_train, best_model.predict(x_train))\n"
   ]
  },
  {
   "cell_type": "code",
   "execution_count": null,
   "metadata": {},
   "outputs": [],
   "source": [
    "from sklearn.metrics import roc_auc_score\n",
    "from sklearn.metrics import roc_curve\n",
    "fpr, tpr, thresholds = roc_curve(y_test, best_model.decision_function(x_test))"
   ]
  },
  {
   "cell_type": "code",
   "execution_count": null,
   "metadata": {},
   "outputs": [],
   "source": [
    "plt.plot(fpr, tpr, label=\"C={:.3f}\".format(0.1))\n",
    "close_zero = np.argmin(np.abs(thresholds))\n",
    "close_max = np.argmax(np.abs(thresholds))\n",
    "plt.legend(loc=4)"
   ]
  },
  {
   "cell_type": "code",
   "execution_count": null,
   "metadata": {},
   "outputs": [],
   "source": [
    "y_pred = np.where(best_model.decision_function(x_test) > -1, 1, 0)\n",
    "print('Confusion matrix: \\n', confusion_matrix(y_test, y_pred))"
   ]
  },
  {
   "cell_type": "markdown",
   "metadata": {},
   "source": [
    "* Conclusion: Depending upon the business context, we can use different thresholds to either lower false positives or false negatives. With our threashold, Approximately 77% of the total number of those who would subscribe for a term deposit are correctly classified, but out of 100 people that the model predicts to be future subscibers, only 40% actually subscribe. Without information regarding the cost to send targeted ads and the profit from a term deposit subscriber, it is difficult to say if this model should be used to target the potential customer."
   ]
  },
  {
   "cell_type": "code",
   "execution_count": null,
   "metadata": {},
   "outputs": [],
   "source": []
  }
 ],
 "metadata": {
  "kernelspec": {
   "display_name": "Python 3",
   "language": "python",
   "name": "python3"
  },
  "language_info": {
   "codemirror_mode": {
    "name": "ipython",
    "version": 3
   },
   "file_extension": ".py",
   "mimetype": "text/x-python",
   "name": "python",
   "nbconvert_exporter": "python",
   "pygments_lexer": "ipython3",
   "version": "3.8.5"
  }
 },
 "nbformat": 4,
 "nbformat_minor": 4
}
