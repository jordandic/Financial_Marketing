{
 "cells": [
  {
   "cell_type": "markdown",
   "metadata": {},
   "source": [
    "# Classification with Bank Data\n",
    "<b>Goal:</b> Using the bank-additional-full.csv file, correctly predict whether or not a customer will subscribe to a loan deposit."
   ]
  },
  {
   "cell_type": "markdown",
   "metadata": {},
   "source": [
    "## Descriptive information for the study and the dataset:\n",
    "<b>Link:</b> http://archive.ics.uci.edu/ml/datasets/Bank+Marketing <br>\n",
    "<br><b>Study Implications:</b> There are two datasets containing all the instances. bank-full.csv is the chosen one to develop our model since it focuses on information which is less dependent on macro-economic factors. The reasoning behind this is that macro-economic factors will likely dictate how much the bank should scale up or down marketing spend, but it should not be the basis for determining who should be included in the target market. Macro-economic factors are relatively unpredictable and shouldn't necessarily be the basis of developing a target market in any company's overall marketing strategy. Instead, for the purposes of this study, only personal demographic information is used. Furthermore, other demographic information, like 'job' and 'loan,' may be sufficient in reflecting the current implications of the macro-environment on the individual at the micro-level, which is what this study focuses on. In a regression model, the macro-level factors for social and economic context would be included. The ultimate implication of this classification study is to determine which customers are most likely to subscribe to a loan deposit, and therefore how the company ought to select its target market, and how to position its loan products to that cohort. Ultimately, this study will aid the bank in developing it's marketing strategy including decisions related to product, price, place, and promotions. <br>\n",
    "<br>\n",
    "<br>\n",
    "### Data Description: \n",
    "#### Input Variables:\n",
    "><b>Demographic Variables:</b> <br>\n",
    ">1 - age (numeric)<br>\n",
    "2 - job : type of job (categorical: 'admin.','blue- collar','entrepreneur','housemaid','management','retired','self-employed','services','student','technician','unemployed','unknown') <br>\n",
    "3 - marital : marital status (categorical: 'divorced','married','single','unknown'; note: 'divorced' means divorced or widowed) <br>\n",
    "4 - education (categorical: 'basic.4y','basic.6y','basic.9y','high.school','illiterate','professional.course','university.degree','unknown') <br>\n",
    "5 - default: has credit in default? (categorical: 'no','yes','unknown') <br>\n",
    "6 - housing: has housing loan? (categorical: 'no','yes','unknown') <br>\n",
    "7 - loan: has personal loan? (categorical: 'no','yes','unknown') <br>\n",
    "><b>Last Contact from the Current Campaign Variables:</b> <br>\n",
    "8 - contact: contact communication type (categorical: 'cellular','telephone')<br>\n",
    "9 - month: last contact month of year (categorical: 'jan', 'feb', 'mar', ..., 'nov', 'dec')<br>\n",
    "10 - day_of_week: last contact day of the week (categorical: 'mon','tue','wed','thu','fri')<br>\n",
    "11 - duration: last contact duration, in seconds (numeric). Important note: this attribute highly affects the output target (e.g., if duration=0 then y='no'). Yet, the duration is not known before a call is performed. Also, after the end of the call y is obviously known. Thus, this input should only be included for benchmark purposes and should be discarded if the intention is to have a realistic predictive model.<br>\n",
    "><b>Other Attribute Variables:</b> <br>\n",
    "12 - campaign: number of contacts performed during this campaign and for this client (numeric, includes last contact) <br>\n",
    "13 - pdays: number of days that passed by after the client was last contacted from a previous campaign (numeric; 999 means client was not previously contacted) <br>\n",
    "14 - previous: number of contacts performed before this campaign and for this client (numeric)<br>\n",
    "15 - poutcome: outcome of the previous marketing campaign (categorical: 'failure','nonexistent','success')<br>\n",
    "<br>\n",
    "#### Output variable (Target Variable):\n",
    ">16 - y - has the client subscribed a term deposit? (binary: 'yes','no') <br>\n",
    "\n",
    "#### Omitted Variables:\n",
    "><b>Social and Economic Context Variables:</b> <br>\n",
    "> - emp.var.rate: employment variation rate - quarterly indicator (numeric) <br>\n",
    "> - cons.price.idx: consumer price index - monthly indicator (numeric) <br>\n",
    "> - cons.conf.idx: consumer confidence index - monthly indicator (numeric) <br>\n",
    "> - euribor3m: euribor 3 month rate - daily indicator (numeric) <br>\n",
    "> - nr.employed: number of employees - quarterly indicator (numeric) <br>\n",
    "<br>\n"
   ]
  },
  {
   "cell_type": "markdown",
   "metadata": {},
   "source": [
    "## What is a term deposit?\n",
    ">A term deposit is a hybrid bank account and investment account. It is similar to a bond which yields a relatively low interest rate, but normally has short maturity dates compared to bonds, thereby making them more accessable as cash in the near future. Term deposits will normally mature between one month and a couple years while some bonds can mature in decades. The best example of a term deposit is a CD, or Certificate of Deposit. These instruments are very useful for banks because they provide more dependability of deposits.\n",
    "### Why is dependability of deposits important for banks?\n",
    ">Have you ever heard of a run on a bank? The Great Depression of the early 1900's was partly caused by a nationwide financial scare where everyone was trying to get their money out of the banking system at once. This was detrimental to banks, and is an issue which modern day bank regulators (OCC, Federal Reserve, and local authorities) scrutinize heavily to prevent such economic fallout from ever occurring again. Banks must keep a sufficient amount of money in reserves for both bad loan expenses (defaults) and to meet the withdrawal needs of their customers, or depositors. If there are not sufficient reserves in a bank to meet both of those requirements, and other expenses of the bank, then that bank could fail. So, besides just simply holding a sufficient amount of cash in reserves with cushion, banks can also use term deposits to ensure that those reserves are more stable. Higher quality deposits are an effective means of reducing the overall risk of a bank's loan portfolio, or balance sheet. Essentially, term deposits offer higher rates to depositors, but the catch is that the term deposit cannot be withdrawn for a period of time. If it is withdrawn early, there will be a penalty imposed. In conclusion, term deposits, or CDs, are an important way for banks to reduce risk, and it is important for them to effectively target customers who may be interested in such securities. "
   ]
  },
  {
   "cell_type": "markdown",
   "metadata": {},
   "source": [
    "### Locate bank-additional-full.csv in working directory:"
   ]
  },
  {
   "cell_type": "code",
   "execution_count": 1,
   "metadata": {},
   "outputs": [],
   "source": [
    "#pip install os_sys"
   ]
  },
  {
   "cell_type": "code",
   "execution_count": 2,
   "metadata": {},
   "outputs": [
    {
     "name": "stdout",
     "output_type": "stream",
     "text": [
      "/Users/jordandick/Documents/6341 - Applied ML/project 2\n"
     ]
    }
   ],
   "source": [
    "import os\n",
    "cwd = os.getcwd()\n",
    "print(cwd)"
   ]
  },
  {
   "cell_type": "markdown",
   "metadata": {},
   "source": [
    "### List of files in current working directory:"
   ]
  },
  {
   "cell_type": "code",
   "execution_count": 3,
   "metadata": {},
   "outputs": [
    {
     "data": {
      "text/plain": [
       "['rough_final_Project2_Regression_Group4_Gautam_Dick.ipynb',\n",
       " 'Financial_Service_Marketing_ML_Classification.ipynb',\n",
       " '.DS_Store',\n",
       " 'Project2_Regression_Group4_Gautam_Dick.ipynb',\n",
       " 'Intermediate-Project2_Regression_Group4_Gautam_Dick.ipynb',\n",
       " 'Financial_Service_Marketing_Classification.ipynb',\n",
       " 'bank_data_new.csv',\n",
       " 'Project2_Classification_Group4_Gautam_Dick.ipynb',\n",
       " 'Project2_Group08_Zhang_ShahabiNejad',\n",
       " '.ipynb_checkpoints',\n",
       " 'Almost_done_Classification_Project2.ipynb',\n",
       " 'bank-additional-full.csv',\n",
       " 'AB_NYC_2019.csv',\n",
       " 'Project2_Group08_Zhang_ShahabiNejad.zip']"
      ]
     },
     "execution_count": 3,
     "metadata": {},
     "output_type": "execute_result"
    }
   ],
   "source": [
    "os.listdir()"
   ]
  },
  {
   "cell_type": "markdown",
   "metadata": {},
   "source": [
    "### Exploratory Analysis of original bank-additional-full.csv:"
   ]
  },
  {
   "cell_type": "code",
   "execution_count": 4,
   "metadata": {},
   "outputs": [
    {
     "data": {
      "text/plain": [
       "pandas.core.frame.DataFrame"
      ]
     },
     "execution_count": 4,
     "metadata": {},
     "output_type": "execute_result"
    }
   ],
   "source": [
    "import pandas as pd\n",
    "df = pd.read_csv(str(cwd)+'/'+'bank-additional-full.csv', sep=';', header=0)\n",
    "type(df)"
   ]
  },
  {
   "cell_type": "code",
   "execution_count": 5,
   "metadata": {},
   "outputs": [
    {
     "data": {
      "text/plain": [
       "no     36548\n",
       "yes     4640\n",
       "Name: y, dtype: int64"
      ]
     },
     "execution_count": 5,
     "metadata": {},
     "output_type": "execute_result"
    }
   ],
   "source": [
    "df.y.value_counts()"
   ]
  },
  {
   "cell_type": "code",
   "execution_count": 6,
   "metadata": {},
   "outputs": [],
   "source": [
    "df=df.sample(20000)"
   ]
  },
  {
   "cell_type": "code",
   "execution_count": 7,
   "metadata": {},
   "outputs": [],
   "source": [
    "# delete this \n",
    "#df=df.sample(500)\n",
    "\n",
    "\n"
   ]
  },
  {
   "cell_type": "markdown",
   "metadata": {},
   "source": [
    "> drop macro-related variables"
   ]
  },
  {
   "cell_type": "code",
   "execution_count": 8,
   "metadata": {},
   "outputs": [
    {
     "name": "stdout",
     "output_type": "stream",
     "text": [
      "<class 'pandas.core.frame.DataFrame'>\n",
      "Int64Index: 20000 entries, 34109 to 34117\n",
      "Data columns (total 16 columns):\n",
      " #   Column       Non-Null Count  Dtype \n",
      "---  ------       --------------  ----- \n",
      " 0   age          20000 non-null  int64 \n",
      " 1   job          20000 non-null  object\n",
      " 2   marital      20000 non-null  object\n",
      " 3   education    20000 non-null  object\n",
      " 4   default      20000 non-null  object\n",
      " 5   housing      20000 non-null  object\n",
      " 6   loan         20000 non-null  object\n",
      " 7   contact      20000 non-null  object\n",
      " 8   month        20000 non-null  object\n",
      " 9   day_of_week  20000 non-null  object\n",
      " 10  duration     20000 non-null  int64 \n",
      " 11  campaign     20000 non-null  int64 \n",
      " 12  pdays        20000 non-null  int64 \n",
      " 13  previous     20000 non-null  int64 \n",
      " 14  poutcome     20000 non-null  object\n",
      " 15  y            20000 non-null  object\n",
      "dtypes: int64(5), object(11)\n",
      "memory usage: 2.6+ MB\n"
     ]
    }
   ],
   "source": [
    "macro_lst = ['emp.var.rate','cons.price.idx','cons.conf.idx','euribor3m','nr.employed']\n",
    "\n",
    "for i in macro_lst:\n",
    "    df.drop([i], axis=1, inplace=True)\n",
    "\n",
    "df.info()"
   ]
  },
  {
   "cell_type": "markdown",
   "metadata": {},
   "source": [
    "# Practice with data imputation strategies"
   ]
  },
  {
   "cell_type": "markdown",
   "metadata": {},
   "source": [
    ">none of the data is nan, so 5% of the values will be randomly imputed as np.nan values"
   ]
  },
  {
   "cell_type": "code",
   "execution_count": 9,
   "metadata": {},
   "outputs": [],
   "source": [
    "import numpy as np\n",
    "import pandas as pd\n",
    "import seaborn as sns\n",
    "from sklearn.metrics import roc_auc_score"
   ]
  },
  {
   "cell_type": "markdown",
   "metadata": {},
   "source": [
    ">set random seed for reproducibility"
   ]
  },
  {
   "cell_type": "code",
   "execution_count": 10,
   "metadata": {},
   "outputs": [],
   "source": [
    "np.random.seed(100)"
   ]
  },
  {
   "cell_type": "code",
   "execution_count": 11,
   "metadata": {},
   "outputs": [
    {
     "data": {
      "text/plain": [
       "(20000, 16)"
      ]
     },
     "execution_count": 11,
     "metadata": {},
     "output_type": "execute_result"
    }
   ],
   "source": [
    "nan_mat = np.random.random(df.shape)<0.05\n",
    "nan_mat.shape"
   ]
  },
  {
   "cell_type": "code",
   "execution_count": 12,
   "metadata": {},
   "outputs": [
    {
     "data": {
      "text/plain": [
       "16058"
      ]
     },
     "execution_count": 12,
     "metadata": {},
     "output_type": "execute_result"
    }
   ],
   "source": [
    "# of nans\n",
    "n = nan_mat.sum()\n",
    "n"
   ]
  },
  {
   "cell_type": "code",
   "execution_count": 13,
   "metadata": {},
   "outputs": [
    {
     "data": {
      "text/plain": [
       "0.024366927260367096"
      ]
     },
     "execution_count": 13,
     "metadata": {},
     "output_type": "execute_result"
    }
   ],
   "source": [
    "# approximately 5% of the dataset will be set to nan\n",
    "n/(41188*16)"
   ]
  },
  {
   "cell_type": "code",
   "execution_count": 14,
   "metadata": {},
   "outputs": [
    {
     "name": "stdout",
     "output_type": "stream",
     "text": [
      "<class 'pandas.core.frame.DataFrame'>\n",
      "Int64Index: 20000 entries, 34109 to 34117\n",
      "Data columns (total 16 columns):\n",
      " #   Column       Non-Null Count  Dtype  \n",
      "---  ------       --------------  -----  \n",
      " 0   age          19000 non-null  float64\n",
      " 1   job          18989 non-null  object \n",
      " 2   marital      18998 non-null  object \n",
      " 3   education    18993 non-null  object \n",
      " 4   default      18991 non-null  object \n",
      " 5   housing      18998 non-null  object \n",
      " 6   loan         19035 non-null  object \n",
      " 7   contact      18971 non-null  object \n",
      " 8   month        19068 non-null  object \n",
      " 9   day_of_week  18991 non-null  object \n",
      " 10  duration     18942 non-null  float64\n",
      " 11  campaign     18956 non-null  float64\n",
      " 12  pdays        19051 non-null  float64\n",
      " 13  previous     18991 non-null  float64\n",
      " 14  poutcome     18962 non-null  object \n",
      " 15  y            19006 non-null  object \n",
      "dtypes: float64(5), object(11)\n",
      "memory usage: 2.6+ MB\n"
     ]
    }
   ],
   "source": [
    "dfn = df.mask(nan_mat)\n",
    "dfn.info()"
   ]
  },
  {
   "cell_type": "code",
   "execution_count": 15,
   "metadata": {},
   "outputs": [
    {
     "name": "stdout",
     "output_type": "stream",
     "text": [
      "0.05018125\n"
     ]
    }
   ],
   "source": [
    "# 5% of new data frame is nan\n",
    "\n",
    "nnan = dfn.isnull().sum().sum()\n",
    "ntot = dfn.shape[1]*dfn.shape[0]\n",
    "percent_nan = nnan/ntot\n",
    "\n",
    "print(percent_nan)"
   ]
  },
  {
   "cell_type": "markdown",
   "metadata": {},
   "source": [
    "### Export new copy of data with 5% NaN\n",
    "><b>Named:</b> bank_data_new.csv"
   ]
  },
  {
   "cell_type": "code",
   "execution_count": 16,
   "metadata": {},
   "outputs": [],
   "source": [
    "dfn.to_csv('bank_data_new.csv')"
   ]
  },
  {
   "cell_type": "markdown",
   "metadata": {},
   "source": [
    "# Data Preprocessing and Preparation for ML Classification Algorithms:"
   ]
  },
  {
   "cell_type": "code",
   "execution_count": 17,
   "metadata": {},
   "outputs": [
    {
     "name": "stdout",
     "output_type": "stream",
     "text": [
      "<class 'pandas.core.frame.DataFrame'>\n",
      "Int64Index: 20000 entries, 34109 to 34117\n",
      "Data columns (total 16 columns):\n",
      " #   Column       Non-Null Count  Dtype  \n",
      "---  ------       --------------  -----  \n",
      " 0   age          19000 non-null  float64\n",
      " 1   job          18989 non-null  object \n",
      " 2   marital      18998 non-null  object \n",
      " 3   education    18993 non-null  object \n",
      " 4   default      18991 non-null  object \n",
      " 5   housing      18998 non-null  object \n",
      " 6   loan         19035 non-null  object \n",
      " 7   contact      18971 non-null  object \n",
      " 8   month        19068 non-null  object \n",
      " 9   day_of_week  18991 non-null  object \n",
      " 10  duration     18942 non-null  float64\n",
      " 11  campaign     18956 non-null  float64\n",
      " 12  pdays        19051 non-null  float64\n",
      " 13  previous     18991 non-null  float64\n",
      " 14  poutcome     18962 non-null  object \n",
      " 15  y            19006 non-null  object \n",
      "dtypes: float64(5), object(11)\n",
      "memory usage: 2.6+ MB\n"
     ]
    }
   ],
   "source": [
    "dfn.info()"
   ]
  },
  {
   "cell_type": "markdown",
   "metadata": {},
   "source": [
    "### Data Imputations:"
   ]
  },
  {
   "cell_type": "markdown",
   "metadata": {},
   "source": [
    "> Strategy for imputing age values:"
   ]
  },
  {
   "cell_type": "code",
   "execution_count": 18,
   "metadata": {},
   "outputs": [
    {
     "data": {
      "text/html": [
       "<div>\n",
       "<style scoped>\n",
       "    .dataframe tbody tr th:only-of-type {\n",
       "        vertical-align: middle;\n",
       "    }\n",
       "\n",
       "    .dataframe tbody tr th {\n",
       "        vertical-align: top;\n",
       "    }\n",
       "\n",
       "    .dataframe thead th {\n",
       "        text-align: right;\n",
       "    }\n",
       "</style>\n",
       "<table border=\"1\" class=\"dataframe\">\n",
       "  <thead>\n",
       "    <tr style=\"text-align: right;\">\n",
       "      <th></th>\n",
       "      <th>age</th>\n",
       "      <th>marital</th>\n",
       "      <th>education</th>\n",
       "      <th>default</th>\n",
       "      <th>housing</th>\n",
       "      <th>loan</th>\n",
       "      <th>contact</th>\n",
       "      <th>month</th>\n",
       "      <th>day_of_week</th>\n",
       "      <th>duration</th>\n",
       "      <th>campaign</th>\n",
       "      <th>pdays</th>\n",
       "      <th>previous</th>\n",
       "      <th>poutcome</th>\n",
       "      <th>y</th>\n",
       "    </tr>\n",
       "    <tr>\n",
       "      <th>job</th>\n",
       "      <th></th>\n",
       "      <th></th>\n",
       "      <th></th>\n",
       "      <th></th>\n",
       "      <th></th>\n",
       "      <th></th>\n",
       "      <th></th>\n",
       "      <th></th>\n",
       "      <th></th>\n",
       "      <th></th>\n",
       "      <th></th>\n",
       "      <th></th>\n",
       "      <th></th>\n",
       "      <th></th>\n",
       "      <th></th>\n",
       "    </tr>\n",
       "  </thead>\n",
       "  <tbody>\n",
       "    <tr>\n",
       "      <th>admin.</th>\n",
       "      <td>31</td>\n",
       "      <td>married</td>\n",
       "      <td>university.degree</td>\n",
       "      <td>no</td>\n",
       "      <td>yes</td>\n",
       "      <td>no</td>\n",
       "      <td>cellular</td>\n",
       "      <td>may</td>\n",
       "      <td>mon</td>\n",
       "      <td>91</td>\n",
       "      <td>1.0</td>\n",
       "      <td>999.0</td>\n",
       "      <td>0.0</td>\n",
       "      <td>nonexistent</td>\n",
       "      <td>no</td>\n",
       "    </tr>\n",
       "    <tr>\n",
       "      <th>blue-collar</th>\n",
       "      <td>36</td>\n",
       "      <td>married</td>\n",
       "      <td>basic.9y</td>\n",
       "      <td>no</td>\n",
       "      <td>yes</td>\n",
       "      <td>no</td>\n",
       "      <td>cellular</td>\n",
       "      <td>may</td>\n",
       "      <td>wed</td>\n",
       "      <td>128</td>\n",
       "      <td>1.0</td>\n",
       "      <td>999.0</td>\n",
       "      <td>0.0</td>\n",
       "      <td>nonexistent</td>\n",
       "      <td>no</td>\n",
       "    </tr>\n",
       "    <tr>\n",
       "      <th>entrepreneur</th>\n",
       "      <td>37</td>\n",
       "      <td>married</td>\n",
       "      <td>university.degree</td>\n",
       "      <td>no</td>\n",
       "      <td>yes</td>\n",
       "      <td>no</td>\n",
       "      <td>cellular</td>\n",
       "      <td>may</td>\n",
       "      <td>thu</td>\n",
       "      <td>[56.0, 71.0, 82.0, 126.0]</td>\n",
       "      <td>1.0</td>\n",
       "      <td>999.0</td>\n",
       "      <td>0.0</td>\n",
       "      <td>nonexistent</td>\n",
       "      <td>no</td>\n",
       "    </tr>\n",
       "    <tr>\n",
       "      <th>housemaid</th>\n",
       "      <td>46</td>\n",
       "      <td>married</td>\n",
       "      <td>basic.4y</td>\n",
       "      <td>no</td>\n",
       "      <td>yes</td>\n",
       "      <td>no</td>\n",
       "      <td>cellular</td>\n",
       "      <td>may</td>\n",
       "      <td>wed</td>\n",
       "      <td>129</td>\n",
       "      <td>1.0</td>\n",
       "      <td>999.0</td>\n",
       "      <td>0.0</td>\n",
       "      <td>nonexistent</td>\n",
       "      <td>no</td>\n",
       "    </tr>\n",
       "    <tr>\n",
       "      <th>management</th>\n",
       "      <td>34</td>\n",
       "      <td>married</td>\n",
       "      <td>university.degree</td>\n",
       "      <td>no</td>\n",
       "      <td>yes</td>\n",
       "      <td>no</td>\n",
       "      <td>cellular</td>\n",
       "      <td>may</td>\n",
       "      <td>mon</td>\n",
       "      <td>159</td>\n",
       "      <td>1.0</td>\n",
       "      <td>999.0</td>\n",
       "      <td>0.0</td>\n",
       "      <td>nonexistent</td>\n",
       "      <td>no</td>\n",
       "    </tr>\n",
       "    <tr>\n",
       "      <th>retired</th>\n",
       "      <td>59</td>\n",
       "      <td>married</td>\n",
       "      <td>basic.4y</td>\n",
       "      <td>no</td>\n",
       "      <td>yes</td>\n",
       "      <td>no</td>\n",
       "      <td>cellular</td>\n",
       "      <td>may</td>\n",
       "      <td>tue</td>\n",
       "      <td>[120.0, 177.0, 188.0, 189.0]</td>\n",
       "      <td>1.0</td>\n",
       "      <td>999.0</td>\n",
       "      <td>0.0</td>\n",
       "      <td>nonexistent</td>\n",
       "      <td>no</td>\n",
       "    </tr>\n",
       "    <tr>\n",
       "      <th>self-employed</th>\n",
       "      <td>[30.0, 53.0]</td>\n",
       "      <td>married</td>\n",
       "      <td>university.degree</td>\n",
       "      <td>no</td>\n",
       "      <td>yes</td>\n",
       "      <td>no</td>\n",
       "      <td>cellular</td>\n",
       "      <td>may</td>\n",
       "      <td>mon</td>\n",
       "      <td>133</td>\n",
       "      <td>1.0</td>\n",
       "      <td>999.0</td>\n",
       "      <td>0.0</td>\n",
       "      <td>nonexistent</td>\n",
       "      <td>no</td>\n",
       "    </tr>\n",
       "    <tr>\n",
       "      <th>services</th>\n",
       "      <td>31</td>\n",
       "      <td>married</td>\n",
       "      <td>high.school</td>\n",
       "      <td>no</td>\n",
       "      <td>yes</td>\n",
       "      <td>no</td>\n",
       "      <td>cellular</td>\n",
       "      <td>may</td>\n",
       "      <td>tue</td>\n",
       "      <td>[51.0, 133.0, 161.0]</td>\n",
       "      <td>1.0</td>\n",
       "      <td>999.0</td>\n",
       "      <td>0.0</td>\n",
       "      <td>nonexistent</td>\n",
       "      <td>no</td>\n",
       "    </tr>\n",
       "    <tr>\n",
       "      <th>student</th>\n",
       "      <td>25</td>\n",
       "      <td>single</td>\n",
       "      <td>high.school</td>\n",
       "      <td>no</td>\n",
       "      <td>yes</td>\n",
       "      <td>no</td>\n",
       "      <td>cellular</td>\n",
       "      <td>may</td>\n",
       "      <td>thu</td>\n",
       "      <td>[92.0, 100.0, 104.0, 107.0, 200.0]</td>\n",
       "      <td>1.0</td>\n",
       "      <td>999.0</td>\n",
       "      <td>0.0</td>\n",
       "      <td>nonexistent</td>\n",
       "      <td>no</td>\n",
       "    </tr>\n",
       "    <tr>\n",
       "      <th>technician</th>\n",
       "      <td>32</td>\n",
       "      <td>married</td>\n",
       "      <td>professional.course</td>\n",
       "      <td>no</td>\n",
       "      <td>yes</td>\n",
       "      <td>no</td>\n",
       "      <td>cellular</td>\n",
       "      <td>may</td>\n",
       "      <td>thu</td>\n",
       "      <td>90</td>\n",
       "      <td>1.0</td>\n",
       "      <td>999.0</td>\n",
       "      <td>0.0</td>\n",
       "      <td>nonexistent</td>\n",
       "      <td>no</td>\n",
       "    </tr>\n",
       "    <tr>\n",
       "      <th>unemployed</th>\n",
       "      <td>33</td>\n",
       "      <td>married</td>\n",
       "      <td>university.degree</td>\n",
       "      <td>no</td>\n",
       "      <td>yes</td>\n",
       "      <td>no</td>\n",
       "      <td>cellular</td>\n",
       "      <td>may</td>\n",
       "      <td>thu</td>\n",
       "      <td>[125.0, 156.0, 170.0]</td>\n",
       "      <td>1.0</td>\n",
       "      <td>999.0</td>\n",
       "      <td>0.0</td>\n",
       "      <td>nonexistent</td>\n",
       "      <td>no</td>\n",
       "    </tr>\n",
       "    <tr>\n",
       "      <th>unknown</th>\n",
       "      <td>45</td>\n",
       "      <td>married</td>\n",
       "      <td>unknown</td>\n",
       "      <td>no</td>\n",
       "      <td>yes</td>\n",
       "      <td>no</td>\n",
       "      <td>cellular</td>\n",
       "      <td>may</td>\n",
       "      <td>wed</td>\n",
       "      <td>258</td>\n",
       "      <td>1.0</td>\n",
       "      <td>999.0</td>\n",
       "      <td>0.0</td>\n",
       "      <td>nonexistent</td>\n",
       "      <td>no</td>\n",
       "    </tr>\n",
       "  </tbody>\n",
       "</table>\n",
       "</div>"
      ],
      "text/plain": [
       "                        age  marital            education default housing  \\\n",
       "job                                                                         \n",
       "admin.                   31  married    university.degree      no     yes   \n",
       "blue-collar              36  married             basic.9y      no     yes   \n",
       "entrepreneur             37  married    university.degree      no     yes   \n",
       "housemaid                46  married             basic.4y      no     yes   \n",
       "management               34  married    university.degree      no     yes   \n",
       "retired                  59  married             basic.4y      no     yes   \n",
       "self-employed  [30.0, 53.0]  married    university.degree      no     yes   \n",
       "services                 31  married          high.school      no     yes   \n",
       "student                  25   single          high.school      no     yes   \n",
       "technician               32  married  professional.course      no     yes   \n",
       "unemployed               33  married    university.degree      no     yes   \n",
       "unknown                  45  married              unknown      no     yes   \n",
       "\n",
       "              loan   contact month day_of_week  \\\n",
       "job                                              \n",
       "admin.          no  cellular   may         mon   \n",
       "blue-collar     no  cellular   may         wed   \n",
       "entrepreneur    no  cellular   may         thu   \n",
       "housemaid       no  cellular   may         wed   \n",
       "management      no  cellular   may         mon   \n",
       "retired         no  cellular   may         tue   \n",
       "self-employed   no  cellular   may         mon   \n",
       "services        no  cellular   may         tue   \n",
       "student         no  cellular   may         thu   \n",
       "technician      no  cellular   may         thu   \n",
       "unemployed      no  cellular   may         thu   \n",
       "unknown         no  cellular   may         wed   \n",
       "\n",
       "                                         duration  campaign  pdays  previous  \\\n",
       "job                                                                            \n",
       "admin.                                         91       1.0  999.0       0.0   \n",
       "blue-collar                                   128       1.0  999.0       0.0   \n",
       "entrepreneur            [56.0, 71.0, 82.0, 126.0]       1.0  999.0       0.0   \n",
       "housemaid                                     129       1.0  999.0       0.0   \n",
       "management                                    159       1.0  999.0       0.0   \n",
       "retired              [120.0, 177.0, 188.0, 189.0]       1.0  999.0       0.0   \n",
       "self-employed                                 133       1.0  999.0       0.0   \n",
       "services                     [51.0, 133.0, 161.0]       1.0  999.0       0.0   \n",
       "student        [92.0, 100.0, 104.0, 107.0, 200.0]       1.0  999.0       0.0   \n",
       "technician                                     90       1.0  999.0       0.0   \n",
       "unemployed                  [125.0, 156.0, 170.0]       1.0  999.0       0.0   \n",
       "unknown                                       258       1.0  999.0       0.0   \n",
       "\n",
       "                  poutcome   y  \n",
       "job                             \n",
       "admin.         nonexistent  no  \n",
       "blue-collar    nonexistent  no  \n",
       "entrepreneur   nonexistent  no  \n",
       "housemaid      nonexistent  no  \n",
       "management     nonexistent  no  \n",
       "retired        nonexistent  no  \n",
       "self-employed  nonexistent  no  \n",
       "services       nonexistent  no  \n",
       "student        nonexistent  no  \n",
       "technician     nonexistent  no  \n",
       "unemployed     nonexistent  no  \n",
       "unknown        nonexistent  no  "
      ]
     },
     "execution_count": 18,
     "metadata": {},
     "output_type": "execute_result"
    }
   ],
   "source": [
    "a = pd.DataFrame(dfn.groupby(dfn['job']).agg(pd.Series.mode))\n",
    "a"
   ]
  },
  {
   "cell_type": "markdown",
   "metadata": {},
   "source": [
    "> check if retired, student, and unknown represent a significant number of the total dataset to justify their use in the aggregate to impute values for the age column"
   ]
  },
  {
   "cell_type": "code",
   "execution_count": 19,
   "metadata": {},
   "outputs": [
    {
     "name": "stdout",
     "output_type": "stream",
     "text": [
      "Number of Retirees:\n",
      "794\n",
      "Number of Students:\n",
      "414\n",
      "Number of Unknowns:\n",
      "155\n"
     ]
    }
   ],
   "source": [
    "# number of housemaids\n",
    "print('Number of Retirees:')\n",
    "print(dfn[dfn['job']=='retired'].shape[0])\n",
    "print('Number of Students:')\n",
    "print(dfn[dfn['job']=='student'].shape[0])\n",
    "print('Number of Unknowns:')\n",
    "print(dfn[dfn['job']=='unknown'].shape[0])"
   ]
  },
  {
   "cell_type": "markdown",
   "metadata": {},
   "source": [
    "> Informed Assumption: <br>\n",
    ">There are a sufficient number of observations representing each of the above job descriptions to make strategic data imputations where the missing values will be replaced using the mode for each category. Another assumption is that age is perhaps one of the most valuable demographic pieces of information because it is highly ocrrelated with one's stage in life, and corresponding need for term deposit type products."
   ]
  },
  {
   "cell_type": "code",
   "execution_count": 20,
   "metadata": {},
   "outputs": [],
   "source": [
    "# impute np.nan values in age for the following observations: \n",
    "# housemaid, retired, student, unknown\n",
    "\n",
    "for lab, cont in dfn.iterrows():\n",
    "    age = cont['age']\n",
    "       \n",
    "    if cont['job']=='retired':age =59\n",
    "        \n",
    "    if cont['job']=='student':age=24\n",
    "    \n",
    "    if cont['job']=='unknown':age=45\n",
    "    \n",
    "        \n",
    "    if pd.isnull(cont['age'])==True: dfn.loc[lab,'age'] = age"
   ]
  },
  {
   "cell_type": "markdown",
   "metadata": {},
   "source": [
    "> impute all NaN values"
   ]
  },
  {
   "cell_type": "code",
   "execution_count": 21,
   "metadata": {},
   "outputs": [],
   "source": [
    "# import the rest of the nan values in the dataset with their respective modes\n",
    "colnames = dfn.columns.to_list()\n",
    "\n",
    "for n in colnames:\n",
    "    mode = dfn[n].mode()[0]\n",
    "    dfn[n].fillna(mode, inplace=True)"
   ]
  },
  {
   "cell_type": "code",
   "execution_count": 22,
   "metadata": {},
   "outputs": [
    {
     "data": {
      "text/plain": [
       "age            0\n",
       "job            0\n",
       "marital        0\n",
       "education      0\n",
       "default        0\n",
       "housing        0\n",
       "loan           0\n",
       "contact        0\n",
       "month          0\n",
       "day_of_week    0\n",
       "duration       0\n",
       "campaign       0\n",
       "pdays          0\n",
       "previous       0\n",
       "poutcome       0\n",
       "y              0\n",
       "dtype: int64"
      ]
     },
     "execution_count": 22,
     "metadata": {},
     "output_type": "execute_result"
    }
   ],
   "source": [
    "dfn.isnull().sum()"
   ]
  },
  {
   "cell_type": "markdown",
   "metadata": {},
   "source": [
    "### Preprocessing Data for ML Classification ALgorithms"
   ]
  },
  {
   "cell_type": "code",
   "execution_count": 23,
   "metadata": {},
   "outputs": [
    {
     "data": {
      "text/html": [
       "<div>\n",
       "<style scoped>\n",
       "    .dataframe tbody tr th:only-of-type {\n",
       "        vertical-align: middle;\n",
       "    }\n",
       "\n",
       "    .dataframe tbody tr th {\n",
       "        vertical-align: top;\n",
       "    }\n",
       "\n",
       "    .dataframe thead th {\n",
       "        text-align: right;\n",
       "    }\n",
       "</style>\n",
       "<table border=\"1\" class=\"dataframe\">\n",
       "  <thead>\n",
       "    <tr style=\"text-align: right;\">\n",
       "      <th></th>\n",
       "      <th>age</th>\n",
       "      <th>job</th>\n",
       "      <th>marital</th>\n",
       "      <th>education</th>\n",
       "      <th>default</th>\n",
       "      <th>housing</th>\n",
       "      <th>loan</th>\n",
       "      <th>contact</th>\n",
       "      <th>month</th>\n",
       "      <th>day_of_week</th>\n",
       "      <th>duration</th>\n",
       "      <th>campaign</th>\n",
       "      <th>pdays</th>\n",
       "      <th>previous</th>\n",
       "      <th>poutcome</th>\n",
       "      <th>y</th>\n",
       "    </tr>\n",
       "  </thead>\n",
       "  <tbody>\n",
       "    <tr>\n",
       "      <th>34109</th>\n",
       "      <td>31.0</td>\n",
       "      <td>entrepreneur</td>\n",
       "      <td>single</td>\n",
       "      <td>university.degree</td>\n",
       "      <td>no</td>\n",
       "      <td>yes</td>\n",
       "      <td>no</td>\n",
       "      <td>cellular</td>\n",
       "      <td>may</td>\n",
       "      <td>wed</td>\n",
       "      <td>318.0</td>\n",
       "      <td>3.0</td>\n",
       "      <td>999.0</td>\n",
       "      <td>1.0</td>\n",
       "      <td>failure</td>\n",
       "      <td>no</td>\n",
       "    </tr>\n",
       "    <tr>\n",
       "      <th>36032</th>\n",
       "      <td>45.0</td>\n",
       "      <td>admin.</td>\n",
       "      <td>divorced</td>\n",
       "      <td>university.degree</td>\n",
       "      <td>no</td>\n",
       "      <td>yes</td>\n",
       "      <td>no</td>\n",
       "      <td>cellular</td>\n",
       "      <td>may</td>\n",
       "      <td>tue</td>\n",
       "      <td>104.0</td>\n",
       "      <td>1.0</td>\n",
       "      <td>999.0</td>\n",
       "      <td>0.0</td>\n",
       "      <td>nonexistent</td>\n",
       "      <td>no</td>\n",
       "    </tr>\n",
       "    <tr>\n",
       "      <th>35938</th>\n",
       "      <td>54.0</td>\n",
       "      <td>admin.</td>\n",
       "      <td>married</td>\n",
       "      <td>university.degree</td>\n",
       "      <td>no</td>\n",
       "      <td>yes</td>\n",
       "      <td>no</td>\n",
       "      <td>cellular</td>\n",
       "      <td>may</td>\n",
       "      <td>mon</td>\n",
       "      <td>485.0</td>\n",
       "      <td>1.0</td>\n",
       "      <td>999.0</td>\n",
       "      <td>0.0</td>\n",
       "      <td>nonexistent</td>\n",
       "      <td>no</td>\n",
       "    </tr>\n",
       "    <tr>\n",
       "      <th>22328</th>\n",
       "      <td>31.0</td>\n",
       "      <td>technician</td>\n",
       "      <td>single</td>\n",
       "      <td>professional.course</td>\n",
       "      <td>no</td>\n",
       "      <td>yes</td>\n",
       "      <td>no</td>\n",
       "      <td>cellular</td>\n",
       "      <td>aug</td>\n",
       "      <td>thu</td>\n",
       "      <td>104.0</td>\n",
       "      <td>3.0</td>\n",
       "      <td>999.0</td>\n",
       "      <td>0.0</td>\n",
       "      <td>nonexistent</td>\n",
       "      <td>no</td>\n",
       "    </tr>\n",
       "    <tr>\n",
       "      <th>13912</th>\n",
       "      <td>31.0</td>\n",
       "      <td>admin.</td>\n",
       "      <td>single</td>\n",
       "      <td>university.degree</td>\n",
       "      <td>no</td>\n",
       "      <td>no</td>\n",
       "      <td>no</td>\n",
       "      <td>telephone</td>\n",
       "      <td>jul</td>\n",
       "      <td>fri</td>\n",
       "      <td>87.0</td>\n",
       "      <td>2.0</td>\n",
       "      <td>999.0</td>\n",
       "      <td>0.0</td>\n",
       "      <td>nonexistent</td>\n",
       "      <td>no</td>\n",
       "    </tr>\n",
       "    <tr>\n",
       "      <th>...</th>\n",
       "      <td>...</td>\n",
       "      <td>...</td>\n",
       "      <td>...</td>\n",
       "      <td>...</td>\n",
       "      <td>...</td>\n",
       "      <td>...</td>\n",
       "      <td>...</td>\n",
       "      <td>...</td>\n",
       "      <td>...</td>\n",
       "      <td>...</td>\n",
       "      <td>...</td>\n",
       "      <td>...</td>\n",
       "      <td>...</td>\n",
       "      <td>...</td>\n",
       "      <td>...</td>\n",
       "      <td>...</td>\n",
       "    </tr>\n",
       "    <tr>\n",
       "      <th>28438</th>\n",
       "      <td>57.0</td>\n",
       "      <td>services</td>\n",
       "      <td>married</td>\n",
       "      <td>high.school</td>\n",
       "      <td>no</td>\n",
       "      <td>yes</td>\n",
       "      <td>no</td>\n",
       "      <td>cellular</td>\n",
       "      <td>apr</td>\n",
       "      <td>thu</td>\n",
       "      <td>275.0</td>\n",
       "      <td>2.0</td>\n",
       "      <td>999.0</td>\n",
       "      <td>1.0</td>\n",
       "      <td>failure</td>\n",
       "      <td>no</td>\n",
       "    </tr>\n",
       "    <tr>\n",
       "      <th>34386</th>\n",
       "      <td>47.0</td>\n",
       "      <td>entrepreneur</td>\n",
       "      <td>divorced</td>\n",
       "      <td>university.degree</td>\n",
       "      <td>no</td>\n",
       "      <td>no</td>\n",
       "      <td>no</td>\n",
       "      <td>cellular</td>\n",
       "      <td>may</td>\n",
       "      <td>thu</td>\n",
       "      <td>8.0</td>\n",
       "      <td>7.0</td>\n",
       "      <td>999.0</td>\n",
       "      <td>0.0</td>\n",
       "      <td>nonexistent</td>\n",
       "      <td>no</td>\n",
       "    </tr>\n",
       "    <tr>\n",
       "      <th>27806</th>\n",
       "      <td>29.0</td>\n",
       "      <td>self-employed</td>\n",
       "      <td>married</td>\n",
       "      <td>university.degree</td>\n",
       "      <td>no</td>\n",
       "      <td>no</td>\n",
       "      <td>no</td>\n",
       "      <td>cellular</td>\n",
       "      <td>mar</td>\n",
       "      <td>wed</td>\n",
       "      <td>101.0</td>\n",
       "      <td>1.0</td>\n",
       "      <td>999.0</td>\n",
       "      <td>0.0</td>\n",
       "      <td>nonexistent</td>\n",
       "      <td>no</td>\n",
       "    </tr>\n",
       "    <tr>\n",
       "      <th>14450</th>\n",
       "      <td>31.0</td>\n",
       "      <td>housemaid</td>\n",
       "      <td>married</td>\n",
       "      <td>basic.4y</td>\n",
       "      <td>no</td>\n",
       "      <td>no</td>\n",
       "      <td>no</td>\n",
       "      <td>cellular</td>\n",
       "      <td>jul</td>\n",
       "      <td>tue</td>\n",
       "      <td>56.0</td>\n",
       "      <td>4.0</td>\n",
       "      <td>999.0</td>\n",
       "      <td>0.0</td>\n",
       "      <td>nonexistent</td>\n",
       "      <td>no</td>\n",
       "    </tr>\n",
       "    <tr>\n",
       "      <th>34117</th>\n",
       "      <td>29.0</td>\n",
       "      <td>blue-collar</td>\n",
       "      <td>married</td>\n",
       "      <td>basic.9y</td>\n",
       "      <td>no</td>\n",
       "      <td>yes</td>\n",
       "      <td>yes</td>\n",
       "      <td>cellular</td>\n",
       "      <td>may</td>\n",
       "      <td>wed</td>\n",
       "      <td>444.0</td>\n",
       "      <td>2.0</td>\n",
       "      <td>999.0</td>\n",
       "      <td>1.0</td>\n",
       "      <td>failure</td>\n",
       "      <td>no</td>\n",
       "    </tr>\n",
       "  </tbody>\n",
       "</table>\n",
       "<p>20000 rows × 16 columns</p>\n",
       "</div>"
      ],
      "text/plain": [
       "        age            job   marital            education default housing  \\\n",
       "34109  31.0   entrepreneur    single    university.degree      no     yes   \n",
       "36032  45.0         admin.  divorced    university.degree      no     yes   \n",
       "35938  54.0         admin.   married    university.degree      no     yes   \n",
       "22328  31.0     technician    single  professional.course      no     yes   \n",
       "13912  31.0         admin.    single    university.degree      no      no   \n",
       "...     ...            ...       ...                  ...     ...     ...   \n",
       "28438  57.0       services   married          high.school      no     yes   \n",
       "34386  47.0   entrepreneur  divorced    university.degree      no      no   \n",
       "27806  29.0  self-employed   married    university.degree      no      no   \n",
       "14450  31.0      housemaid   married             basic.4y      no      no   \n",
       "34117  29.0    blue-collar   married             basic.9y      no     yes   \n",
       "\n",
       "      loan    contact month day_of_week  duration  campaign  pdays  previous  \\\n",
       "34109   no   cellular   may         wed     318.0       3.0  999.0       1.0   \n",
       "36032   no   cellular   may         tue     104.0       1.0  999.0       0.0   \n",
       "35938   no   cellular   may         mon     485.0       1.0  999.0       0.0   \n",
       "22328   no   cellular   aug         thu     104.0       3.0  999.0       0.0   \n",
       "13912   no  telephone   jul         fri      87.0       2.0  999.0       0.0   \n",
       "...    ...        ...   ...         ...       ...       ...    ...       ...   \n",
       "28438   no   cellular   apr         thu     275.0       2.0  999.0       1.0   \n",
       "34386   no   cellular   may         thu       8.0       7.0  999.0       0.0   \n",
       "27806   no   cellular   mar         wed     101.0       1.0  999.0       0.0   \n",
       "14450   no   cellular   jul         tue      56.0       4.0  999.0       0.0   \n",
       "34117  yes   cellular   may         wed     444.0       2.0  999.0       1.0   \n",
       "\n",
       "          poutcome   y  \n",
       "34109      failure  no  \n",
       "36032  nonexistent  no  \n",
       "35938  nonexistent  no  \n",
       "22328  nonexistent  no  \n",
       "13912  nonexistent  no  \n",
       "...            ...  ..  \n",
       "28438      failure  no  \n",
       "34386  nonexistent  no  \n",
       "27806  nonexistent  no  \n",
       "14450  nonexistent  no  \n",
       "34117      failure  no  \n",
       "\n",
       "[20000 rows x 16 columns]"
      ]
     },
     "execution_count": 23,
     "metadata": {},
     "output_type": "execute_result"
    }
   ],
   "source": [
    "dfn"
   ]
  },
  {
   "cell_type": "code",
   "execution_count": null,
   "metadata": {},
   "outputs": [],
   "source": []
  },
  {
   "cell_type": "markdown",
   "metadata": {},
   "source": [
    "> replace categorical columns with dummy variable columns. Categorical Columns include: <br>\n",
    "'job','marital','education','contact','month','day_of_week','poutcome'"
   ]
  },
  {
   "cell_type": "code",
   "execution_count": 24,
   "metadata": {},
   "outputs": [],
   "source": [
    "#replace categorical columns with dummies\n",
    "# columns to replace: \n",
    "# 'job','marital','education','contact','month','day_of_week'\n",
    "cat_vars = ['job','marital','education','contact','month','day_of_week','poutcome']\n",
    "\n",
    "fdf = dfn.copy()\n",
    "\n",
    "dfdum_list=[]\n",
    "\n",
    "for cat in cat_vars:\n",
    "    temp_df = pd.DataFrame(pd.get_dummies(dfn[cat]))\n",
    "    dfdum_list.append(temp_df)\n",
    "    \n",
    "    fdf.drop(cat, axis=1, inplace=True)\n",
    "\n",
    "    \n",
    "dfdum_list.append(fdf)\n",
    "\n",
    "fdf = pd.concat(dfdum_list, axis=1)"
   ]
  },
  {
   "cell_type": "code",
   "execution_count": 25,
   "metadata": {},
   "outputs": [
    {
     "data": {
      "text/plain": [
       "[       admin.  blue-collar  entrepreneur  housemaid  management  retired  \\\n",
       " 34109       0            0             1          0           0        0   \n",
       " 36032       1            0             0          0           0        0   \n",
       " 35938       1            0             0          0           0        0   \n",
       " 22328       0            0             0          0           0        0   \n",
       " 13912       1            0             0          0           0        0   \n",
       " ...       ...          ...           ...        ...         ...      ...   \n",
       " 28438       0            0             0          0           0        0   \n",
       " 34386       0            0             1          0           0        0   \n",
       " 27806       0            0             0          0           0        0   \n",
       " 14450       0            0             0          1           0        0   \n",
       " 34117       0            1             0          0           0        0   \n",
       " \n",
       "        self-employed  services  student  technician  unemployed  unknown  \n",
       " 34109              0         0        0           0           0        0  \n",
       " 36032              0         0        0           0           0        0  \n",
       " 35938              0         0        0           0           0        0  \n",
       " 22328              0         0        0           1           0        0  \n",
       " 13912              0         0        0           0           0        0  \n",
       " ...              ...       ...      ...         ...         ...      ...  \n",
       " 28438              0         1        0           0           0        0  \n",
       " 34386              0         0        0           0           0        0  \n",
       " 27806              1         0        0           0           0        0  \n",
       " 14450              0         0        0           0           0        0  \n",
       " 34117              0         0        0           0           0        0  \n",
       " \n",
       " [20000 rows x 12 columns],\n",
       "        divorced  married  single  unknown\n",
       " 34109         0        0       1        0\n",
       " 36032         1        0       0        0\n",
       " 35938         0        1       0        0\n",
       " 22328         0        0       1        0\n",
       " 13912         0        0       1        0\n",
       " ...         ...      ...     ...      ...\n",
       " 28438         0        1       0        0\n",
       " 34386         1        0       0        0\n",
       " 27806         0        1       0        0\n",
       " 14450         0        1       0        0\n",
       " 34117         0        1       0        0\n",
       " \n",
       " [20000 rows x 4 columns],\n",
       "        basic.4y  basic.6y  basic.9y  high.school  illiterate  \\\n",
       " 34109         0         0         0            0           0   \n",
       " 36032         0         0         0            0           0   \n",
       " 35938         0         0         0            0           0   \n",
       " 22328         0         0         0            0           0   \n",
       " 13912         0         0         0            0           0   \n",
       " ...         ...       ...       ...          ...         ...   \n",
       " 28438         0         0         0            1           0   \n",
       " 34386         0         0         0            0           0   \n",
       " 27806         0         0         0            0           0   \n",
       " 14450         1         0         0            0           0   \n",
       " 34117         0         0         1            0           0   \n",
       " \n",
       "        professional.course  university.degree  unknown  \n",
       " 34109                    0                  1        0  \n",
       " 36032                    0                  1        0  \n",
       " 35938                    0                  1        0  \n",
       " 22328                    1                  0        0  \n",
       " 13912                    0                  1        0  \n",
       " ...                    ...                ...      ...  \n",
       " 28438                    0                  0        0  \n",
       " 34386                    0                  1        0  \n",
       " 27806                    0                  1        0  \n",
       " 14450                    0                  0        0  \n",
       " 34117                    0                  0        0  \n",
       " \n",
       " [20000 rows x 8 columns],\n",
       "        cellular  telephone\n",
       " 34109         1          0\n",
       " 36032         1          0\n",
       " 35938         1          0\n",
       " 22328         1          0\n",
       " 13912         0          1\n",
       " ...         ...        ...\n",
       " 28438         1          0\n",
       " 34386         1          0\n",
       " 27806         1          0\n",
       " 14450         1          0\n",
       " 34117         1          0\n",
       " \n",
       " [20000 rows x 2 columns],\n",
       "        apr  aug  dec  jul  jun  mar  may  nov  oct  sep\n",
       " 34109    0    0    0    0    0    0    1    0    0    0\n",
       " 36032    0    0    0    0    0    0    1    0    0    0\n",
       " 35938    0    0    0    0    0    0    1    0    0    0\n",
       " 22328    0    1    0    0    0    0    0    0    0    0\n",
       " 13912    0    0    0    1    0    0    0    0    0    0\n",
       " ...    ...  ...  ...  ...  ...  ...  ...  ...  ...  ...\n",
       " 28438    1    0    0    0    0    0    0    0    0    0\n",
       " 34386    0    0    0    0    0    0    1    0    0    0\n",
       " 27806    0    0    0    0    0    1    0    0    0    0\n",
       " 14450    0    0    0    1    0    0    0    0    0    0\n",
       " 34117    0    0    0    0    0    0    1    0    0    0\n",
       " \n",
       " [20000 rows x 10 columns],\n",
       "        fri  mon  thu  tue  wed\n",
       " 34109    0    0    0    0    1\n",
       " 36032    0    0    0    1    0\n",
       " 35938    0    1    0    0    0\n",
       " 22328    0    0    1    0    0\n",
       " 13912    1    0    0    0    0\n",
       " ...    ...  ...  ...  ...  ...\n",
       " 28438    0    0    1    0    0\n",
       " 34386    0    0    1    0    0\n",
       " 27806    0    0    0    0    1\n",
       " 14450    0    0    0    1    0\n",
       " 34117    0    0    0    0    1\n",
       " \n",
       " [20000 rows x 5 columns],\n",
       "        failure  nonexistent  success\n",
       " 34109        1            0        0\n",
       " 36032        0            1        0\n",
       " 35938        0            1        0\n",
       " 22328        0            1        0\n",
       " 13912        0            1        0\n",
       " ...        ...          ...      ...\n",
       " 28438        1            0        0\n",
       " 34386        0            1        0\n",
       " 27806        0            1        0\n",
       " 14450        0            1        0\n",
       " 34117        1            0        0\n",
       " \n",
       " [20000 rows x 3 columns],\n",
       "         age default housing loan  duration  campaign  pdays  previous   y\n",
       " 34109  31.0      no     yes   no     318.0       3.0  999.0       1.0  no\n",
       " 36032  45.0      no     yes   no     104.0       1.0  999.0       0.0  no\n",
       " 35938  54.0      no     yes   no     485.0       1.0  999.0       0.0  no\n",
       " 22328  31.0      no     yes   no     104.0       3.0  999.0       0.0  no\n",
       " 13912  31.0      no      no   no      87.0       2.0  999.0       0.0  no\n",
       " ...     ...     ...     ...  ...       ...       ...    ...       ...  ..\n",
       " 28438  57.0      no     yes   no     275.0       2.0  999.0       1.0  no\n",
       " 34386  47.0      no      no   no       8.0       7.0  999.0       0.0  no\n",
       " 27806  29.0      no      no   no     101.0       1.0  999.0       0.0  no\n",
       " 14450  31.0      no      no   no      56.0       4.0  999.0       0.0  no\n",
       " 34117  29.0      no     yes  yes     444.0       2.0  999.0       1.0  no\n",
       " \n",
       " [20000 rows x 9 columns]]"
      ]
     },
     "execution_count": 25,
     "metadata": {},
     "output_type": "execute_result"
    }
   ],
   "source": [
    "dfdum_list"
   ]
  },
  {
   "cell_type": "code",
   "execution_count": 26,
   "metadata": {},
   "outputs": [
    {
     "name": "stdout",
     "output_type": "stream",
     "text": [
      "<class 'pandas.core.frame.DataFrame'>\n",
      "Int64Index: 20000 entries, 34109 to 34117\n",
      "Data columns (total 53 columns):\n",
      " #   Column               Non-Null Count  Dtype  \n",
      "---  ------               --------------  -----  \n",
      " 0   admin.               20000 non-null  uint8  \n",
      " 1   blue-collar          20000 non-null  uint8  \n",
      " 2   entrepreneur         20000 non-null  uint8  \n",
      " 3   housemaid            20000 non-null  uint8  \n",
      " 4   management           20000 non-null  uint8  \n",
      " 5   retired              20000 non-null  uint8  \n",
      " 6   self-employed        20000 non-null  uint8  \n",
      " 7   services             20000 non-null  uint8  \n",
      " 8   student              20000 non-null  uint8  \n",
      " 9   technician           20000 non-null  uint8  \n",
      " 10  unemployed           20000 non-null  uint8  \n",
      " 11  unknown              20000 non-null  uint8  \n",
      " 12  divorced             20000 non-null  uint8  \n",
      " 13  married              20000 non-null  uint8  \n",
      " 14  single               20000 non-null  uint8  \n",
      " 15  unknown              20000 non-null  uint8  \n",
      " 16  basic.4y             20000 non-null  uint8  \n",
      " 17  basic.6y             20000 non-null  uint8  \n",
      " 18  basic.9y             20000 non-null  uint8  \n",
      " 19  high.school          20000 non-null  uint8  \n",
      " 20  illiterate           20000 non-null  uint8  \n",
      " 21  professional.course  20000 non-null  uint8  \n",
      " 22  university.degree    20000 non-null  uint8  \n",
      " 23  unknown              20000 non-null  uint8  \n",
      " 24  cellular             20000 non-null  uint8  \n",
      " 25  telephone            20000 non-null  uint8  \n",
      " 26  apr                  20000 non-null  uint8  \n",
      " 27  aug                  20000 non-null  uint8  \n",
      " 28  dec                  20000 non-null  uint8  \n",
      " 29  jul                  20000 non-null  uint8  \n",
      " 30  jun                  20000 non-null  uint8  \n",
      " 31  mar                  20000 non-null  uint8  \n",
      " 32  may                  20000 non-null  uint8  \n",
      " 33  nov                  20000 non-null  uint8  \n",
      " 34  oct                  20000 non-null  uint8  \n",
      " 35  sep                  20000 non-null  uint8  \n",
      " 36  fri                  20000 non-null  uint8  \n",
      " 37  mon                  20000 non-null  uint8  \n",
      " 38  thu                  20000 non-null  uint8  \n",
      " 39  tue                  20000 non-null  uint8  \n",
      " 40  wed                  20000 non-null  uint8  \n",
      " 41  failure              20000 non-null  uint8  \n",
      " 42  nonexistent          20000 non-null  uint8  \n",
      " 43  success              20000 non-null  uint8  \n",
      " 44  age                  20000 non-null  float64\n",
      " 45  default              20000 non-null  object \n",
      " 46  housing              20000 non-null  object \n",
      " 47  loan                 20000 non-null  object \n",
      " 48  duration             20000 non-null  float64\n",
      " 49  campaign             20000 non-null  float64\n",
      " 50  pdays                20000 non-null  float64\n",
      " 51  previous             20000 non-null  float64\n",
      " 52  y                    20000 non-null  object \n",
      "dtypes: float64(5), object(4), uint8(44)\n",
      "memory usage: 3.0+ MB\n"
     ]
    }
   ],
   "source": [
    "fdf.info()"
   ]
  },
  {
   "cell_type": "markdown",
   "metadata": {},
   "source": [
    "> drop unknown columns as they are less information rich"
   ]
  },
  {
   "cell_type": "code",
   "execution_count": 27,
   "metadata": {},
   "outputs": [
    {
     "name": "stdout",
     "output_type": "stream",
     "text": [
      "<class 'pandas.core.frame.DataFrame'>\n",
      "Int64Index: 20000 entries, 34109 to 34117\n",
      "Data columns (total 50 columns):\n",
      " #   Column               Non-Null Count  Dtype  \n",
      "---  ------               --------------  -----  \n",
      " 0   admin.               20000 non-null  uint8  \n",
      " 1   blue-collar          20000 non-null  uint8  \n",
      " 2   entrepreneur         20000 non-null  uint8  \n",
      " 3   housemaid            20000 non-null  uint8  \n",
      " 4   management           20000 non-null  uint8  \n",
      " 5   retired              20000 non-null  uint8  \n",
      " 6   self-employed        20000 non-null  uint8  \n",
      " 7   services             20000 non-null  uint8  \n",
      " 8   student              20000 non-null  uint8  \n",
      " 9   technician           20000 non-null  uint8  \n",
      " 10  unemployed           20000 non-null  uint8  \n",
      " 11  divorced             20000 non-null  uint8  \n",
      " 12  married              20000 non-null  uint8  \n",
      " 13  single               20000 non-null  uint8  \n",
      " 14  basic.4y             20000 non-null  uint8  \n",
      " 15  basic.6y             20000 non-null  uint8  \n",
      " 16  basic.9y             20000 non-null  uint8  \n",
      " 17  high.school          20000 non-null  uint8  \n",
      " 18  illiterate           20000 non-null  uint8  \n",
      " 19  professional.course  20000 non-null  uint8  \n",
      " 20  university.degree    20000 non-null  uint8  \n",
      " 21  cellular             20000 non-null  uint8  \n",
      " 22  telephone            20000 non-null  uint8  \n",
      " 23  apr                  20000 non-null  uint8  \n",
      " 24  aug                  20000 non-null  uint8  \n",
      " 25  dec                  20000 non-null  uint8  \n",
      " 26  jul                  20000 non-null  uint8  \n",
      " 27  jun                  20000 non-null  uint8  \n",
      " 28  mar                  20000 non-null  uint8  \n",
      " 29  may                  20000 non-null  uint8  \n",
      " 30  nov                  20000 non-null  uint8  \n",
      " 31  oct                  20000 non-null  uint8  \n",
      " 32  sep                  20000 non-null  uint8  \n",
      " 33  fri                  20000 non-null  uint8  \n",
      " 34  mon                  20000 non-null  uint8  \n",
      " 35  thu                  20000 non-null  uint8  \n",
      " 36  tue                  20000 non-null  uint8  \n",
      " 37  wed                  20000 non-null  uint8  \n",
      " 38  failure              20000 non-null  uint8  \n",
      " 39  nonexistent          20000 non-null  uint8  \n",
      " 40  success              20000 non-null  uint8  \n",
      " 41  age                  20000 non-null  float64\n",
      " 42  default              20000 non-null  object \n",
      " 43  housing              20000 non-null  object \n",
      " 44  loan                 20000 non-null  object \n",
      " 45  duration             20000 non-null  float64\n",
      " 46  campaign             20000 non-null  float64\n",
      " 47  pdays                20000 non-null  float64\n",
      " 48  previous             20000 non-null  float64\n",
      " 49  y                    20000 non-null  object \n",
      "dtypes: float64(5), object(4), uint8(41)\n",
      "memory usage: 2.9+ MB\n"
     ]
    }
   ],
   "source": [
    "fdf.drop('unknown', axis=1, inplace=True)\n",
    "fdf.info()"
   ]
  },
  {
   "cell_type": "markdown",
   "metadata": {},
   "source": [
    "> Replace ordinal columns with binary output. Columns to be mapped to ordinal ones include:<br>housing, loan, default"
   ]
  },
  {
   "cell_type": "code",
   "execution_count": 28,
   "metadata": {},
   "outputs": [
    {
     "name": "stdout",
     "output_type": "stream",
     "text": [
      "housing unique & mode\n",
      "['yes' 'no' 'unknown']\n",
      "yes\n",
      "loan unique & mode\n",
      "['no' 'yes' 'unknown']\n",
      "no\n",
      "default unique & mode\n",
      "['no' 'unknown' 'yes']\n",
      "no\n"
     ]
    }
   ],
   "source": [
    "print('housing unique & mode')\n",
    "print(fdf['housing'].unique())\n",
    "hm = fdf['housing'].mode()[0]\n",
    "print(hm)\n",
    "\n",
    "print('loan unique & mode')\n",
    "print(fdf['loan'].unique())\n",
    "lm = fdf['loan'].mode()[0]\n",
    "print(lm)\n",
    "\n",
    "print('default unique & mode')\n",
    "print(fdf['default'].unique())\n",
    "dm = fdf['default'].mode()[0]\n",
    "print(dm)\n",
    "\n",
    "fdf['housing'].replace('unknown',hm, inplace=True)\n",
    "fdf['loan'].replace('unknown',lm, inplace=True)\n",
    "fdf['default'].replace('unknown',dm, inplace=True)"
   ]
  },
  {
   "cell_type": "code",
   "execution_count": 29,
   "metadata": {},
   "outputs": [
    {
     "name": "stdout",
     "output_type": "stream",
     "text": [
      "<class 'pandas.core.frame.DataFrame'>\n",
      "Int64Index: 20000 entries, 34109 to 34117\n",
      "Data columns (total 50 columns):\n",
      " #   Column               Non-Null Count  Dtype  \n",
      "---  ------               --------------  -----  \n",
      " 0   admin.               20000 non-null  uint8  \n",
      " 1   blue-collar          20000 non-null  uint8  \n",
      " 2   entrepreneur         20000 non-null  uint8  \n",
      " 3   housemaid            20000 non-null  uint8  \n",
      " 4   management           20000 non-null  uint8  \n",
      " 5   retired              20000 non-null  uint8  \n",
      " 6   self-employed        20000 non-null  uint8  \n",
      " 7   services             20000 non-null  uint8  \n",
      " 8   student              20000 non-null  uint8  \n",
      " 9   technician           20000 non-null  uint8  \n",
      " 10  unemployed           20000 non-null  uint8  \n",
      " 11  divorced             20000 non-null  uint8  \n",
      " 12  married              20000 non-null  uint8  \n",
      " 13  single               20000 non-null  uint8  \n",
      " 14  basic.4y             20000 non-null  uint8  \n",
      " 15  basic.6y             20000 non-null  uint8  \n",
      " 16  basic.9y             20000 non-null  uint8  \n",
      " 17  high.school          20000 non-null  uint8  \n",
      " 18  illiterate           20000 non-null  uint8  \n",
      " 19  professional.course  20000 non-null  uint8  \n",
      " 20  university.degree    20000 non-null  uint8  \n",
      " 21  cellular             20000 non-null  uint8  \n",
      " 22  telephone            20000 non-null  uint8  \n",
      " 23  apr                  20000 non-null  uint8  \n",
      " 24  aug                  20000 non-null  uint8  \n",
      " 25  dec                  20000 non-null  uint8  \n",
      " 26  jul                  20000 non-null  uint8  \n",
      " 27  jun                  20000 non-null  uint8  \n",
      " 28  mar                  20000 non-null  uint8  \n",
      " 29  may                  20000 non-null  uint8  \n",
      " 30  nov                  20000 non-null  uint8  \n",
      " 31  oct                  20000 non-null  uint8  \n",
      " 32  sep                  20000 non-null  uint8  \n",
      " 33  fri                  20000 non-null  uint8  \n",
      " 34  mon                  20000 non-null  uint8  \n",
      " 35  thu                  20000 non-null  uint8  \n",
      " 36  tue                  20000 non-null  uint8  \n",
      " 37  wed                  20000 non-null  uint8  \n",
      " 38  failure              20000 non-null  uint8  \n",
      " 39  nonexistent          20000 non-null  uint8  \n",
      " 40  success              20000 non-null  uint8  \n",
      " 41  age                  20000 non-null  float64\n",
      " 42  default              20000 non-null  object \n",
      " 43  housing              20000 non-null  object \n",
      " 44  loan                 20000 non-null  object \n",
      " 45  duration             20000 non-null  float64\n",
      " 46  campaign             20000 non-null  float64\n",
      " 47  pdays                20000 non-null  float64\n",
      " 48  previous             20000 non-null  float64\n",
      " 49  y                    20000 non-null  object \n",
      "dtypes: float64(5), object(4), uint8(41)\n",
      "memory usage: 2.9+ MB\n"
     ]
    }
   ],
   "source": [
    "fdf.info()"
   ]
  },
  {
   "cell_type": "markdown",
   "metadata": {},
   "source": [
    "> Convert Ordinal Columns into binary where 1/0 is yes/no, respectively.<br>\n",
    "Columns to be converted: default, housing, loan, y"
   ]
  },
  {
   "cell_type": "code",
   "execution_count": 30,
   "metadata": {},
   "outputs": [],
   "source": [
    "ordlst = ['default', 'housing', 'loan', 'y']\n",
    "\n",
    "for i in ordlst:\n",
    "    fdf[i].replace('yes', 1, inplace=True)\n",
    "    fdf[i].replace('no', 0, inplace=True)"
   ]
  },
  {
   "cell_type": "markdown",
   "metadata": {},
   "source": [
    ">Dataset's variables are now in their appropriate numeric form for ML algorithms to operate on them."
   ]
  },
  {
   "cell_type": "code",
   "execution_count": 31,
   "metadata": {},
   "outputs": [
    {
     "name": "stdout",
     "output_type": "stream",
     "text": [
      "<class 'pandas.core.frame.DataFrame'>\n",
      "Int64Index: 20000 entries, 34109 to 34117\n",
      "Data columns (total 50 columns):\n",
      " #   Column               Non-Null Count  Dtype  \n",
      "---  ------               --------------  -----  \n",
      " 0   admin.               20000 non-null  uint8  \n",
      " 1   blue-collar          20000 non-null  uint8  \n",
      " 2   entrepreneur         20000 non-null  uint8  \n",
      " 3   housemaid            20000 non-null  uint8  \n",
      " 4   management           20000 non-null  uint8  \n",
      " 5   retired              20000 non-null  uint8  \n",
      " 6   self-employed        20000 non-null  uint8  \n",
      " 7   services             20000 non-null  uint8  \n",
      " 8   student              20000 non-null  uint8  \n",
      " 9   technician           20000 non-null  uint8  \n",
      " 10  unemployed           20000 non-null  uint8  \n",
      " 11  divorced             20000 non-null  uint8  \n",
      " 12  married              20000 non-null  uint8  \n",
      " 13  single               20000 non-null  uint8  \n",
      " 14  basic.4y             20000 non-null  uint8  \n",
      " 15  basic.6y             20000 non-null  uint8  \n",
      " 16  basic.9y             20000 non-null  uint8  \n",
      " 17  high.school          20000 non-null  uint8  \n",
      " 18  illiterate           20000 non-null  uint8  \n",
      " 19  professional.course  20000 non-null  uint8  \n",
      " 20  university.degree    20000 non-null  uint8  \n",
      " 21  cellular             20000 non-null  uint8  \n",
      " 22  telephone            20000 non-null  uint8  \n",
      " 23  apr                  20000 non-null  uint8  \n",
      " 24  aug                  20000 non-null  uint8  \n",
      " 25  dec                  20000 non-null  uint8  \n",
      " 26  jul                  20000 non-null  uint8  \n",
      " 27  jun                  20000 non-null  uint8  \n",
      " 28  mar                  20000 non-null  uint8  \n",
      " 29  may                  20000 non-null  uint8  \n",
      " 30  nov                  20000 non-null  uint8  \n",
      " 31  oct                  20000 non-null  uint8  \n",
      " 32  sep                  20000 non-null  uint8  \n",
      " 33  fri                  20000 non-null  uint8  \n",
      " 34  mon                  20000 non-null  uint8  \n",
      " 35  thu                  20000 non-null  uint8  \n",
      " 36  tue                  20000 non-null  uint8  \n",
      " 37  wed                  20000 non-null  uint8  \n",
      " 38  failure              20000 non-null  uint8  \n",
      " 39  nonexistent          20000 non-null  uint8  \n",
      " 40  success              20000 non-null  uint8  \n",
      " 41  age                  20000 non-null  float64\n",
      " 42  default              20000 non-null  int64  \n",
      " 43  housing              20000 non-null  int64  \n",
      " 44  loan                 20000 non-null  int64  \n",
      " 45  duration             20000 non-null  float64\n",
      " 46  campaign             20000 non-null  float64\n",
      " 47  pdays                20000 non-null  float64\n",
      " 48  previous             20000 non-null  float64\n",
      " 49  y                    20000 non-null  int64  \n",
      "dtypes: float64(5), int64(4), uint8(41)\n",
      "memory usage: 2.9 MB\n"
     ]
    }
   ],
   "source": [
    "fdf.info()"
   ]
  },
  {
   "cell_type": "markdown",
   "metadata": {},
   "source": [
    "## Test for Imbalance\n",
    ">Before the model can be split into train and test datasets, the dataset needs to be assessed for imbalance. If the dataset is imbalanced, then it may be difficult to predict the target variable in a meaningful way using traditional scoring techniques. Another name for this type of issue in a classification model is rare event prediction. Imbalance can be expressed as a simple ratio. Technically, anything other than equal representation is considered imbalanced, but slight imbalance is not a significant problem. For our purposes, a ratio less than 0.2 will be considered imbalanced. In other words, if less than 20% of the observations in our dataset have a value of 'yes' or 1 in the target column, then the dataset will be considered significantly imbalanced and adjustments will be necessary.<br><br>\n",
    "In order to adjust for imbalance, a different scoring method will be used to assess each model. The roc_auc_score method will be used because it accounts for recall and the FPR (False Positive Rate). It is important to maximize the recall in whatever model is finally selected because it will ensure that a sufficient number of the most likely customers to subscribe to a term deposit are marketed to. The recall measures how many out of all of the positive target variables are correctly calssified. Also, we want to minimize the FPR because it wastes the bank's money too market to those who are unlikely to subscribe to a term deposit.\n"
   ]
  },
  {
   "cell_type": "code",
   "execution_count": 32,
   "metadata": {},
   "outputs": [
    {
     "name": "stdout",
     "output_type": "stream",
     "text": [
      "Total number of y in fbf dataset:\n",
      "2149\n",
      "\n",
      "Ratio of y in the target column in fbf dataframe:\n",
      "0.10745\n"
     ]
    }
   ],
   "source": [
    "n_of_y = list(fdf['y']).count(1)\n",
    "tot = fdf.shape[0]\n",
    "ratio_of_y = n_of_y/tot\n",
    "print('Total number of y in fbf dataset:')\n",
    "print(n_of_y)\n",
    "print()\n",
    "print('Ratio of y in the target column in fbf dataframe:')\n",
    "print(ratio_of_y)"
   ]
  },
  {
   "cell_type": "code",
   "execution_count": 33,
   "metadata": {},
   "outputs": [
    {
     "data": {
      "image/png": "[encoded data removed]",
      "text/plain": [
       "<Figure size 432x288 with 1 Axes>"
      ]
     },
     "metadata": {},
     "output_type": "display_data"
    }
   ],
   "source": [
    "import matplotlib.pyplot as plt\n",
    "\n",
    "# Data to plot\n",
    "labels = 'no','yes'\n",
    "num_no = list(fdf['y']).count(0)\n",
    "num_yes = list(fdf['y']).count(1)\n",
    "sizes = [num_no,num_yes]\n",
    "colors = ['gold','lightskyblue']\n",
    "explode = (0.1, 0)  # explode 1st slice\n",
    "\n",
    "# Plot\n",
    "plt.pie(sizes, explode=explode, labels=labels, colors=colors,\n",
    "autopct='%1.1f%%', shadow=True, startangle=140)\n",
    "\n",
    "plt.axis('equal')\n",
    "plt.show()"
   ]
  },
  {
   "cell_type": "markdown",
   "metadata": {},
   "source": [
    "> This dataset is significantly imbalanced, so adjustments will have to be made. Specifically, the scoring method used throughout this notebook for each classification model will be the roc_auc_score method in the sklearn package. This scoring method aims to maximize the recall, while minimizing the false positive rate. The interpretation of this for the bank is that this new scoring function will aim to minimize the number of customers who are marketed to who are unlikely to subscribe to a term deposit."
   ]
  },
  {
   "cell_type": "markdown",
   "metadata": {},
   "source": [
    "#### Train/Test data split\n",
    ">The data will be split into train and test datasets that will be used for all of the models. <br><br>\n",
    "<b>Regularization:</b><br>\n",
    "Importantly, the MinMaxScaler() function will be applied to the data at the same time as the train/test split. The MinMaxScaler() function is a commonly used regularization function which transforms all variables in each column to a value between 0-1 relative to other values in that variable. Regularization is applied to ensure that every factor in the dataset is weighed equally when distance-based classification models are applied. In models like support vector machines, the distance between points matters as that is the technique used to classify the data. Furthermore, Regularization will not affect non-distance-based calssification models. Therefore, standardization of the data is a critical first step regardless of whether classification or regression models are employed. "
   ]
  },
  {
   "cell_type": "code",
   "execution_count": 34,
   "metadata": {},
   "outputs": [],
   "source": [
    "y = fdf['y']\n",
    "#y"
   ]
  },
  {
   "cell_type": "code",
   "execution_count": 35,
   "metadata": {},
   "outputs": [
    {
     "data": {
      "text/plain": [
       "34109    0\n",
       "36032    0\n",
       "35938    0\n",
       "22328    0\n",
       "13912    0\n",
       "        ..\n",
       "28438    0\n",
       "34386    0\n",
       "27806    0\n",
       "14450    0\n",
       "34117    0\n",
       "Name: y, Length: 20000, dtype: int64"
      ]
     },
     "execution_count": 35,
     "metadata": {},
     "output_type": "execute_result"
    }
   ],
   "source": [
    "y"
   ]
  },
  {
   "cell_type": "code",
   "execution_count": 36,
   "metadata": {},
   "outputs": [],
   "source": [
    "x = fdf.drop('y', axis=1)\n",
    "#x"
   ]
  },
  {
   "cell_type": "code",
   "execution_count": 37,
   "metadata": {},
   "outputs": [
    {
     "data": {
      "text/html": [
       "<div>\n",
       "<style scoped>\n",
       "    .dataframe tbody tr th:only-of-type {\n",
       "        vertical-align: middle;\n",
       "    }\n",
       "\n",
       "    .dataframe tbody tr th {\n",
       "        vertical-align: top;\n",
       "    }\n",
       "\n",
       "    .dataframe thead th {\n",
       "        text-align: right;\n",
       "    }\n",
       "</style>\n",
       "<table border=\"1\" class=\"dataframe\">\n",
       "  <thead>\n",
       "    <tr style=\"text-align: right;\">\n",
       "      <th></th>\n",
       "      <th>admin.</th>\n",
       "      <th>blue-collar</th>\n",
       "      <th>entrepreneur</th>\n",
       "      <th>housemaid</th>\n",
       "      <th>management</th>\n",
       "      <th>retired</th>\n",
       "      <th>self-employed</th>\n",
       "      <th>services</th>\n",
       "      <th>student</th>\n",
       "      <th>technician</th>\n",
       "      <th>...</th>\n",
       "      <th>nonexistent</th>\n",
       "      <th>success</th>\n",
       "      <th>age</th>\n",
       "      <th>default</th>\n",
       "      <th>housing</th>\n",
       "      <th>loan</th>\n",
       "      <th>duration</th>\n",
       "      <th>campaign</th>\n",
       "      <th>pdays</th>\n",
       "      <th>previous</th>\n",
       "    </tr>\n",
       "  </thead>\n",
       "  <tbody>\n",
       "    <tr>\n",
       "      <th>34109</th>\n",
       "      <td>0</td>\n",
       "      <td>0</td>\n",
       "      <td>1</td>\n",
       "      <td>0</td>\n",
       "      <td>0</td>\n",
       "      <td>0</td>\n",
       "      <td>0</td>\n",
       "      <td>0</td>\n",
       "      <td>0</td>\n",
       "      <td>0</td>\n",
       "      <td>...</td>\n",
       "      <td>0</td>\n",
       "      <td>0</td>\n",
       "      <td>31.0</td>\n",
       "      <td>0</td>\n",
       "      <td>1</td>\n",
       "      <td>0</td>\n",
       "      <td>318.0</td>\n",
       "      <td>3.0</td>\n",
       "      <td>999.0</td>\n",
       "      <td>1.0</td>\n",
       "    </tr>\n",
       "    <tr>\n",
       "      <th>36032</th>\n",
       "      <td>1</td>\n",
       "      <td>0</td>\n",
       "      <td>0</td>\n",
       "      <td>0</td>\n",
       "      <td>0</td>\n",
       "      <td>0</td>\n",
       "      <td>0</td>\n",
       "      <td>0</td>\n",
       "      <td>0</td>\n",
       "      <td>0</td>\n",
       "      <td>...</td>\n",
       "      <td>1</td>\n",
       "      <td>0</td>\n",
       "      <td>45.0</td>\n",
       "      <td>0</td>\n",
       "      <td>1</td>\n",
       "      <td>0</td>\n",
       "      <td>104.0</td>\n",
       "      <td>1.0</td>\n",
       "      <td>999.0</td>\n",
       "      <td>0.0</td>\n",
       "    </tr>\n",
       "    <tr>\n",
       "      <th>35938</th>\n",
       "      <td>1</td>\n",
       "      <td>0</td>\n",
       "      <td>0</td>\n",
       "      <td>0</td>\n",
       "      <td>0</td>\n",
       "      <td>0</td>\n",
       "      <td>0</td>\n",
       "      <td>0</td>\n",
       "      <td>0</td>\n",
       "      <td>0</td>\n",
       "      <td>...</td>\n",
       "      <td>1</td>\n",
       "      <td>0</td>\n",
       "      <td>54.0</td>\n",
       "      <td>0</td>\n",
       "      <td>1</td>\n",
       "      <td>0</td>\n",
       "      <td>485.0</td>\n",
       "      <td>1.0</td>\n",
       "      <td>999.0</td>\n",
       "      <td>0.0</td>\n",
       "    </tr>\n",
       "    <tr>\n",
       "      <th>22328</th>\n",
       "      <td>0</td>\n",
       "      <td>0</td>\n",
       "      <td>0</td>\n",
       "      <td>0</td>\n",
       "      <td>0</td>\n",
       "      <td>0</td>\n",
       "      <td>0</td>\n",
       "      <td>0</td>\n",
       "      <td>0</td>\n",
       "      <td>1</td>\n",
       "      <td>...</td>\n",
       "      <td>1</td>\n",
       "      <td>0</td>\n",
       "      <td>31.0</td>\n",
       "      <td>0</td>\n",
       "      <td>1</td>\n",
       "      <td>0</td>\n",
       "      <td>104.0</td>\n",
       "      <td>3.0</td>\n",
       "      <td>999.0</td>\n",
       "      <td>0.0</td>\n",
       "    </tr>\n",
       "    <tr>\n",
       "      <th>13912</th>\n",
       "      <td>1</td>\n",
       "      <td>0</td>\n",
       "      <td>0</td>\n",
       "      <td>0</td>\n",
       "      <td>0</td>\n",
       "      <td>0</td>\n",
       "      <td>0</td>\n",
       "      <td>0</td>\n",
       "      <td>0</td>\n",
       "      <td>0</td>\n",
       "      <td>...</td>\n",
       "      <td>1</td>\n",
       "      <td>0</td>\n",
       "      <td>31.0</td>\n",
       "      <td>0</td>\n",
       "      <td>0</td>\n",
       "      <td>0</td>\n",
       "      <td>87.0</td>\n",
       "      <td>2.0</td>\n",
       "      <td>999.0</td>\n",
       "      <td>0.0</td>\n",
       "    </tr>\n",
       "    <tr>\n",
       "      <th>...</th>\n",
       "      <td>...</td>\n",
       "      <td>...</td>\n",
       "      <td>...</td>\n",
       "      <td>...</td>\n",
       "      <td>...</td>\n",
       "      <td>...</td>\n",
       "      <td>...</td>\n",
       "      <td>...</td>\n",
       "      <td>...</td>\n",
       "      <td>...</td>\n",
       "      <td>...</td>\n",
       "      <td>...</td>\n",
       "      <td>...</td>\n",
       "      <td>...</td>\n",
       "      <td>...</td>\n",
       "      <td>...</td>\n",
       "      <td>...</td>\n",
       "      <td>...</td>\n",
       "      <td>...</td>\n",
       "      <td>...</td>\n",
       "      <td>...</td>\n",
       "    </tr>\n",
       "    <tr>\n",
       "      <th>28438</th>\n",
       "      <td>0</td>\n",
       "      <td>0</td>\n",
       "      <td>0</td>\n",
       "      <td>0</td>\n",
       "      <td>0</td>\n",
       "      <td>0</td>\n",
       "      <td>0</td>\n",
       "      <td>1</td>\n",
       "      <td>0</td>\n",
       "      <td>0</td>\n",
       "      <td>...</td>\n",
       "      <td>0</td>\n",
       "      <td>0</td>\n",
       "      <td>57.0</td>\n",
       "      <td>0</td>\n",
       "      <td>1</td>\n",
       "      <td>0</td>\n",
       "      <td>275.0</td>\n",
       "      <td>2.0</td>\n",
       "      <td>999.0</td>\n",
       "      <td>1.0</td>\n",
       "    </tr>\n",
       "    <tr>\n",
       "      <th>34386</th>\n",
       "      <td>0</td>\n",
       "      <td>0</td>\n",
       "      <td>1</td>\n",
       "      <td>0</td>\n",
       "      <td>0</td>\n",
       "      <td>0</td>\n",
       "      <td>0</td>\n",
       "      <td>0</td>\n",
       "      <td>0</td>\n",
       "      <td>0</td>\n",
       "      <td>...</td>\n",
       "      <td>1</td>\n",
       "      <td>0</td>\n",
       "      <td>47.0</td>\n",
       "      <td>0</td>\n",
       "      <td>0</td>\n",
       "      <td>0</td>\n",
       "      <td>8.0</td>\n",
       "      <td>7.0</td>\n",
       "      <td>999.0</td>\n",
       "      <td>0.0</td>\n",
       "    </tr>\n",
       "    <tr>\n",
       "      <th>27806</th>\n",
       "      <td>0</td>\n",
       "      <td>0</td>\n",
       "      <td>0</td>\n",
       "      <td>0</td>\n",
       "      <td>0</td>\n",
       "      <td>0</td>\n",
       "      <td>1</td>\n",
       "      <td>0</td>\n",
       "      <td>0</td>\n",
       "      <td>0</td>\n",
       "      <td>...</td>\n",
       "      <td>1</td>\n",
       "      <td>0</td>\n",
       "      <td>29.0</td>\n",
       "      <td>0</td>\n",
       "      <td>0</td>\n",
       "      <td>0</td>\n",
       "      <td>101.0</td>\n",
       "      <td>1.0</td>\n",
       "      <td>999.0</td>\n",
       "      <td>0.0</td>\n",
       "    </tr>\n",
       "    <tr>\n",
       "      <th>14450</th>\n",
       "      <td>0</td>\n",
       "      <td>0</td>\n",
       "      <td>0</td>\n",
       "      <td>1</td>\n",
       "      <td>0</td>\n",
       "      <td>0</td>\n",
       "      <td>0</td>\n",
       "      <td>0</td>\n",
       "      <td>0</td>\n",
       "      <td>0</td>\n",
       "      <td>...</td>\n",
       "      <td>1</td>\n",
       "      <td>0</td>\n",
       "      <td>31.0</td>\n",
       "      <td>0</td>\n",
       "      <td>0</td>\n",
       "      <td>0</td>\n",
       "      <td>56.0</td>\n",
       "      <td>4.0</td>\n",
       "      <td>999.0</td>\n",
       "      <td>0.0</td>\n",
       "    </tr>\n",
       "    <tr>\n",
       "      <th>34117</th>\n",
       "      <td>0</td>\n",
       "      <td>1</td>\n",
       "      <td>0</td>\n",
       "      <td>0</td>\n",
       "      <td>0</td>\n",
       "      <td>0</td>\n",
       "      <td>0</td>\n",
       "      <td>0</td>\n",
       "      <td>0</td>\n",
       "      <td>0</td>\n",
       "      <td>...</td>\n",
       "      <td>0</td>\n",
       "      <td>0</td>\n",
       "      <td>29.0</td>\n",
       "      <td>0</td>\n",
       "      <td>1</td>\n",
       "      <td>1</td>\n",
       "      <td>444.0</td>\n",
       "      <td>2.0</td>\n",
       "      <td>999.0</td>\n",
       "      <td>1.0</td>\n",
       "    </tr>\n",
       "  </tbody>\n",
       "</table>\n",
       "<p>20000 rows × 49 columns</p>\n",
       "</div>"
      ],
      "text/plain": [
       "       admin.  blue-collar  entrepreneur  housemaid  management  retired  \\\n",
       "34109       0            0             1          0           0        0   \n",
       "36032       1            0             0          0           0        0   \n",
       "35938       1            0             0          0           0        0   \n",
       "22328       0            0             0          0           0        0   \n",
       "13912       1            0             0          0           0        0   \n",
       "...       ...          ...           ...        ...         ...      ...   \n",
       "28438       0            0             0          0           0        0   \n",
       "34386       0            0             1          0           0        0   \n",
       "27806       0            0             0          0           0        0   \n",
       "14450       0            0             0          1           0        0   \n",
       "34117       0            1             0          0           0        0   \n",
       "\n",
       "       self-employed  services  student  technician  ...  nonexistent  \\\n",
       "34109              0         0        0           0  ...            0   \n",
       "36032              0         0        0           0  ...            1   \n",
       "35938              0         0        0           0  ...            1   \n",
       "22328              0         0        0           1  ...            1   \n",
       "13912              0         0        0           0  ...            1   \n",
       "...              ...       ...      ...         ...  ...          ...   \n",
       "28438              0         1        0           0  ...            0   \n",
       "34386              0         0        0           0  ...            1   \n",
       "27806              1         0        0           0  ...            1   \n",
       "14450              0         0        0           0  ...            1   \n",
       "34117              0         0        0           0  ...            0   \n",
       "\n",
       "       success   age  default  housing  loan  duration  campaign  pdays  \\\n",
       "34109        0  31.0        0        1     0     318.0       3.0  999.0   \n",
       "36032        0  45.0        0        1     0     104.0       1.0  999.0   \n",
       "35938        0  54.0        0        1     0     485.0       1.0  999.0   \n",
       "22328        0  31.0        0        1     0     104.0       3.0  999.0   \n",
       "13912        0  31.0        0        0     0      87.0       2.0  999.0   \n",
       "...        ...   ...      ...      ...   ...       ...       ...    ...   \n",
       "28438        0  57.0        0        1     0     275.0       2.0  999.0   \n",
       "34386        0  47.0        0        0     0       8.0       7.0  999.0   \n",
       "27806        0  29.0        0        0     0     101.0       1.0  999.0   \n",
       "14450        0  31.0        0        0     0      56.0       4.0  999.0   \n",
       "34117        0  29.0        0        1     1     444.0       2.0  999.0   \n",
       "\n",
       "       previous  \n",
       "34109       1.0  \n",
       "36032       0.0  \n",
       "35938       0.0  \n",
       "22328       0.0  \n",
       "13912       0.0  \n",
       "...         ...  \n",
       "28438       1.0  \n",
       "34386       0.0  \n",
       "27806       0.0  \n",
       "14450       0.0  \n",
       "34117       1.0  \n",
       "\n",
       "[20000 rows x 49 columns]"
      ]
     },
     "execution_count": 37,
     "metadata": {},
     "output_type": "execute_result"
    }
   ],
   "source": [
    "x"
   ]
  },
  {
   "cell_type": "markdown",
   "metadata": {},
   "source": [
    ">The dependent variables and the target variable columns have been separated into two datasets. When the data is split into train/test sets, observations will be randomly selected for each, therefore ensuring the train/test datasets accurately represent the original dataset."
   ]
  },
  {
   "cell_type": "markdown",
   "metadata": {},
   "source": [
    "## Spliting the data into train and test part"
   ]
  },
  {
   "cell_type": "code",
   "execution_count": 38,
   "metadata": {},
   "outputs": [],
   "source": [
    "from sklearn.preprocessing import MinMaxScaler\n",
    "from sklearn.model_selection import train_test_split\n",
    "from sklearn import preprocessing\n",
    "\n",
    "x_train, x_test, y_train, y_test = train_test_split(\n",
    "    x, y, random_state = 0)\n",
    "\n",
    "scaler = preprocessing.MinMaxScaler()\n",
    "x_train = scaler.fit_transform(x_train)\n",
    "x_test = scaler.transform(x_test)"
   ]
  },
  {
   "cell_type": "markdown",
   "metadata": {},
   "source": [
    ">Data has now been preprocessed and is ready for ML Classification Algorithms."
   ]
  },
  {
   "cell_type": "code",
   "execution_count": 39,
   "metadata": {},
   "outputs": [],
   "source": [
    "from sklearn.metrics import confusion_matrix, plot_confusion_matrix\n",
    "from sklearn.metrics import accuracy_score \n",
    "from sklearn.neighbors import KNeighborsClassifier\n",
    "from sklearn.model_selection import GridSearchCV\n",
    "from sklearn.preprocessing import MinMaxScaler\n",
    "from sklearn.model_selection import train_test_split\n",
    "from sklearn import preprocessing\n",
    "from sklearn.linear_model import LogisticRegression\n",
    "from sklearn.svm import LinearSVC\n",
    "from sklearn.svm import SVC\n",
    "from sklearn.tree import DecisionTreeClassifier\n"
   ]
  },
  {
   "cell_type": "markdown",
   "metadata": {},
   "source": [
    "* Firstly we will use Voting Classififier algorithms"
   ]
  },
  {
   "cell_type": "markdown",
   "metadata": {},
   "source": [
    "# Voting classifiers (hard)"
   ]
  },
  {
   "cell_type": "code",
   "execution_count": 40,
   "metadata": {},
   "outputs": [
    {
     "data": {
      "text/plain": [
       "DecisionTreeClassifier(random_state=0)"
      ]
     },
     "execution_count": 40,
     "metadata": {},
     "output_type": "execute_result"
    }
   ],
   "source": [
    "from sklearn.ensemble import VotingClassifier\n",
    "\n",
    "knn_clf = KNeighborsClassifier()\n",
    "knn_clf.fit(x_train,y_train)\n",
    "\n",
    "log_clf = LogisticRegression(solver='liblinear', random_state=0)\n",
    "log_clf.fit(x_train,y_train)\n",
    "\n",
    "linsvc = LinearSVC(random_state=0)\n",
    "linsvc.fit(x_train,y_train)\n",
    "\n",
    "svcr = SVC(kernel='rbf', random_state=0)\n",
    "svcr.fit(x_train,y_train)\n",
    "\n",
    "svcp = SVC(kernel='poly', random_state=0)\n",
    "svcp.fit(x_train,y_train)\n",
    "\n",
    "lsvc = SVC(kernel='linear', random_state=0)\n",
    "lsvc.fit(x_train,y_train)\n",
    "\n",
    "tree = DecisionTreeClassifier(random_state=0)\n",
    "tree.fit(x_train,y_train)"
   ]
  },
  {
   "cell_type": "markdown",
   "metadata": {},
   "source": [
    "## ROC_AUC score of hard votingclassifier compared to individual model"
   ]
  },
  {
   "cell_type": "code",
   "execution_count": 41,
   "metadata": {},
   "outputs": [
    {
     "name": "stdout",
     "output_type": "stream",
     "text": [
      "LogisticRegression 0.6229041668785275\n",
      "LinearSVC 0.6131304977881731\n",
      "KNeighborsClassifier 0.5715316265826003\n",
      "SVC 0.5791602049117811\n",
      "SVC 0.5754579371536075\n",
      "SVC 0.5807173819087812\n",
      "DecisionTreeClassifier 0.6713752733004525\n",
      "VotingClassifier 0.5826130065592109\n"
     ]
    }
   ],
   "source": [
    "voting_clf = VotingClassifier(estimators=[('log_clf', log_clf),('linsvc',linsvc),\n",
    "                               ('knn_clf', knn_clf),('lsvc_clf',lsvc),('svcr', svcr),('svcp',svcp), ('tree',tree)],voting='hard')\n",
    "voting_clf.fit(x_train, y_train)\n",
    "voting_clf.fit(x_train, y_train)\n",
    "algo=[]\n",
    "score=[]\n",
    "\n",
    "from sklearn.metrics import accuracy_score\n",
    "for clf in (log_clf,linsvc, knn_clf, lsvc,svcr, svcp,tree,voting_clf):\n",
    "    clf.fit(x_train, y_train)\n",
    "    y_pred = clf.predict(x_test)\n",
    "    print((clf.__class__.__name__), roc_auc_score(y_test, y_pred))\n",
    "    algo.append(clf)\n",
    "    score.append(roc_auc_score(y_test, y_pred))  \n",
    "    "
   ]
  },
  {
   "cell_type": "code",
   "execution_count": 42,
   "metadata": {},
   "outputs": [
    {
     "data": {
      "image/png": "[encoded data removed]",
      "text/plain": [
       "<Figure size 432x288 with 1 Axes>"
      ]
     },
     "metadata": {
      "needs_background": "light"
     },
     "output_type": "display_data"
    }
   ],
   "source": [
    "algo=['log_clf','linsvc', 'knn_clf', 'lsvc', 'svcr', 'svcp','tree','voting_clf']\n",
    "import matplotlib.pyplot as plt\n",
    "fig = plt.figure()\n",
    "ax = fig.add_axes([0,0,1,1])\n",
    "ax.bar(algo,score)\n",
    "plt.show()"
   ]
  },
  {
   "cell_type": "markdown",
   "metadata": {},
   "source": [
    "## Soft voting classifiers  \n"
   ]
  },
  {
   "cell_type": "code",
   "execution_count": 43,
   "metadata": {},
   "outputs": [
    {
     "data": {
      "text/plain": [
       "DecisionTreeClassifier(random_state=0)"
      ]
     },
     "execution_count": 43,
     "metadata": {},
     "output_type": "execute_result"
    }
   ],
   "source": [
    "from sklearn.ensemble import VotingClassifier\n",
    "\n",
    "knn_clf = KNeighborsClassifier()\n",
    "knn_clf.fit(x_train,y_train)\n",
    "\n",
    "log_clf = LogisticRegression(solver='liblinear', random_state=0)\n",
    "log_clf.fit(x_train,y_train)\n",
    "\n",
    "lsvc = LinearSVC(random_state=0)\n",
    "lsvc.fit(x_train,y_train)\n",
    "\n",
    "svcr = SVC(probability=True,kernel='rbf', random_state=0)\n",
    "svcr.fit(x_train,y_train)\n",
    "\n",
    "svcp = SVC(probability=True,kernel='poly')\n",
    "svcp.fit(x_train,y_train)\n",
    "\n",
    "lsvc = SVC(probability=True,kernel='linear', random_state=0)\n",
    "lsvc.fit(x_train,y_train)\n",
    "\n",
    "tree = DecisionTreeClassifier(random_state=0)\n",
    "tree.fit(x_train,y_train)\n"
   ]
  },
  {
   "cell_type": "markdown",
   "metadata": {},
   "source": [
    "## ROC AUC socre of soft votingclassifier compared to individual model"
   ]
  },
  {
   "cell_type": "code",
   "execution_count": 44,
   "metadata": {},
   "outputs": [
    {
     "name": "stdout",
     "output_type": "stream",
     "text": [
      "LogisticRegression 0.6229041668785275\n",
      "KNeighborsClassifier 0.5715316265826003\n",
      "SVC 0.5791602049117811\n",
      "SVC 0.5754579371536075\n",
      "SVC 0.5807173819087812\n",
      "DecisionTreeClassifier 0.6713752733004525\n",
      "VotingClassifier 0.5844863858239692\n"
     ]
    }
   ],
   "source": [
    "\n",
    "voting_clf = VotingClassifier(estimators=[('log_clf', log_clf), ('knn_clf', knn_clf),('lsvc',lsvc),('svcr', svcr),('svcp',svcp),\n",
    "                                          ('tree',tree)], voting='soft')\n",
    "voting_clf.fit(x_train, y_train)\n",
    "\n",
    "score1=[]\n",
    "from sklearn.metrics import accuracy_score\n",
    "for clf in (log_clf, knn_clf, lsvc,svcr, svcp,tree,voting_clf):\n",
    "    clf.fit(x_train, y_train)\n",
    "    y_pred = clf.predict(x_test)\n",
    "    print(clf.__class__.__name__, roc_auc_score(y_test, y_pred))\n",
    "    score1.append(roc_auc_score(y_test, y_pred))\n",
    "\n",
    "\n"
   ]
  },
  {
   "cell_type": "code",
   "execution_count": 45,
   "metadata": {},
   "outputs": [
    {
     "data": {
      "image/png": "[encoded data removed]",
      "text/plain": [
       "<Figure size 432x288 with 1 Axes>"
      ]
     },
     "metadata": {
      "needs_background": "light"
     },
     "output_type": "display_data"
    }
   ],
   "source": [
    "algo=['log_clf','linsvc', 'knn_clf', 'lsvc,svcr', 'svcp','tree','voting_clf']\n",
    "import matplotlib.pyplot as plt\n",
    "fig = plt.figure()\n",
    "ax = fig.add_axes([0,0,1,1])\n",
    "ax.bar(algo,score1)\n",
    "plt.show()"
   ]
  },
  {
   "cell_type": "markdown",
   "metadata": {},
   "source": [
    "* From the bar diagram, we can see that individual decision tree have high ROC AUC score than soft voting classifier"
   ]
  },
  {
   "cell_type": "markdown",
   "metadata": {},
   "source": [
    "## Bagging classifier on LinearSVC"
   ]
  },
  {
   "cell_type": "code",
   "execution_count": 46,
   "metadata": {},
   "outputs": [
    {
     "data": {
      "text/plain": [
       "0.8932044205286271"
      ]
     },
     "execution_count": 46,
     "metadata": {},
     "output_type": "execute_result"
    }
   ],
   "source": [
    "from sklearn.ensemble import BaggingClassifier\n",
    "\n",
    "lsvc = LinearSVC(random_state=0)\n",
    "lsvc.fit(x_train,y_train)\n",
    "\n",
    "\n",
    "bag_clf = BaggingClassifier(lsvc, random_state=0,n_jobs=-1)\n",
    "\n",
    "\n",
    "param_grid = {'max_samples': [0.01,0.05,0.1,0.5,1],\n",
    "\n",
    "              'max_features': [0.01,0.05,0.1,0.5,1]}\n",
    "\n",
    "from sklearn.model_selection import GridSearchCV\n",
    "grid_search = GridSearchCV(bag_clf, param_grid, cv=5,scoring = 'roc_auc')\n",
    "\n",
    "grid_search.fit(x_train,y_train)\n",
    "\n",
    "BaggingLinearSVC=grid_search.best_score_\n",
    "BaggingLinearSVC"
   ]
  },
  {
   "cell_type": "markdown",
   "metadata": {},
   "source": [
    "## Bagging classifier on DecisionTreeClassifier"
   ]
  },
  {
   "cell_type": "code",
   "execution_count": 47,
   "metadata": {},
   "outputs": [
    {
     "data": {
      "text/plain": [
       "0.8364451869791175"
      ]
     },
     "execution_count": 47,
     "metadata": {},
     "output_type": "execute_result"
    }
   ],
   "source": [
    "from sklearn.model_selection import GridSearchCV\n",
    "from sklearn.ensemble import BaggingClassifier\n",
    "\n",
    "# next euta model, 2nd perform garne choose garera\n",
    "\n",
    "tree = DecisionTreeClassifier(random_state=0)\n",
    "tree.fit(x_train,y_train)\n",
    "\n",
    "bag_clf = BaggingClassifier(tree, random_state=0, n_jobs=-1)\n",
    "\n",
    "param_grid = {'max_samples': [0.01,0.05,0.1,0.5,1],\n",
    "\n",
    "              'max_features': [0.01,0.05,0.1,0.5,1]}\n",
    "\n",
    "grid_search = GridSearchCV(bag_clf, param_grid, cv=5,scoring = 'roc_auc')\n",
    "grid_search.fit(x_train,y_train)\n",
    "BaggingDecisionTreeClassifier=grid_search.best_score_\n",
    "BaggingDecisionTreeClassifier"
   ]
  },
  {
   "cell_type": "markdown",
   "metadata": {},
   "source": [
    "## Pasting  on LinearSVC"
   ]
  },
  {
   "cell_type": "code",
   "execution_count": 48,
   "metadata": {},
   "outputs": [
    {
     "data": {
      "text/plain": [
       "0.8920957589781912"
      ]
     },
     "execution_count": 48,
     "metadata": {},
     "output_type": "execute_result"
    }
   ],
   "source": [
    "from sklearn.ensemble import BaggingClassifier\n",
    "\n",
    "lsvc = LinearSVC(random_state=0)\n",
    "lsvc.fit(x_train,y_train)\n",
    "\n",
    "\n",
    "bag_clf = BaggingClassifier(lsvc, random_state=0,bootstrap=False, n_jobs=-1)\n",
    "\n",
    "\n",
    "param_grid = {'max_samples': [0.01,0.05,0.1,0.5,1],\n",
    "\n",
    "              'max_features': [0.01,0.05,0.1,0.5,1]}\n",
    "\n",
    "from sklearn.model_selection import GridSearchCV\n",
    "grid_search = GridSearchCV(bag_clf, param_grid, cv=5,scoring = 'roc_auc')\n",
    "\n",
    "grid_search.fit(x_train,y_train)\n",
    "PastingLinearSVC=grid_search.best_score_\n",
    "PastingLinearSVC"
   ]
  },
  {
   "cell_type": "markdown",
   "metadata": {},
   "source": [
    "## Pasting  on DecisionTreeClassifier"
   ]
  },
  {
   "cell_type": "code",
   "execution_count": 49,
   "metadata": {},
   "outputs": [
    {
     "data": {
      "text/plain": [
       "0.8447524278413123"
      ]
     },
     "execution_count": 49,
     "metadata": {},
     "output_type": "execute_result"
    }
   ],
   "source": [
    "from sklearn.model_selection import GridSearchCV\n",
    "\n",
    "from sklearn.ensemble import BaggingClassifier\n",
    "\n",
    "tree = DecisionTreeClassifier(random_state=0)\n",
    "tree.fit(x_train,y_train)\n",
    "\n",
    "\n",
    "bag_clf = BaggingClassifier(tree, random_state=0, n_jobs=-1,bootstrap=False,)\n",
    "\n",
    "\n",
    "param_grid = {'max_samples': [0.01,0.05,0.1,0.5,1],\n",
    "\n",
    "              'max_features': [0.01,0.05,0.1,0.5,1]}\n",
    "\n",
    "grid_search = GridSearchCV(bag_clf, param_grid, cv=5,scoring = 'roc_auc')\n",
    "\n",
    "grid_search.fit(x_train,y_train)\n",
    "PastingDecisionTreeClassifier=grid_search.best_score_\n",
    "PastingDecisionTreeClassifier"
   ]
  },
  {
   "cell_type": "markdown",
   "metadata": {},
   "source": [
    "## Adaboast on DecisionTreeClassifier"
   ]
  },
  {
   "cell_type": "code",
   "execution_count": 50,
   "metadata": {},
   "outputs": [
    {
     "data": {
      "text/plain": [
       "(1.0, 0.6729102049117811)"
      ]
     },
     "execution_count": 50,
     "metadata": {},
     "output_type": "execute_result"
    }
   ],
   "source": [
    "# adaboast in decision tree\n",
    "\n",
    "from sklearn.ensemble import AdaBoostClassifier\n",
    "from sklearn import metrics\n",
    "from sklearn.metrics import accuracy_score, confusion_matrix, recall_score, roc_auc_score, precision_score\n",
    "\n",
    "\n",
    "ada_clf = AdaBoostClassifier(DecisionTreeClassifier(random_state=0), n_estimators=200, algorithm=\"SAMME.R\", learning_rate=0.5, random_state=0)\n",
    "ada_clf.fit(x_train, y_train)\n",
    "AdaboastDecisionTreeClassifier=roc_auc_score(y_train, ada_clf.predict(x_train))\n",
    "roc_auc_score(y_train, ada_clf.predict(x_train)),roc_auc_score(y_test, ada_clf.predict(x_test))\n"
   ]
  },
  {
   "cell_type": "markdown",
   "metadata": {},
   "source": [
    "## Adaboast on linear SVC"
   ]
  },
  {
   "cell_type": "code",
   "execution_count": 51,
   "metadata": {},
   "outputs": [
    {
     "data": {
      "text/plain": [
       "(0.6256677743034212, 0.6252971347943256)"
      ]
     },
     "execution_count": 51,
     "metadata": {},
     "output_type": "execute_result"
    }
   ],
   "source": [
    "from sklearn.ensemble import AdaBoostClassifier\n",
    "\n",
    "ada_clf = AdaBoostClassifier(LinearSVC(random_state=0), n_estimators=200, algorithm=\"SAMME\", learning_rate=0.5, random_state=0)\n",
    "ada_clf.fit(x_train, y_train)\n",
    "\n",
    "AdaboastlinearSVC=roc_auc_score(y_train, ada_clf.predict(x_train))\n",
    "roc_auc_score(y_train, ada_clf.predict(x_train)),roc_auc_score(y_test, ada_clf.predict(x_test))"
   ]
  },
  {
   "cell_type": "markdown",
   "metadata": {},
   "source": [
    "# Gradient Bosting"
   ]
  },
  {
   "cell_type": "code",
   "execution_count": 52,
   "metadata": {},
   "outputs": [
    {
     "data": {
      "text/plain": [
       "(0.6933482969643003, 0.6593579981695226)"
      ]
     },
     "execution_count": 52,
     "metadata": {},
     "output_type": "execute_result"
    }
   ],
   "source": [
    "from sklearn.ensemble import GradientBoostingClassifier\n",
    "gbrt = GradientBoostingClassifier(random_state=0)\n",
    "gbrt.fit(x_train, y_train)\n",
    "\n",
    "Gradient_Bosting=roc_auc_score(y_train, gbrt.predict(x_train))\n",
    "roc_auc_score(y_train, gbrt.predict(x_train)),roc_auc_score(y_test, gbrt.predict(x_test))"
   ]
  },
  {
   "cell_type": "code",
   "execution_count": 53,
   "metadata": {},
   "outputs": [
    {
     "data": {
      "text/plain": [
       "([<matplotlib.axis.YTick at 0x7fed6070a1f0>,\n",
       "  <matplotlib.axis.YTick at 0x7fed45ac9430>,\n",
       "  <matplotlib.axis.YTick at 0x7fed45d9ff10>,\n",
       "  <matplotlib.axis.YTick at 0x7fed4591db20>,\n",
       "  <matplotlib.axis.YTick at 0x7fed45925070>,\n",
       "  <matplotlib.axis.YTick at 0x7fed45925580>,\n",
       "  <matplotlib.axis.YTick at 0x7fed46ace850>,\n",
       "  <matplotlib.axis.YTick at 0x7fed45925a90>,\n",
       "  <matplotlib.axis.YTick at 0x7fed45925fa0>,\n",
       "  <matplotlib.axis.YTick at 0x7fed459284f0>,\n",
       "  <matplotlib.axis.YTick at 0x7fed45928a00>,\n",
       "  <matplotlib.axis.YTick at 0x7fed45928f10>,\n",
       "  <matplotlib.axis.YTick at 0x7fed4592e460>,\n",
       "  <matplotlib.axis.YTick at 0x7fed4592e970>,\n",
       "  <matplotlib.axis.YTick at 0x7fed4592ee80>,\n",
       "  <matplotlib.axis.YTick at 0x7fed459323d0>,\n",
       "  <matplotlib.axis.YTick at 0x7fed4592e160>,\n",
       "  <matplotlib.axis.YTick at 0x7fed459281f0>,\n",
       "  <matplotlib.axis.YTick at 0x7fed45932490>,\n",
       "  <matplotlib.axis.YTick at 0x7fed459328e0>,\n",
       "  <matplotlib.axis.YTick at 0x7fed45932df0>,\n",
       "  <matplotlib.axis.YTick at 0x7fed45938340>,\n",
       "  <matplotlib.axis.YTick at 0x7fed45938880>,\n",
       "  <matplotlib.axis.YTick at 0x7fed45938d90>,\n",
       "  <matplotlib.axis.YTick at 0x7fed46c1f2e0>,\n",
       "  <matplotlib.axis.YTick at 0x7fed45938af0>,\n",
       "  <matplotlib.axis.YTick at 0x7fed45932b50>,\n",
       "  <matplotlib.axis.YTick at 0x7fed45928be0>,\n",
       "  <matplotlib.axis.YTick at 0x7fed46c1f8b0>,\n",
       "  <matplotlib.axis.YTick at 0x7fed46c1fdc0>,\n",
       "  <matplotlib.axis.YTick at 0x7fed46c26340>,\n",
       "  <matplotlib.axis.YTick at 0x7fed46c26850>,\n",
       "  <matplotlib.axis.YTick at 0x7fed46c26d60>,\n",
       "  <matplotlib.axis.YTick at 0x7fed46c2b2b0>,\n",
       "  <matplotlib.axis.YTick at 0x7fed46c2b7c0>,\n",
       "  <matplotlib.axis.YTick at 0x7fed46c26a30>,\n",
       "  <matplotlib.axis.YTick at 0x7fed46c1fa90>,\n",
       "  <matplotlib.axis.YTick at 0x7fed459383d0>,\n",
       "  <matplotlib.axis.YTick at 0x7fed46c2bcd0>,\n",
       "  <matplotlib.axis.YTick at 0x7fed46c32220>,\n",
       "  <matplotlib.axis.YTick at 0x7fed46c32730>,\n",
       "  <matplotlib.axis.YTick at 0x7fed46c32c40>,\n",
       "  <matplotlib.axis.YTick at 0x7fed46c38190>,\n",
       "  <matplotlib.axis.YTick at 0x7fed46c386a0>,\n",
       "  <matplotlib.axis.YTick at 0x7fed46c38bb0>,\n",
       "  <matplotlib.axis.YTick at 0x7fed46c32370>,\n",
       "  <matplotlib.axis.YTick at 0x7fed46c1f9d0>,\n",
       "  <matplotlib.axis.YTick at 0x7fed46c38790>,\n",
       "  <matplotlib.axis.YTick at 0x7fed46c3f160>],\n",
       " [Text(0, 0, 'admin.'),\n",
       "  Text(0, 0, 'blue-collar'),\n",
       "  Text(0, 0, 'entrepreneur'),\n",
       "  Text(0, 0, 'housemaid'),\n",
       "  Text(0, 0, 'management'),\n",
       "  Text(0, 0, 'retired'),\n",
       "  Text(0, 0, 'self-employed'),\n",
       "  Text(0, 0, 'services'),\n",
       "  Text(0, 0, 'student'),\n",
       "  Text(0, 0, 'technician'),\n",
       "  Text(0, 0, 'unemployed'),\n",
       "  Text(0, 0, 'divorced'),\n",
       "  Text(0, 0, 'married'),\n",
       "  Text(0, 0, 'single'),\n",
       "  Text(0, 0, 'basic.4y'),\n",
       "  Text(0, 0, 'basic.6y'),\n",
       "  Text(0, 0, 'basic.9y'),\n",
       "  Text(0, 0, 'high.school'),\n",
       "  Text(0, 0, 'illiterate'),\n",
       "  Text(0, 0, 'professional.course'),\n",
       "  Text(0, 0, 'university.degree'),\n",
       "  Text(0, 0, 'cellular'),\n",
       "  Text(0, 0, 'telephone'),\n",
       "  Text(0, 0, 'apr'),\n",
       "  Text(0, 0, 'aug'),\n",
       "  Text(0, 0, 'dec'),\n",
       "  Text(0, 0, 'jul'),\n",
       "  Text(0, 0, 'jun'),\n",
       "  Text(0, 0, 'mar'),\n",
       "  Text(0, 0, 'may'),\n",
       "  Text(0, 0, 'nov'),\n",
       "  Text(0, 0, 'oct'),\n",
       "  Text(0, 0, 'sep'),\n",
       "  Text(0, 0, 'fri'),\n",
       "  Text(0, 0, 'mon'),\n",
       "  Text(0, 0, 'thu'),\n",
       "  Text(0, 0, 'tue'),\n",
       "  Text(0, 0, 'wed'),\n",
       "  Text(0, 0, 'failure'),\n",
       "  Text(0, 0, 'nonexistent'),\n",
       "  Text(0, 0, 'success'),\n",
       "  Text(0, 0, 'age'),\n",
       "  Text(0, 0, 'default'),\n",
       "  Text(0, 0, 'housing'),\n",
       "  Text(0, 0, 'loan'),\n",
       "  Text(0, 0, 'duration'),\n",
       "  Text(0, 0, 'campaign'),\n",
       "  Text(0, 0, 'pdays'),\n",
       "  Text(0, 0, 'previous')])"
      ]
     },
     "execution_count": 53,
     "metadata": {},
     "output_type": "execute_result"
    },
    {
     "data": {
      "image/png": "[encoded data removed]",
      "text/plain": [
       "<Figure size 1440x720 with 1 Axes>"
      ]
     },
     "metadata": {
      "needs_background": "light"
     },
     "output_type": "display_data"
    }
   ],
   "source": [
    "%matplotlib inline\n",
    "\n",
    "plt.subplots(figsize = (20,10))\n",
    "y_list = gbrt.feature_importances_\n",
    "y_pos = np.arange(len(y_list))\n",
    "features = x.columns\n",
    "plt.barh(y_pos, y_list, align='center', alpha=0.4)\n",
    "plt.yticks(y_pos, features)"
   ]
  },
  {
   "cell_type": "markdown",
   "metadata": {},
   "source": [
    "* The results of above algorithms are presented in the table below"
   ]
  },
  {
   "cell_type": "code",
   "execution_count": 54,
   "metadata": {},
   "outputs": [
    {
     "data": {
      "text/html": [
       "<div>\n",
       "<style scoped>\n",
       "    .dataframe tbody tr th:only-of-type {\n",
       "        vertical-align: middle;\n",
       "    }\n",
       "\n",
       "    .dataframe tbody tr th {\n",
       "        vertical-align: top;\n",
       "    }\n",
       "\n",
       "    .dataframe thead th {\n",
       "        text-align: right;\n",
       "    }\n",
       "</style>\n",
       "<table border=\"1\" class=\"dataframe\">\n",
       "  <thead>\n",
       "    <tr style=\"text-align: right;\">\n",
       "      <th></th>\n",
       "      <th>Training_ROC_AUC</th>\n",
       "    </tr>\n",
       "  </thead>\n",
       "  <tbody>\n",
       "    <tr>\n",
       "      <th>BaggingLinearSVC</th>\n",
       "      <td>0.893204</td>\n",
       "    </tr>\n",
       "    <tr>\n",
       "      <th>BaggingDecisionTreeClassifier</th>\n",
       "      <td>0.836445</td>\n",
       "    </tr>\n",
       "    <tr>\n",
       "      <th>PastingLinearSVC</th>\n",
       "      <td>0.892096</td>\n",
       "    </tr>\n",
       "    <tr>\n",
       "      <th>PastingDecisionTreeClassifier</th>\n",
       "      <td>0.844752</td>\n",
       "    </tr>\n",
       "    <tr>\n",
       "      <th>AdaboastDecisionTreeClassifier</th>\n",
       "      <td>1.000000</td>\n",
       "    </tr>\n",
       "    <tr>\n",
       "      <th>AdaboastlinearSVC</th>\n",
       "      <td>0.625668</td>\n",
       "    </tr>\n",
       "    <tr>\n",
       "      <th>Gradient_Bosting</th>\n",
       "      <td>0.693348</td>\n",
       "    </tr>\n",
       "  </tbody>\n",
       "</table>\n",
       "</div>"
      ],
      "text/plain": [
       "                                Training_ROC_AUC\n",
       "BaggingLinearSVC                        0.893204\n",
       "BaggingDecisionTreeClassifier           0.836445\n",
       "PastingLinearSVC                        0.892096\n",
       "PastingDecisionTreeClassifier           0.844752\n",
       "AdaboastDecisionTreeClassifier          1.000000\n",
       "AdaboastlinearSVC                       0.625668\n",
       "Gradient_Bosting                        0.693348"
      ]
     },
     "execution_count": 54,
     "metadata": {},
     "output_type": "execute_result"
    }
   ],
   "source": [
    "a=['BaggingLinearSVC','BaggingDecisionTreeClassifier','PastingLinearSVC','PastingDecisionTreeClassifier','AdaboastDecisionTreeClassifier','AdaboastlinearSVC','Gradient_Bosting']\n",
    "b=(BaggingLinearSVC,BaggingDecisionTreeClassifier,PastingLinearSVC,PastingDecisionTreeClassifier,AdaboastDecisionTreeClassifier,AdaboastlinearSVC,Gradient_Bosting)\n",
    "ab=pd.DataFrame(b,a)\n",
    "ab.columns=['Training_ROC_AUC']\n",
    "ab"
   ]
  },
  {
   "cell_type": "markdown",
   "metadata": {},
   "source": [
    "* Although these models gave us really high ROC_AUC, but these models are overfiitted and perform really bad in test dataset"
   ]
  },
  {
   "cell_type": "markdown",
   "metadata": {},
   "source": [
    "# Reducing data with PCA"
   ]
  },
  {
   "cell_type": "code",
   "execution_count": 55,
   "metadata": {},
   "outputs": [],
   "source": [
    "x_train, x_test, y_train, y_test = train_test_split(x,y, random_state=0)"
   ]
  },
  {
   "cell_type": "code",
   "execution_count": 56,
   "metadata": {},
   "outputs": [],
   "source": [
    "from sklearn.decomposition import PCA\n",
    "from sklearn.preprocessing import MinMaxScaler\n",
    "pca = PCA(n_components=0.95)\n",
    "scaler=MinMaxScaler()\n",
    "\n",
    "x_train = scaler.fit_transform(x_train)\n",
    "x_test = scaler.transform(x_test)\n"
   ]
  },
  {
   "cell_type": "code",
   "execution_count": 57,
   "metadata": {},
   "outputs": [],
   "source": [
    "x_train = pca.fit_transform(x_train)\n",
    "x_test = pca.transform(x_test)\n"
   ]
  },
  {
   "cell_type": "markdown",
   "metadata": {},
   "source": [
    "## Classification Models:\n",
    "##### Models Used: \n",
    ">KNN classification, Logistic Regression, Linear Support Vector Machine (SVM), Kernelized Support Vector Machine (rbf, poly, and linear), and Decision Tree Classifier. <br> <br>\n",
    ">Intermediate models will be chosen based on maximizing the test scores."
   ]
  },
  {
   "cell_type": "markdown",
   "metadata": {},
   "source": [
    "* Now we will run all the individual classification model using reduced data from PCA"
   ]
  },
  {
   "cell_type": "markdown",
   "metadata": {},
   "source": [
    "### KNN Classification"
   ]
  },
  {
   "cell_type": "code",
   "execution_count": 58,
   "metadata": {},
   "outputs": [
    {
     "data": {
      "text/plain": [
       "GridSearchCV(cv=5, estimator=KNeighborsClassifier(), n_jobs=-1,\n",
       "             param_grid={'n_neighbors': [5, 10, 15, 20, 30, 40, 50]},\n",
       "             scoring='roc_auc')"
      ]
     },
     "execution_count": 58,
     "metadata": {},
     "output_type": "execute_result"
    }
   ],
   "source": [
    "from sklearn.metrics import confusion_matrix, plot_confusion_matrix\n",
    "from sklearn.metrics import accuracy_score \n",
    "from sklearn.neighbors import KNeighborsClassifier\n",
    "from sklearn.model_selection import GridSearchCV\n",
    "\n",
    "#best implementation\n",
    "knn = KNeighborsClassifier()\n",
    "param_grid = {'n_neighbors': [5, 10, 15, 20, 30, 40, 50]}\n",
    "knn_grid = GridSearchCV(knn, param_grid, cv = 5, n_jobs = -1, scoring = 'roc_auc')\n",
    "knn_grid.fit(x_train, y_train) #imbalance X_"
   ]
  },
  {
   "cell_type": "code",
   "execution_count": 59,
   "metadata": {},
   "outputs": [
    {
     "data": {
      "text/plain": [
       "{'n_neighbors': 50}"
      ]
     },
     "execution_count": 59,
     "metadata": {},
     "output_type": "execute_result"
    }
   ],
   "source": [
    "knn_grid.best_params_"
   ]
  },
  {
   "cell_type": "code",
   "execution_count": 60,
   "metadata": {},
   "outputs": [
    {
     "data": {
      "text/plain": [
       "[<matplotlib.lines.Line2D at 0x7fed4731b640>]"
      ]
     },
     "execution_count": 60,
     "metadata": {},
     "output_type": "execute_result"
    },
    {
     "data": {
      "image/png": "[encoded data removed]",
      "text/plain": [
       "<Figure size 432x288 with 1 Axes>"
      ]
     },
     "metadata": {
      "needs_background": "light"
     },
     "output_type": "display_data"
    }
   ],
   "source": [
    "a=knn_grid.cv_results_\n",
    "y=a['mean_test_score']\n",
    "x=[5, 10, 15, 20, 30, 40, 50]\n",
    "plt.plot(x,y)"
   ]
  },
  {
   "cell_type": "markdown",
   "metadata": {},
   "source": [
    "* From the figure as well, we can see the best param is when k=50"
   ]
  },
  {
   "cell_type": "code",
   "execution_count": 61,
   "metadata": {},
   "outputs": [
    {
     "data": {
      "text/plain": [
       "<bound method BaseEstimator.get_params of GridSearchCV(cv=5, estimator=KNeighborsClassifier(), n_jobs=-1,\n",
       "             param_grid={'n_neighbors': [5, 10, 15, 20, 30, 40, 50]},\n",
       "             scoring='roc_auc')>"
      ]
     },
     "execution_count": 61,
     "metadata": {},
     "output_type": "execute_result"
    }
   ],
   "source": [
    "knn_grid.get_params"
   ]
  },
  {
   "cell_type": "markdown",
   "metadata": {},
   "source": [
    "### Logistic Regression"
   ]
  },
  {
   "cell_type": "code",
   "execution_count": 62,
   "metadata": {},
   "outputs": [
    {
     "data": {
      "text/plain": [
       "GridSearchCV(cv=5,\n",
       "             estimator=LogisticRegression(random_state=0, solver='liblinear'),\n",
       "             n_jobs=-1,\n",
       "             param_grid={'C': [0.001, 0.01, 0.1, 1, 10, 100],\n",
       "                         'max_iter': [50, 100, 500, 1000]},\n",
       "             scoring='roc_auc')"
      ]
     },
     "execution_count": 62,
     "metadata": {},
     "output_type": "execute_result"
    }
   ],
   "source": [
    "from sklearn.linear_model import LogisticRegression\n",
    "\n",
    "param_grid = {'C': [0.001, 0.01, 0.1, 1, 10, 100], 'max_iter': [50,100,500,1000]}\n",
    "\n",
    "logreg = LogisticRegression(solver='liblinear', random_state=0)\n",
    "logreg_grid = GridSearchCV(logreg, param_grid, cv = 5, n_jobs = -1, scoring = 'roc_auc')\n",
    "logreg_grid.fit(x_train, y_train)"
   ]
  },
  {
   "cell_type": "code",
   "execution_count": 63,
   "metadata": {},
   "outputs": [
    {
     "data": {
      "text/plain": [
       "{'C': 0.1, 'max_iter': 50}"
      ]
     },
     "execution_count": 63,
     "metadata": {},
     "output_type": "execute_result"
    }
   ],
   "source": [
    "logreg_grid.best_params_"
   ]
  },
  {
   "cell_type": "code",
   "execution_count": 64,
   "metadata": {},
   "outputs": [
    {
     "name": "stdout",
     "output_type": "stream",
     "text": [
      "0.7301867550842236\n"
     ]
    }
   ],
   "source": [
    "logreg_score = logreg_grid.best_score_\n",
    "print(logreg_score)"
   ]
  },
  {
   "cell_type": "code",
   "execution_count": 65,
   "metadata": {},
   "outputs": [],
   "source": [
    "# convert pandas series to numpy arrays for use in following models\n",
    "y_test = np.array(y_test)\n",
    "y_train = np.array(y_train)"
   ]
  },
  {
   "cell_type": "markdown",
   "metadata": {},
   "source": [
    "### Linear SVM\n"
   ]
  },
  {
   "cell_type": "code",
   "execution_count": 66,
   "metadata": {},
   "outputs": [
    {
     "name": "stdout",
     "output_type": "stream",
     "text": [
      "0.7371764222946742\n"
     ]
    }
   ],
   "source": [
    "from sklearn.svm import LinearSVC\n",
    "from mlxtend.plotting import plot_decision_regions\n",
    "\n",
    "lsvc = LinearSVC(random_state=0)\n",
    "\n",
    "param_grid = {'C': [.001,.01,.1,1,10,100]}\n",
    "\n",
    "lsvc_grid = GridSearchCV(lsvc, cv = 5, param_grid=param_grid, n_jobs = -1, scoring = 'roc_auc')\n",
    "lsvc_grid.fit(x_train, y_train)\n",
    "\n",
    "lsvm_score = lsvc_grid.best_score_\n",
    "print(lsvm_score)"
   ]
  },
  {
   "cell_type": "code",
   "execution_count": 67,
   "metadata": {},
   "outputs": [
    {
     "data": {
      "text/plain": [
       "{'C': 0.01}"
      ]
     },
     "execution_count": 67,
     "metadata": {},
     "output_type": "execute_result"
    }
   ],
   "source": [
    "lsvc_grid.best_params_"
   ]
  },
  {
   "cell_type": "markdown",
   "metadata": {},
   "source": [
    "### Kernelized SVM - rbf"
   ]
  },
  {
   "cell_type": "code",
   "execution_count": 68,
   "metadata": {},
   "outputs": [
    {
     "name": "stdout",
     "output_type": "stream",
     "text": [
      "0.768906796588385\n"
     ]
    }
   ],
   "source": [
    "from sklearn.svm import SVC\n",
    "\n",
    "param_grid = {'C': [.001,.01,.1,1,10,100], 'gamma': [.001,.01,.1,1,10,100]}\n",
    "\n",
    "svcr = SVC(kernel='rbf', random_state=0)\n",
    "\n",
    "svcr_grid = GridSearchCV(svcr, cv=5, param_grid=param_grid, n_jobs=-1, scoring = 'roc_auc')\n",
    "\n",
    "svcr_grid.fit(x_train, y_train)\n",
    "\n",
    "rsvc_score = svcr_grid.best_score_\n",
    "print(rsvc_score)"
   ]
  },
  {
   "cell_type": "code",
   "execution_count": 69,
   "metadata": {},
   "outputs": [
    {
     "data": {
      "text/plain": [
       "{'C': 1, 'gamma': 0.001}"
      ]
     },
     "execution_count": 69,
     "metadata": {},
     "output_type": "execute_result"
    }
   ],
   "source": [
    "svcr_grid.best_params_"
   ]
  },
  {
   "cell_type": "markdown",
   "metadata": {},
   "source": [
    "### Kernelized SVM - poly"
   ]
  },
  {
   "cell_type": "code",
   "execution_count": 70,
   "metadata": {},
   "outputs": [
    {
     "name": "stdout",
     "output_type": "stream",
     "text": [
      "0.6837722976823708\n"
     ]
    }
   ],
   "source": [
    "from sklearn.svm import SVC\n",
    "\n",
    "param_grid = {'C': [.1,1,10,100]}\n",
    "\n",
    "svcp = SVC(kernel='poly', degree=3, random_state=0, coef0=1)\n",
    "\n",
    "svcp_grid = GridSearchCV(svcp, cv=5, param_grid=param_grid, n_jobs=-1, scoring = 'roc_auc')\n",
    "\n",
    "svcp_grid.fit(x_train, y_train)\n",
    "\n",
    "psvc_score = svcp_grid.best_score_\n",
    "print(psvc_score)"
   ]
  },
  {
   "cell_type": "code",
   "execution_count": 71,
   "metadata": {},
   "outputs": [
    {
     "data": {
      "text/plain": [
       "{'C': 0.1}"
      ]
     },
     "execution_count": 71,
     "metadata": {},
     "output_type": "execute_result"
    }
   ],
   "source": [
    "svcp_grid.best_params_\n"
   ]
  },
  {
   "cell_type": "markdown",
   "metadata": {},
   "source": [
    "### Kernelized SVM - linear"
   ]
  },
  {
   "cell_type": "code",
   "execution_count": 72,
   "metadata": {},
   "outputs": [
    {
     "data": {
      "text/plain": [
       "GridSearchCV(cv=5, estimator=SVC(kernel='linear', random_state=0), n_jobs=-1,\n",
       "             param_grid={'C': [0.1, 1, 10, 100]}, scoring='roc_auc')"
      ]
     },
     "execution_count": 72,
     "metadata": {},
     "output_type": "execute_result"
    }
   ],
   "source": [
    "from sklearn.svm import SVC\n",
    "\n",
    "param_grid = {'C': [.1,1,10,100]}\n",
    "\n",
    "lsvc = SVC(kernel='linear', random_state=0)\n",
    "\n",
    "lsvc_grid = GridSearchCV(lsvc, cv=5, param_grid=param_grid, n_jobs=-1, scoring = 'roc_auc')\n",
    "\n",
    "lsvc_grid.fit(x_train, y_train)"
   ]
  },
  {
   "cell_type": "code",
   "execution_count": 73,
   "metadata": {},
   "outputs": [
    {
     "name": "stdout",
     "output_type": "stream",
     "text": [
      "0.7561015961367957\n"
     ]
    }
   ],
   "source": [
    "lsvc_score = lsvc_grid.best_score_\n",
    "print(lsvc_score)"
   ]
  },
  {
   "cell_type": "code",
   "execution_count": 74,
   "metadata": {},
   "outputs": [
    {
     "data": {
      "text/plain": [
       "{'C': 0.1}"
      ]
     },
     "execution_count": 74,
     "metadata": {},
     "output_type": "execute_result"
    }
   ],
   "source": [
    "lsvc_grid.best_params_"
   ]
  },
  {
   "cell_type": "markdown",
   "metadata": {},
   "source": [
    "### Decision Tree"
   ]
  },
  {
   "cell_type": "code",
   "execution_count": 75,
   "metadata": {},
   "outputs": [
    {
     "data": {
      "text/plain": [
       "GridSearchCV(cv=5, estimator=DecisionTreeClassifier(random_state=0), n_jobs=-1,\n",
       "             param_grid={'max_depth': [20, 30, 40, 50, 60, 70],\n",
       "                         'min_impurity_decrease': [0.001, 0.005, 0.01, 0.05,\n",
       "                                                   0.1],\n",
       "                         'min_samples_leaf': [30, 60, 120, 240, 480],\n",
       "                         'min_samples_split': [30, 60, 120, 240, 480]},\n",
       "             scoring='roc_auc')"
      ]
     },
     "execution_count": 75,
     "metadata": {},
     "output_type": "execute_result"
    }
   ],
   "source": [
    "from sklearn.tree import DecisionTreeClassifier\n",
    "\n",
    "midlst= [.001,.005,.01,.05,.1] # these numbers are relatively arbitrary\n",
    "msllst= [30,60,120,240,480] # below a sample of size n=30 is not significant enough to justify its own leaf\n",
    "msslst= [30,60,120,240,480] \n",
    "mdlst= [20,30,40,50,60,70] # too large of a tree will lose its interpretability, and therefore its business value. May consider further trimming.\n",
    "\n",
    "param_grid = {'min_impurity_decrease': midlst, 'min_samples_leaf': msllst, 'min_samples_split': msslst, 'max_depth': mdlst}\n",
    "\n",
    "tree = DecisionTreeClassifier(random_state=0)\n",
    "tree_grid = GridSearchCV(tree, param_grid=param_grid, cv=5, n_jobs=-1, scoring='roc_auc')\n",
    "\n",
    "tree_grid.fit(x_train,y_train)"
   ]
  },
  {
   "cell_type": "code",
   "execution_count": 76,
   "metadata": {},
   "outputs": [
    {
     "name": "stdout",
     "output_type": "stream",
     "text": [
      "0.6989933543847495\n"
     ]
    }
   ],
   "source": [
    "dtree_score = tree_grid.best_score_\n",
    "print(dtree_score)"
   ]
  },
  {
   "cell_type": "code",
   "execution_count": 77,
   "metadata": {},
   "outputs": [
    {
     "data": {
      "text/plain": [
       "{'max_depth': 20,\n",
       " 'min_impurity_decrease': 0.001,\n",
       " 'min_samples_leaf': 30,\n",
       " 'min_samples_split': 30}"
      ]
     },
     "execution_count": 77,
     "metadata": {},
     "output_type": "execute_result"
    }
   ],
   "source": [
    "tree_grid.best_params_\n"
   ]
  },
  {
   "cell_type": "markdown",
   "metadata": {},
   "source": [
    "## Project 1 Result"
   ]
  },
  {
   "cell_type": "code",
   "execution_count": 78,
   "metadata": {},
   "outputs": [
    {
     "data": {
      "text/html": [
       "<div>\n",
       "<style scoped>\n",
       "    .dataframe tbody tr th:only-of-type {\n",
       "        vertical-align: middle;\n",
       "    }\n",
       "\n",
       "    .dataframe tbody tr th {\n",
       "        vertical-align: top;\n",
       "    }\n",
       "\n",
       "    .dataframe thead th {\n",
       "        text-align: right;\n",
       "    }\n",
       "</style>\n",
       "<table border=\"1\" class=\"dataframe\">\n",
       "  <thead>\n",
       "    <tr style=\"text-align: right;\">\n",
       "      <th></th>\n",
       "      <th>Without_PCA</th>\n",
       "    </tr>\n",
       "  </thead>\n",
       "  <tbody>\n",
       "    <tr>\n",
       "      <th>knn_score</th>\n",
       "      <td>0.785281</td>\n",
       "    </tr>\n",
       "    <tr>\n",
       "      <th>logreg_score</th>\n",
       "      <td>0.891234</td>\n",
       "    </tr>\n",
       "    <tr>\n",
       "      <th>lsvm_score</th>\n",
       "      <td>0.893031</td>\n",
       "    </tr>\n",
       "    <tr>\n",
       "      <th>lsvc_score</th>\n",
       "      <td>0.875116</td>\n",
       "    </tr>\n",
       "    <tr>\n",
       "      <th>rsvc_score</th>\n",
       "      <td>0.887966</td>\n",
       "    </tr>\n",
       "    <tr>\n",
       "      <th>psvc_score</th>\n",
       "      <td>0.875116</td>\n",
       "    </tr>\n",
       "    <tr>\n",
       "      <th>lsvc</th>\n",
       "      <td>0.888594</td>\n",
       "    </tr>\n",
       "    <tr>\n",
       "      <th>dtree_score</th>\n",
       "      <td>0.830254</td>\n",
       "    </tr>\n",
       "  </tbody>\n",
       "</table>\n",
       "</div>"
      ],
      "text/plain": [
       "              Without_PCA\n",
       "knn_score        0.785281\n",
       "logreg_score     0.891234\n",
       "lsvm_score       0.893031\n",
       "lsvc_score       0.875116\n",
       "rsvc_score       0.887966\n",
       "psvc_score       0.875116\n",
       "lsvc             0.888594\n",
       "dtree_score      0.830254"
      ]
     },
     "execution_count": 78,
     "metadata": {},
     "output_type": "execute_result"
    }
   ],
   "source": [
    "d = {\"knn_score\": 0.785281, \"logreg_score\": 0.891234, \"lsvm_score\": 0.893031,\"lsvc_score\":0.888594,\"rsvc_score\":0.887966\n",
    "     ,\"psvc_score\": 0.875116,\"lsvc_score\": 0.875116,\"lsvc\":0.888594,\"dtree_score\":0.830254}\n",
    "\n",
    "import pandas as pd\n",
    "d=pd.Series(d)\n",
    "Project1result=d.to_frame()\n",
    "Project1result\n",
    "Project1result.columns=['Without_PCA']\n",
    "Project1result"
   ]
  },
  {
   "cell_type": "code",
   "execution_count": 79,
   "metadata": {},
   "outputs": [],
   "source": [
    "#pip install keras\n",
    "#pip install tensorflow"
   ]
  },
  {
   "cell_type": "code",
   "execution_count": 80,
   "metadata": {},
   "outputs": [],
   "source": [
    "# redefine x & y\n",
    "y = fdf['y']\n",
    "#y\n",
    "x = fdf.drop('y', axis=1)\n",
    "#x"
   ]
  },
  {
   "cell_type": "markdown",
   "metadata": {},
   "source": [
    "## Deep Learning model"
   ]
  },
  {
   "cell_type": "code",
   "execution_count": 81,
   "metadata": {},
   "outputs": [],
   "source": [
    "# scaling the data\n",
    "x_train, x_test, y_train, y_test = train_test_split(x,y, random_state=0)\n",
    "\n",
    "from sklearn.decomposition import PCA\n",
    "from sklearn.preprocessing import MinMaxScaler\n",
    "\n",
    "pca = PCA(n_components=0.95)\n",
    "\n",
    "scaler=MinMaxScaler()\n",
    "\n",
    "x_train = scaler.fit_transform(x_train)\n",
    "x_test = scaler.transform(x_test)\n"
   ]
  },
  {
   "cell_type": "code",
   "execution_count": 82,
   "metadata": {},
   "outputs": [],
   "source": [
    "from keras.models import Sequential\n",
    "from keras.layers import Dense"
   ]
  },
  {
   "cell_type": "code",
   "execution_count": 83,
   "metadata": {},
   "outputs": [],
   "source": [
    "import numpy as np\n",
    "from sklearn.model_selection import GridSearchCV\n",
    "from keras.models import Sequential\n",
    "from keras.layers import Dense\n",
    "from keras.wrappers.scikit_learn import KerasClassifier"
   ]
  },
  {
   "cell_type": "code",
   "execution_count": 84,
   "metadata": {},
   "outputs": [],
   "source": [
    "seed = 10\n",
    "np.random.seed(10)"
   ]
  },
  {
   "cell_type": "code",
   "execution_count": 85,
   "metadata": {},
   "outputs": [],
   "source": [
    "# create model\n",
    "model = Sequential()\n",
    "model.add(Dense(12, input_dim=49, activation='relu'))\n",
    "model.add(Dense(8, activation='relu'))\n",
    "model.add(Dense(1, activation='sigmoid'))"
   ]
  },
  {
   "cell_type": "code",
   "execution_count": 86,
   "metadata": {},
   "outputs": [],
   "source": [
    "model.compile(loss='binary_crossentropy', optimizer='adam', metrics=['accuracy'])"
   ]
  },
  {
   "cell_type": "code",
   "execution_count": 87,
   "metadata": {},
   "outputs": [
    {
     "name": "stdout",
     "output_type": "stream",
     "text": [
      "Epoch 1/150\n",
      "1500/1500 [==============================] - 1s 578us/step - loss: 0.4032 - accuracy: 0.8157\n",
      "Epoch 2/150\n",
      "1500/1500 [==============================] - 1s 574us/step - loss: 0.2586 - accuracy: 0.9018\n",
      "Epoch 3/150\n",
      "1500/1500 [==============================] - 1s 563us/step - loss: 0.2311 - accuracy: 0.9043\n",
      "Epoch 4/150\n",
      "1500/1500 [==============================] - 1s 559us/step - loss: 0.2240 - accuracy: 0.9062\n",
      "Epoch 5/150\n",
      "1500/1500 [==============================] - 1s 564us/step - loss: 0.2167 - accuracy: 0.9091\n",
      "Epoch 6/150\n",
      "1500/1500 [==============================] - 1s 576us/step - loss: 0.2099 - accuracy: 0.9129\n",
      "Epoch 7/150\n",
      "1500/1500 [==============================] - 1s 558us/step - loss: 0.2100 - accuracy: 0.9097\n",
      "Epoch 8/150\n",
      "1500/1500 [==============================] - 1s 559us/step - loss: 0.2108 - accuracy: 0.9118\n",
      "Epoch 9/150\n",
      "1500/1500 [==============================] - 1s 750us/step - loss: 0.2150 - accuracy: 0.9109\n",
      "Epoch 10/150\n",
      "1500/1500 [==============================] - 1s 567us/step - loss: 0.2044 - accuracy: 0.9157\n",
      "Epoch 11/150\n",
      "1500/1500 [==============================] - 1s 558us/step - loss: 0.2085 - accuracy: 0.9081\n",
      "Epoch 12/150\n",
      "1500/1500 [==============================] - 1s 684us/step - loss: 0.2087 - accuracy: 0.9126\n",
      "Epoch 13/150\n",
      "1500/1500 [==============================] - 1s 679us/step - loss: 0.2051 - accuracy: 0.9118\n",
      "Epoch 14/150\n",
      "1500/1500 [==============================] - 1s 689us/step - loss: 0.2131 - accuracy: 0.9107\n",
      "Epoch 15/150\n",
      "1500/1500 [==============================] - 1s 656us/step - loss: 0.2032 - accuracy: 0.9125\n",
      "Epoch 16/150\n",
      "1500/1500 [==============================] - 1s 628us/step - loss: 0.2029 - accuracy: 0.9135\n",
      "Epoch 17/150\n",
      "1500/1500 [==============================] - 1s 640us/step - loss: 0.2051 - accuracy: 0.9091\n",
      "Epoch 18/150\n",
      "1500/1500 [==============================] - 1s 610us/step - loss: 0.2031 - accuracy: 0.9133\n",
      "Epoch 19/150\n",
      "1500/1500 [==============================] - 1s 610us/step - loss: 0.1989 - accuracy: 0.9160\n",
      "Epoch 20/150\n",
      "1500/1500 [==============================] - 1s 584us/step - loss: 0.1994 - accuracy: 0.9112\n",
      "Epoch 21/150\n",
      "1500/1500 [==============================] - 1s 562us/step - loss: 0.2047 - accuracy: 0.9128\n",
      "Epoch 22/150\n",
      "1500/1500 [==============================] - 1s 562us/step - loss: 0.1952 - accuracy: 0.9140\n",
      "Epoch 23/150\n",
      "1500/1500 [==============================] - 1s 563us/step - loss: 0.1975 - accuracy: 0.9139\n",
      "Epoch 24/150\n",
      "1500/1500 [==============================] - 1s 569us/step - loss: 0.1988 - accuracy: 0.9152\n",
      "Epoch 25/150\n",
      "1500/1500 [==============================] - 1s 600us/step - loss: 0.1989 - accuracy: 0.9143\n",
      "Epoch 26/150\n",
      "1500/1500 [==============================] - 1s 658us/step - loss: 0.2058 - accuracy: 0.9106\n",
      "Epoch 27/150\n",
      "1500/1500 [==============================] - 1s 682us/step - loss: 0.1930 - accuracy: 0.9171\n",
      "Epoch 28/150\n",
      "1500/1500 [==============================] - 1s 640us/step - loss: 0.2003 - accuracy: 0.9133\n",
      "Epoch 29/150\n",
      "1500/1500 [==============================] - 1s 663us/step - loss: 0.1946 - accuracy: 0.9166\n",
      "Epoch 30/150\n",
      "1500/1500 [==============================] - 1s 723us/step - loss: 0.1944 - accuracy: 0.9148\n",
      "Epoch 31/150\n",
      "1500/1500 [==============================] - 1s 564us/step - loss: 0.2004 - accuracy: 0.9120\n",
      "Epoch 32/150\n",
      "1500/1500 [==============================] - 1s 616us/step - loss: 0.2008 - accuracy: 0.9148\n",
      "Epoch 33/150\n",
      "1500/1500 [==============================] - 1s 570us/step - loss: 0.1932 - accuracy: 0.9180\n",
      "Epoch 34/150\n",
      "1500/1500 [==============================] - 1s 533us/step - loss: 0.1900 - accuracy: 0.9179\n",
      "Epoch 35/150\n",
      "1500/1500 [==============================] - 1s 511us/step - loss: 0.1932 - accuracy: 0.9182\n",
      "Epoch 36/150\n",
      "1500/1500 [==============================] - 1s 510us/step - loss: 0.1931 - accuracy: 0.9190\n",
      "Epoch 37/150\n",
      "1500/1500 [==============================] - 1s 509us/step - loss: 0.1917 - accuracy: 0.9190\n",
      "Epoch 38/150\n",
      "1500/1500 [==============================] - 1s 622us/step - loss: 0.1911 - accuracy: 0.9189\n",
      "Epoch 39/150\n",
      "1500/1500 [==============================] - 1s 574us/step - loss: 0.1916 - accuracy: 0.9176\n",
      "Epoch 40/150\n",
      "1500/1500 [==============================] - 1s 580us/step - loss: 0.1939 - accuracy: 0.9182\n",
      "Epoch 41/150\n",
      "1500/1500 [==============================] - 1s 626us/step - loss: 0.1910 - accuracy: 0.9166\n",
      "Epoch 42/150\n",
      "1500/1500 [==============================] - 1s 515us/step - loss: 0.1890 - accuracy: 0.9162\n",
      "Epoch 43/150\n",
      "1500/1500 [==============================] - 1s 591us/step - loss: 0.1950 - accuracy: 0.9159\n",
      "Epoch 44/150\n",
      "1500/1500 [==============================] - 1s 599us/step - loss: 0.1920 - accuracy: 0.9197\n",
      "Epoch 45/150\n",
      "1500/1500 [==============================] - 1s 683us/step - loss: 0.1925 - accuracy: 0.9140\n",
      "Epoch 46/150\n",
      "1500/1500 [==============================] - 2s 1ms/step - loss: 0.1977 - accuracy: 0.9161\n",
      "Epoch 47/150\n",
      "1500/1500 [==============================] - 1s 779us/step - loss: 0.1963 - accuracy: 0.9142\n",
      "Epoch 48/150\n",
      "1500/1500 [==============================] - 1s 746us/step - loss: 0.1917 - accuracy: 0.9159\n",
      "Epoch 49/150\n",
      "1500/1500 [==============================] - 1s 784us/step - loss: 0.1890 - accuracy: 0.9217\n",
      "Epoch 50/150\n",
      "1500/1500 [==============================] - 1s 763us/step - loss: 0.1880 - accuracy: 0.9186\n",
      "Epoch 51/150\n",
      "1500/1500 [==============================] - 1s 735us/step - loss: 0.1874 - accuracy: 0.9238\n",
      "Epoch 52/150\n",
      "1500/1500 [==============================] - 1s 706us/step - loss: 0.1961 - accuracy: 0.9150\n",
      "Epoch 53/150\n",
      "1500/1500 [==============================] - 1s 821us/step - loss: 0.1904 - accuracy: 0.9138\n",
      "Epoch 54/150\n",
      "1500/1500 [==============================] - 1s 610us/step - loss: 0.1896 - accuracy: 0.9168\n",
      "Epoch 55/150\n",
      "1500/1500 [==============================] - 1s 597us/step - loss: 0.1856 - accuracy: 0.9210\n",
      "Epoch 56/150\n",
      "1500/1500 [==============================] - 1s 580us/step - loss: 0.1869 - accuracy: 0.9202\n",
      "Epoch 57/150\n",
      "1500/1500 [==============================] - 1s 566us/step - loss: 0.1954 - accuracy: 0.9160\n",
      "Epoch 58/150\n",
      "1500/1500 [==============================] - 1s 606us/step - loss: 0.1952 - accuracy: 0.9180\n",
      "Epoch 59/150\n",
      "1500/1500 [==============================] - 1s 685us/step - loss: 0.1929 - accuracy: 0.9169\n",
      "Epoch 60/150\n",
      "1500/1500 [==============================] - 1s 607us/step - loss: 0.1910 - accuracy: 0.9185\n",
      "Epoch 61/150\n",
      "1500/1500 [==============================] - 1s 576us/step - loss: 0.1856 - accuracy: 0.9219\n",
      "Epoch 62/150\n",
      "1500/1500 [==============================] - 1s 597us/step - loss: 0.1920 - accuracy: 0.9185\n",
      "Epoch 63/150\n",
      "1500/1500 [==============================] - 1s 583us/step - loss: 0.1878 - accuracy: 0.9217\n",
      "Epoch 64/150\n",
      "1500/1500 [==============================] - 1s 733us/step - loss: 0.1960 - accuracy: 0.9175\n",
      "Epoch 65/150\n",
      "1500/1500 [==============================] - 1s 580us/step - loss: 0.1851 - accuracy: 0.9192\n",
      "Epoch 66/150\n",
      "1500/1500 [==============================] - 1s 610us/step - loss: 0.1831 - accuracy: 0.9216\n",
      "Epoch 67/150\n",
      "1500/1500 [==============================] - 1s 631us/step - loss: 0.1915 - accuracy: 0.9184\n",
      "Epoch 68/150\n",
      "1500/1500 [==============================] - 1s 631us/step - loss: 0.1902 - accuracy: 0.9175\n",
      "Epoch 69/150\n",
      "1500/1500 [==============================] - 1s 635us/step - loss: 0.1879 - accuracy: 0.9218\n",
      "Epoch 70/150\n",
      "1500/1500 [==============================] - 1s 679us/step - loss: 0.1871 - accuracy: 0.9182\n",
      "Epoch 71/150\n",
      "1500/1500 [==============================] - 1s 643us/step - loss: 0.1851 - accuracy: 0.9197\n",
      "Epoch 72/150\n",
      "1500/1500 [==============================] - 1s 623us/step - loss: 0.1855 - accuracy: 0.9234\n",
      "Epoch 73/150\n",
      "1500/1500 [==============================] - 1s 752us/step - loss: 0.1867 - accuracy: 0.9218\n",
      "Epoch 74/150\n",
      "1500/1500 [==============================] - 1s 804us/step - loss: 0.1812 - accuracy: 0.9242\n",
      "Epoch 75/150\n",
      "1500/1500 [==============================] - 1s 824us/step - loss: 0.1838 - accuracy: 0.9205\n",
      "Epoch 76/150\n",
      "1500/1500 [==============================] - 1s 879us/step - loss: 0.1866 - accuracy: 0.9178\n",
      "Epoch 77/150\n",
      "1500/1500 [==============================] - 1s 773us/step - loss: 0.1787 - accuracy: 0.9231\n",
      "Epoch 78/150\n"
     ]
    },
    {
     "name": "stdout",
     "output_type": "stream",
     "text": [
      "1500/1500 [==============================] - 1s 772us/step - loss: 0.1906 - accuracy: 0.9186\n",
      "Epoch 79/150\n",
      "1500/1500 [==============================] - 1s 900us/step - loss: 0.1853 - accuracy: 0.9198\n",
      "Epoch 80/150\n",
      "1500/1500 [==============================] - 1s 967us/step - loss: 0.1830 - accuracy: 0.9231\n",
      "Epoch 81/150\n",
      "1500/1500 [==============================] - 1s 949us/step - loss: 0.1857 - accuracy: 0.9180\n",
      "Epoch 82/150\n",
      "1500/1500 [==============================] - 1s 768us/step - loss: 0.1893 - accuracy: 0.9174\n",
      "Epoch 83/150\n",
      "1500/1500 [==============================] - 1s 705us/step - loss: 0.1830 - accuracy: 0.9231\n",
      "Epoch 84/150\n",
      "1500/1500 [==============================] - 1s 734us/step - loss: 0.1869 - accuracy: 0.9201\n",
      "Epoch 85/150\n",
      "1500/1500 [==============================] - 1s 833us/step - loss: 0.1844 - accuracy: 0.9226\n",
      "Epoch 86/150\n",
      "1500/1500 [==============================] - 1s 819us/step - loss: 0.1835 - accuracy: 0.9239\n",
      "Epoch 87/150\n",
      "1500/1500 [==============================] - 1s 914us/step - loss: 0.1783 - accuracy: 0.9245\n",
      "Epoch 88/150\n",
      "1500/1500 [==============================] - 2s 1ms/step - loss: 0.1827 - accuracy: 0.9218\n",
      "Epoch 89/150\n",
      "1500/1500 [==============================] - 1s 914us/step - loss: 0.1800 - accuracy: 0.9238\n",
      "Epoch 90/150\n",
      "1500/1500 [==============================] - 1s 889us/step - loss: 0.1768 - accuracy: 0.9257\n",
      "Epoch 91/150\n",
      "1500/1500 [==============================] - 1s 715us/step - loss: 0.1847 - accuracy: 0.9248\n",
      "Epoch 92/150\n",
      "1500/1500 [==============================] - 1s 805us/step - loss: 0.1837 - accuracy: 0.9206\n",
      "Epoch 93/150\n",
      "1500/1500 [==============================] - 1s 694us/step - loss: 0.1786 - accuracy: 0.9240\n",
      "Epoch 94/150\n",
      "1500/1500 [==============================] - 1s 612us/step - loss: 0.1757 - accuracy: 0.9268\n",
      "Epoch 95/150\n",
      "1500/1500 [==============================] - 1s 570us/step - loss: 0.1845 - accuracy: 0.9208\n",
      "Epoch 96/150\n",
      "1500/1500 [==============================] - 1s 512us/step - loss: 0.1772 - accuracy: 0.9242\n",
      "Epoch 97/150\n",
      "1500/1500 [==============================] - 1s 502us/step - loss: 0.1870 - accuracy: 0.9191\n",
      "Epoch 98/150\n",
      "1500/1500 [==============================] - 1s 622us/step - loss: 0.1890 - accuracy: 0.9206\n",
      "Epoch 99/150\n",
      "1500/1500 [==============================] - 1s 607us/step - loss: 0.1845 - accuracy: 0.9208\n",
      "Epoch 100/150\n",
      "1500/1500 [==============================] - 1s 541us/step - loss: 0.1869 - accuracy: 0.9218\n",
      "Epoch 101/150\n",
      "1500/1500 [==============================] - 1s 507us/step - loss: 0.1818 - accuracy: 0.9250\n",
      "Epoch 102/150\n",
      "1500/1500 [==============================] - 1s 524us/step - loss: 0.1857 - accuracy: 0.9191\n",
      "Epoch 103/150\n",
      "1500/1500 [==============================] - 1s 583us/step - loss: 0.1764 - accuracy: 0.9256\n",
      "Epoch 104/150\n",
      "1500/1500 [==============================] - 1s 596us/step - loss: 0.1912 - accuracy: 0.9184\n",
      "Epoch 105/150\n",
      "1500/1500 [==============================] - 1s 569us/step - loss: 0.1816 - accuracy: 0.9245\n",
      "Epoch 106/150\n",
      "1500/1500 [==============================] - 1s 519us/step - loss: 0.1832 - accuracy: 0.9239\n",
      "Epoch 107/150\n",
      "1500/1500 [==============================] - 1s 509us/step - loss: 0.1777 - accuracy: 0.9246\n",
      "Epoch 108/150\n",
      "1500/1500 [==============================] - 1s 532us/step - loss: 0.1773 - accuracy: 0.9231\n",
      "Epoch 109/150\n",
      "1500/1500 [==============================] - 1s 669us/step - loss: 0.1759 - accuracy: 0.9262\n",
      "Epoch 110/150\n",
      "1500/1500 [==============================] - 2s 1ms/step - loss: 0.1823 - accuracy: 0.9239\n",
      "Epoch 111/150\n",
      "1500/1500 [==============================] - 1s 681us/step - loss: 0.1776 - accuracy: 0.9280\n",
      "Epoch 112/150\n",
      "1500/1500 [==============================] - 1s 741us/step - loss: 0.1788 - accuracy: 0.9262\n",
      "Epoch 113/150\n",
      "1500/1500 [==============================] - 1s 708us/step - loss: 0.1763 - accuracy: 0.9277\n",
      "Epoch 114/150\n",
      "1500/1500 [==============================] - 1s 765us/step - loss: 0.1843 - accuracy: 0.9221\n",
      "Epoch 115/150\n",
      "1500/1500 [==============================] - 1s 719us/step - loss: 0.1843 - accuracy: 0.9220\n",
      "Epoch 116/150\n",
      "1500/1500 [==============================] - 1s 660us/step - loss: 0.1787 - accuracy: 0.9268\n",
      "Epoch 117/150\n",
      "1500/1500 [==============================] - 1s 626us/step - loss: 0.1869 - accuracy: 0.9238\n",
      "Epoch 118/150\n",
      "1500/1500 [==============================] - 1s 713us/step - loss: 0.1742 - accuracy: 0.9275\n",
      "Epoch 119/150\n",
      "1500/1500 [==============================] - 1s 734us/step - loss: 0.1794 - accuracy: 0.9254\n",
      "Epoch 120/150\n",
      "1500/1500 [==============================] - 1s 706us/step - loss: 0.1792 - accuracy: 0.9304\n",
      "Epoch 121/150\n",
      "1500/1500 [==============================] - 1s 661us/step - loss: 0.1837 - accuracy: 0.9225\n",
      "Epoch 122/150\n",
      "1500/1500 [==============================] - 1s 644us/step - loss: 0.1799 - accuracy: 0.9245\n",
      "Epoch 123/150\n",
      "1500/1500 [==============================] - 1s 695us/step - loss: 0.1775 - accuracy: 0.9260\n",
      "Epoch 124/150\n",
      "1500/1500 [==============================] - 1s 867us/step - loss: 0.1875 - accuracy: 0.9192\n",
      "Epoch 125/150\n",
      "1500/1500 [==============================] - 1s 855us/step - loss: 0.1792 - accuracy: 0.9216\n",
      "Epoch 126/150\n",
      "1500/1500 [==============================] - 2s 1ms/step - loss: 0.1746 - accuracy: 0.9271\n",
      "Epoch 127/150\n",
      "1500/1500 [==============================] - 1s 919us/step - loss: 0.1832 - accuracy: 0.9259\n",
      "Epoch 128/150\n",
      "1500/1500 [==============================] - 1s 967us/step - loss: 0.1839 - accuracy: 0.9256\n",
      "Epoch 129/150\n",
      "1500/1500 [==============================] - 2s 1ms/step - loss: 0.1787 - accuracy: 0.9269\n",
      "Epoch 130/150\n",
      "1500/1500 [==============================] - 2s 1ms/step - loss: 0.1698 - accuracy: 0.9299\n",
      "Epoch 131/150\n",
      "1500/1500 [==============================] - 2s 1ms/step - loss: 0.1780 - accuracy: 0.9279\n",
      "Epoch 132/150\n",
      "1500/1500 [==============================] - 2s 1ms/step - loss: 0.1856 - accuracy: 0.9200\n",
      "Epoch 133/150\n",
      "1500/1500 [==============================] - 1s 953us/step - loss: 0.1784 - accuracy: 0.9233\n",
      "Epoch 134/150\n",
      "1500/1500 [==============================] - 1s 788us/step - loss: 0.1744 - accuracy: 0.9272\n",
      "Epoch 135/150\n",
      "1500/1500 [==============================] - 1s 856us/step - loss: 0.1839 - accuracy: 0.9207\n",
      "Epoch 136/150\n",
      "1500/1500 [==============================] - 1s 782us/step - loss: 0.1723 - accuracy: 0.9313\n",
      "Epoch 137/150\n",
      "1500/1500 [==============================] - 1s 758us/step - loss: 0.1829 - accuracy: 0.9245\n",
      "Epoch 138/150\n",
      "1500/1500 [==============================] - 1s 801us/step - loss: 0.1718 - accuracy: 0.9278\n",
      "Epoch 139/150\n",
      "1500/1500 [==============================] - 1s 791us/step - loss: 0.1809 - accuracy: 0.9242\n",
      "Epoch 140/150\n",
      "1500/1500 [==============================] - 1s 934us/step - loss: 0.1812 - accuracy: 0.9243\n",
      "Epoch 141/150\n",
      "1500/1500 [==============================] - 2s 1ms/step - loss: 0.1748 - accuracy: 0.9286\n",
      "Epoch 142/150\n",
      "1500/1500 [==============================] - 2s 1ms/step - loss: 0.1737 - accuracy: 0.9273\n",
      "Epoch 143/150\n",
      "1500/1500 [==============================] - 1s 927us/step - loss: 0.1747 - accuracy: 0.9263\n",
      "Epoch 144/150\n",
      "1500/1500 [==============================] - 1s 908us/step - loss: 0.1782 - accuracy: 0.9251\n",
      "Epoch 145/150\n",
      "1500/1500 [==============================] - 2s 1ms/step - loss: 0.1732 - accuracy: 0.9268\n",
      "Epoch 146/150\n",
      "1500/1500 [==============================] - 1s 822us/step - loss: 0.1791 - accuracy: 0.9269\n",
      "Epoch 147/150\n",
      "1500/1500 [==============================] - 1s 907us/step - loss: 0.1763 - accuracy: 0.9274\n",
      "Epoch 148/150\n",
      "1500/1500 [==============================] - 1s 846us/step - loss: 0.1677 - accuracy: 0.9303\n",
      "Epoch 149/150\n",
      "1500/1500 [==============================] - 2s 1ms/step - loss: 0.1801 - accuracy: 0.9255\n",
      "Epoch 150/150\n",
      "1500/1500 [==============================] - 1s 812us/step - loss: 0.1792 - accuracy: 0.9266\n"
     ]
    },
    {
     "data": {
      "text/plain": [
       "<tensorflow.python.keras.callbacks.History at 0x7fed4ce83040>"
      ]
     },
     "execution_count": 87,
     "metadata": {},
     "output_type": "execute_result"
    }
   ],
   "source": [
    "model.fit(x_train, y_train, epochs=150, batch_size=10)"
   ]
  },
  {
   "cell_type": "code",
   "execution_count": 88,
   "metadata": {},
   "outputs": [
    {
     "name": "stdout",
     "output_type": "stream",
     "text": [
      "157/157 [==============================] - 0s 461us/step - loss: 0.2808 - accuracy: 0.8952\n",
      "\n",
      "accuracy: 89.52%\n"
     ]
    }
   ],
   "source": [
    "# evaluate the model\n",
    "scores = model.evaluate(x_test, y_test)\n",
    "print(\"\\n%s: %.2f%%\" % (model.metrics_names[1], scores[1]*100))"
   ]
  },
  {
   "cell_type": "code",
   "execution_count": 89,
   "metadata": {},
   "outputs": [
    {
     "data": {
      "text/plain": [
       "array([[9.6312165e-04],\n",
       "       [4.9179792e-04],\n",
       "       [7.2730184e-03],\n",
       "       ...,\n",
       "       [1.6924843e-01],\n",
       "       [1.5857816e-04],\n",
       "       [1.1952698e-02]], dtype=float32)"
      ]
     },
     "execution_count": 89,
     "metadata": {},
     "output_type": "execute_result"
    }
   ],
   "source": [
    "y_predict = model.predict(x_test)\n",
    "y_predict"
   ]
  },
  {
   "cell_type": "markdown",
   "metadata": {},
   "source": [
    "## Grid Search on Deep Learning\n",
    "\n",
    "We can use GridSearchCV to find the best epochs and batche size. "
   ]
  },
  {
   "cell_type": "code",
   "execution_count": 90,
   "metadata": {},
   "outputs": [],
   "source": [
    "def create_model():\n",
    "    #create model\n",
    "    model = Sequential()\n",
    "    model.add(Dense(12, input_dim=49, activation='relu'))\n",
    "    model.add(Dense(8, activation='relu'))\n",
    "    model.add(Dense(1, activation='sigmoid'))\n",
    "    #compile model\n",
    "    model.compile(loss='binary_crossentropy', optimizer='adam', metrics=['accuracy'])\n",
    "    return model"
   ]
  },
  {
   "cell_type": "code",
   "execution_count": 91,
   "metadata": {},
   "outputs": [],
   "source": [
    "model = KerasClassifier(build_fn = create_model, verbose = 0)\n",
    "\n",
    "param_grid = {'batch_size':[10,20,30,40] , 'epochs':[10, 50, 100]}\n",
    "grid_search = GridSearchCV(estimator= model, param_grid = param_grid, cv = 5)"
   ]
  },
  {
   "cell_type": "code",
   "execution_count": 92,
   "metadata": {},
   "outputs": [],
   "source": [
    "grid_search_result = grid_search.fit(x_train, y_train)"
   ]
  },
  {
   "cell_type": "code",
   "execution_count": 93,
   "metadata": {},
   "outputs": [
    {
     "data": {
      "text/plain": [
       "0.9175333380699158"
      ]
     },
     "execution_count": 93,
     "metadata": {},
     "output_type": "execute_result"
    }
   ],
   "source": [
    "grid_search.score(x_train, y_train)"
   ]
  },
  {
   "cell_type": "code",
   "execution_count": 94,
   "metadata": {},
   "outputs": [
    {
     "data": {
      "text/plain": [
       "0.9016000032424927"
      ]
     },
     "execution_count": 94,
     "metadata": {},
     "output_type": "execute_result"
    }
   ],
   "source": [
    "grid_search.score(x_test, y_test)"
   ]
  },
  {
   "cell_type": "code",
   "execution_count": 95,
   "metadata": {},
   "outputs": [
    {
     "name": "stderr",
     "output_type": "stream",
     "text": [
      "/Users/jordandick/opt/anaconda3/lib/python3.8/site-packages/tensorflow/python/keras/engine/sequential.py:450: UserWarning: `model.predict_classes()` is deprecated and will be removed after 2021-01-01. Please use instead:* `np.argmax(model.predict(x), axis=-1)`,   if your model does multi-class classification   (e.g. if it uses a `softmax` last-layer activation).* `(model.predict(x) > 0.5).astype(\"int32\")`,   if your model does binary classification   (e.g. if it uses a `sigmoid` last-layer activation).\n",
      "  warnings.warn('`model.predict_classes()` is deprecated and '\n"
     ]
    },
    {
     "data": {
      "text/plain": [
       "0.7000232472210449"
      ]
     },
     "execution_count": 95,
     "metadata": {},
     "output_type": "execute_result"
    }
   ],
   "source": [
    "roc_auc_score(y_train,grid_search.predict(x_train))"
   ]
  },
  {
   "cell_type": "markdown",
   "metadata": {},
   "source": [
    ">Based on the maximum grid search roc_auc score, the  SVC with Kernel-'rbc' Model was the best performing model in correctly calssifying whether a potential customer would subscribe to a term deposit product or not. Therefore, this model will be the subject of further analysis and optimization."
   ]
  },
  {
   "cell_type": "markdown",
   "metadata": {},
   "source": [
    "# Best model -SVC with Kernel-'rbc' "
   ]
  },
  {
   "cell_type": "markdown",
   "metadata": {},
   "source": [
    ">Training of the final model will include the entire training dataset so the estimator will be as close as possible to the true parameter. Although the dataset is imbalanced, there are other means of improving the model using ROC curves which includes precision and recall metrics. Again, the scoring function used will be the roc_auc scoring method as it aims to minimize the number of false positives and maximize the number of true positives so that the bank does not waste more money marketing to those who are unlikely to subscribe to a term deposit."
   ]
  },
  {
   "cell_type": "markdown",
   "metadata": {},
   "source": [
    "* Now we will used the best hyperparameter we found for Linear SVC on the entire training dataset"
   ]
  },
  {
   "cell_type": "code",
   "execution_count": 96,
   "metadata": {},
   "outputs": [
    {
     "data": {
      "text/plain": [
       "0.8973476344279279"
      ]
     },
     "execution_count": 96,
     "metadata": {},
     "output_type": "execute_result"
    }
   ],
   "source": [
    "from sklearn.model_selection import cross_val_score\n",
    "\n",
    "best_model = SVC(kernel='rbf',**svcr_grid.best_params_,random_state=0)\n",
    "\n",
    "best_model.fit(x_train,y_train)\n",
    "\n",
    "\n",
    "roc_auc_score(y_train, best_model.decision_function(x_train))\n",
    "#roc_auc_score(y_train, best_model.predict(x_train))\n"
   ]
  },
  {
   "cell_type": "code",
   "execution_count": 97,
   "metadata": {},
   "outputs": [],
   "source": [
    "from sklearn.metrics import roc_auc_score\n",
    "from sklearn.metrics import roc_curve\n",
    "fpr, tpr, thresholds = roc_curve(y_test, best_model.decision_function(x_test))"
   ]
  },
  {
   "cell_type": "code",
   "execution_count": 98,
   "metadata": {},
   "outputs": [
    {
     "data": {
      "text/plain": [
       "<matplotlib.legend.Legend at 0x7fed50698250>"
      ]
     },
     "execution_count": 98,
     "metadata": {},
     "output_type": "execute_result"
    },
    {
     "data": {
      "image/png": "[encoded data removed]",
      "text/plain": [
       "<Figure size 432x288 with 1 Axes>"
      ]
     },
     "metadata": {
      "needs_background": "light"
     },
     "output_type": "display_data"
    }
   ],
   "source": [
    "plt.plot(fpr, tpr, label=\"C={:.3f}\".format(0.1))\n",
    "close_zero = np.argmin(np.abs(thresholds))\n",
    "close_max = np.argmax(np.abs(thresholds))\n",
    "plt.legend(loc=4)"
   ]
  },
  {
   "cell_type": "code",
   "execution_count": 99,
   "metadata": {},
   "outputs": [
    {
     "name": "stdout",
     "output_type": "stream",
     "text": [
      "Confusion matrix: \n",
      " [[3882  550]\n",
      " [ 154  414]]\n"
     ]
    }
   ],
   "source": [
    "y_pred = np.where(best_model.decision_function(x_test) > -1, 1, 0)\n",
    "print('Confusion matrix: \\n', confusion_matrix(y_test, y_pred))"
   ]
  },
  {
   "cell_type": "markdown",
   "metadata": {},
   "source": [
    "* Conclusion: Depending upon the business context, we can use different thresholds to either lower false positives or false negatives. With our threashold, Approximately 77% of the total number of those who would subscribe for a term deposit are correctly classified, but out of 100 people that the model predicts to be future subscibers, only 40% actually subscribe. Without information regarding the cost to send targeted ads and the profit from a term deposit subscriber, it is difficult to say if this model should be used to target the potential customer."
   ]
  },
  {
   "cell_type": "code",
   "execution_count": null,
   "metadata": {},
   "outputs": [],
   "source": []
  }
 ],
 "metadata": {
  "kernelspec": {
   "display_name": "Python 3",
   "language": "python",
   "name": "python3"
  },
  "language_info": {
   "codemirror_mode": {
    "name": "ipython",
    "version": 3
   },
   "file_extension": ".py",
   "mimetype": "text/x-python",
   "name": "python",
   "nbconvert_exporter": "python",
   "pygments_lexer": "ipython3",
   "version": "3.8.5"
  }
 },
 "nbformat": 4,
 "nbformat_minor": 4
}
